{
 "cells": [
  {
   "cell_type": "markdown",
   "metadata": {},
   "source": [
    "# 项目五 逻辑回归"
   ]
  },
  {
   "cell_type": "markdown",
   "metadata": {},
   "source": [
    "## 项目实训"
   ]
  },
  {
   "cell_type": "markdown",
   "metadata": {},
   "source": [
    "### 任务一 逻辑回归算法预测考试是否及格"
   ]
  },
  {
   "cell_type": "markdown",
   "metadata": {},
   "source": [
    "#### 1. 数据准备：往年的调查结果数据"
   ]
  },
  {
   "cell_type": "code",
   "execution_count": 1,
   "metadata": {},
   "outputs": [
    {
     "name": "stdout",
     "output_type": "stream",
     "text": [
      "复习情况 X_train: \n",
      " [[0.  0. ]\n",
      " [2.  0.9]\n",
      " [3.  0.4]\n",
      " [4.  0.9]\n",
      " [5.  0.4]\n",
      " [6.  0.4]\n",
      " [6.  0.8]\n",
      " [6.  0.7]\n",
      " [7.  0.2]\n",
      " [7.5 0.8]\n",
      " [7.  0.9]\n",
      " [8.  0.1]\n",
      " [8.  0.6]\n",
      " [8.  0.8]]\n"
     ]
    }
   ],
   "source": [
    "import numpy as np\n",
    "# 训练数据集，格式为（时长，效率），其中时长单位为小时\n",
    "# 效率为[0,1]之间的小数，数值越大表示效率越高\n",
    "X_train = np.array([(0,0), (2,0.9), (3,0.4), (4,0.9), (5,0.4),\n",
    "              (6,0.4), (6,0.8), (6,0.7), (7,0.2), (7.5,0.8),\n",
    "              (7,0.9), (8,0.1), (8,0.6), (8,0.8)])\n",
    "# 0表示不及格，1表示及格\n",
    "y_train = np.array([0, 0, 0, 1, 0, 0, 1, 1, 0, 1, 1, 0, 1, 1])\n",
    "print('复习情况 X_train: \\n', X_train)"
   ]
  },
  {
   "cell_type": "markdown",
   "metadata": {},
   "source": [
    "#### 2. 创建并训练逻辑回归模型"
   ]
  },
  {
   "cell_type": "code",
   "execution_count": 2,
   "metadata": {},
   "outputs": [
    {
     "name": "stdout",
     "output_type": "stream",
     "text": [
      "测试模型得分： 0.8\n"
     ]
    }
   ],
   "source": [
    "from sklearn.linear_model import LogisticRegression\n",
    "# 创建并训练逻辑回归模型\n",
    "logistic = LogisticRegression(solver='lbfgs', C=10)\n",
    "logistic.fit(X_train, y_train)\n",
    "\n",
    "# 测试模型\n",
    "X_test = [(3,0.9), (8,0.5), (7,0.2), (4,0.5), (4,0.7)]\n",
    "y_test = [0, 1, 0, 0, 1]\n",
    "score = logistic.score(X_test, y_test)\n",
    "print('测试模型得分：', score)"
   ]
  },
  {
   "cell_type": "markdown",
   "metadata": {},
   "source": [
    "#### 3. 预测并输出预测结果"
   ]
  },
  {
   "cell_type": "code",
   "execution_count": 3,
   "metadata": {},
   "outputs": [
    {
     "name": "stdout",
     "output_type": "stream",
     "text": [
      "复习时长为：8.0，效率为：0.9\n",
      "不及格的概率为：0.03，及格的概率为：0.97\n",
      "综合判断期末考试结果：及格\n"
     ]
    }
   ],
   "source": [
    "# 预测并输出预测结果\n",
    "learning = np.array([(8, 0.9)])\n",
    "result = logistic.predict(learning)\n",
    "result_proba = logistic.predict_proba(learning)\n",
    "print('复习时长为：{0}，效率为：{1}'.format(learning[0,0], learning[0,1]))\n",
    "print('不及格的概率为：{0:.2f}，及格的概率为：{1:.2f}'.format(result_proba[0,0], result_proba[0,1]))\n",
    "print('综合判断期末考试结果：{}'.format('及格' if result==1 else '不及格'))"
   ]
  },
  {
   "cell_type": "markdown",
   "metadata": {},
   "source": [
    "### 任务二 逻辑回归算法实现鸢尾花分类"
   ]
  },
  {
   "cell_type": "markdown",
   "metadata": {},
   "source": [
    "#### 1. 准备数据集和必要的模块"
   ]
  },
  {
   "cell_type": "code",
   "execution_count": 4,
   "metadata": {},
   "outputs": [
    {
     "name": "stdout",
     "output_type": "stream",
     "text": [
      "训练集数据维度： (112, 4)\n",
      "测试集数据维度： (38, 4)\n",
      "目标分类标签取值为： [0 1 2]\n"
     ]
    }
   ],
   "source": [
    "# 导入必要的模块\n",
    "import numpy as np\n",
    "from sklearn.datasets import load_iris\n",
    "from sklearn.linear_model import LogisticRegression\n",
    "from sklearn.model_selection import train_test_split\n",
    "# 加载iris（鸢尾花）数据集\n",
    "iris = load_iris()\n",
    "X = iris.data\n",
    "y = iris.target\n",
    "# 拆分训练集和测试集\n",
    "X_train, X_test, y_train, y_test = train_test_split(X, y, random_state=8)\n",
    "print('训练集数据维度：', X_train.shape)\n",
    "print('测试集数据维度：', X_test.shape)\n",
    "print('目标分类标签取值为：', np.unique(y))"
   ]
  },
  {
   "cell_type": "markdown",
   "metadata": {},
   "source": [
    "#### 2. 创建逻辑回归模型对象并训练、评估模型"
   ]
  },
  {
   "cell_type": "code",
   "execution_count": 5,
   "metadata": {},
   "outputs": [
    {
     "name": "stdout",
     "output_type": "stream",
     "text": [
      "训练集得分：0.96\n",
      "测试集得分：0.95\n"
     ]
    }
   ],
   "source": [
    "# 创建逻辑回归模型对象\n",
    "clf1 = LogisticRegression(solver='liblinear', multi_class='ovr')\n",
    "# 训练模型\n",
    "clf1.fit(X_train, y_train)\n",
    "# 评估模型\n",
    "print('训练集得分：{:.2f}'.format(clf1.score(X_train, y_train)))\n",
    "print('测试集得分：{:.2f}'.format(clf1.score(X_test, y_test)))"
   ]
  },
  {
   "cell_type": "code",
   "execution_count": 6,
   "metadata": {},
   "outputs": [
    {
     "name": "stdout",
     "output_type": "stream",
     "text": [
      "训练集得分：0.97\n",
      "测试集得分：0.92\n"
     ]
    }
   ],
   "source": [
    "# 修改参数重新创建逻辑回归模型对象\n",
    "clf2 = LogisticRegression(solver='lbfgs', multi_class='multinomial')\n",
    "# 训练模型\n",
    "clf2.fit(X_train, y_train)\n",
    "# 评估模型\n",
    "print('训练集得分：{:.2f}'.format(clf2.score(X_train, y_train)))\n",
    "print('测试集得分：{:.2f}'.format(clf2.score(X_test, y_test)))"
   ]
  },
  {
   "cell_type": "markdown",
   "metadata": {},
   "source": [
    "## 项目拓展\n",
    "### 逻辑回归算法实战——判断肿瘤是良性还是恶性"
   ]
  },
  {
   "cell_type": "markdown",
   "metadata": {},
   "source": [
    "### 1. 导入威斯康辛乳腺肿瘤数据集"
   ]
  },
  {
   "cell_type": "code",
   "execution_count": 7,
   "metadata": {},
   "outputs": [
    {
     "name": "stdout",
     "output_type": "stream",
     "text": [
      "breast_cancer数据集的维度为： (569, 30)\n",
      "breast_cancer数据集的类别标签为： [0 1]\n",
      "肿瘤分类： ['malignant' 'benign']\n"
     ]
    }
   ],
   "source": [
    "# 导入breast_cancer[（美国）威斯康辛乳腺肿瘤]数据集\n",
    "from sklearn.datasets import load_breast_cancer\n",
    "# 加载breast_cancer数据集\n",
    "cancer = load_breast_cancer()\n",
    "# “data”是特征数据\n",
    "X = cancer.data\n",
    "# “target”是目标变量数据(肿瘤的类别标签)\n",
    "y = cancer.target\n",
    "# 查看特征数据的维度\n",
    "print('breast_cancer数据集的维度为：', X.shape)\n",
    "# 查看肿瘤的类别标签\n",
    "print('breast_cancer数据集的类别标签为：', np.unique(y))\n",
    "# 打印数据集中标注好的肿瘤分类\n",
    "print('肿瘤分类：', cancer['target_names'])"
   ]
  },
  {
   "cell_type": "markdown",
   "metadata": {},
   "source": [
    "### 2. 将breast_cancer数据集划分为训练集和测试集"
   ]
  },
  {
   "cell_type": "code",
   "execution_count": 8,
   "metadata": {},
   "outputs": [
    {
     "name": "stdout",
     "output_type": "stream",
     "text": [
      "训练集数据维度： (455, 30)\n",
      "训练集标签维度： (455,)\n",
      "测试集数据维度： (114, 30)\n",
      "测试集标签维度： (114,)\n"
     ]
    }
   ],
   "source": [
    "# 导入数据集拆分工具\n",
    "from sklearn.model_selection import train_test_split\n",
    "\n",
    "# 将数据集拆分为训练数据集和测试数据集\n",
    "X_train, X_test, y_train, y_test = train_test_split(X, y, test_size=0.2, random_state=23)\n",
    "\n",
    "# 输出训练数据集中特征向量的维度\n",
    "print('训练集数据维度：', X_train.shape)\n",
    "# 输出训练数据集中目标标签的维度\n",
    "print('训练集标签维度：', y_train.shape)\n",
    "# 输出测试数据集中特征向量的维度\n",
    "print('测试集数据维度：', X_test.shape)\n",
    "# 输出测试数据集中特征向量的维度\n",
    "print('测试集标签维度：', y_test.shape)"
   ]
  },
  {
   "cell_type": "markdown",
   "metadata": {},
   "source": [
    "### 3. 对数据集进行标准化处理"
   ]
  },
  {
   "cell_type": "code",
   "execution_count": 9,
   "metadata": {},
   "outputs": [
    {
     "name": "stdout",
     "output_type": "stream",
     "text": [
      "标准化前训练集数据的最小值和最大值：0.0, 3432.0\n",
      "标准化后训练集数据的最小值和最大值：-3.09, 11.68\n",
      "标准化前测试集数据的最小值和最大值：0.0, 4254.0\n",
      "标准化后测试集数据的最小值和最大值：-2.39, 12.08\n"
     ]
    }
   ],
   "source": [
    "# 导入StandardScaler\n",
    "from sklearn.preprocessing import StandardScaler\n",
    "# 对训练集进行拟合生成规则\n",
    "scaler = StandardScaler().fit(X_train)\n",
    "# 对训练集数据进行转换\n",
    "X_train_scaled = scaler.transform(X_train)\n",
    "# 对测试集数据进行转换\n",
    "X_test_scaled = scaler.transform(X_test)\n",
    "\n",
    "print('标准化前训练集数据的最小值和最大值：{0}, {1}'.format(X_train.min(), X_train.max()))\n",
    "print('标准化后训练集数据的最小值和最大值：{0:.2f}, {1:.2f}'.format(X_train_scaled.min(), X_train_scaled.max()))\n",
    "print('标准化前测试集数据的最小值和最大值：{0}, {1}'.format(X_test.min(), X_test.max()))\n",
    "print('标准化后测试集数据的最小值和最大值：{0:.2f}, {1:.2f}'.format(X_test_scaled.min(), X_test_scaled.max()))"
   ]
  },
  {
   "cell_type": "markdown",
   "metadata": {},
   "source": [
    "### 4. 构建LogisticRegression模型并训练模型"
   ]
  },
  {
   "cell_type": "code",
   "execution_count": 10,
   "metadata": {},
   "outputs": [
    {
     "name": "stdout",
     "output_type": "stream",
     "text": [
      "训练集得分：0.99\n"
     ]
    }
   ],
   "source": [
    "# 导入Logistic回归模型\n",
    "from sklearn.linear_model import LogisticRegression\n",
    "# 构建模型对象\n",
    "log_reg = LogisticRegression(solver='lbfgs')\n",
    "# 训练模型\n",
    "log_reg.fit(X_train_scaled, y_train)\n",
    "print('训练集得分：{:.2f}'.format(log_reg.score(X_train_scaled, y_train)))"
   ]
  },
  {
   "cell_type": "markdown",
   "metadata": {},
   "source": [
    "### 5. Logistic回归模型分析与评估"
   ]
  },
  {
   "cell_type": "code",
   "execution_count": 11,
   "metadata": {},
   "outputs": [
    {
     "name": "stdout",
     "output_type": "stream",
     "text": [
      "各特征的相关系数为：\n",
      " [[-0.27606602 -0.30310086 -0.29072665 -0.3524495  -0.08887332  0.69489667\n",
      "  -0.83159164 -0.90390551  0.04029888  0.36520447 -1.19757111  0.35202956\n",
      "  -0.74109251 -0.97521346 -0.27495612  0.6191506   0.25707841 -0.35592781\n",
      "   0.17637931  0.52153286 -0.87737574 -1.40343681 -0.76559961 -0.90697874\n",
      "  -0.79031648 -0.01037606 -0.93300924 -0.95154361 -0.90587541 -0.17442082]]\n",
      "模型的截距为： [0.10606283]\n",
      "模型的迭代次数为： [32]\n"
     ]
    }
   ],
   "source": [
    "# 查看模型各特征的相关系数、截距和迭代次数\n",
    "print('各特征的相关系数为：\\n', log_reg.coef_)\n",
    "print('模型的截距为：', log_reg.intercept_)\n",
    "print('模型的迭代次数为：', log_reg.n_iter_)"
   ]
  },
  {
   "cell_type": "code",
   "execution_count": 12,
   "metadata": {
    "scrolled": true
   },
   "outputs": [
    {
     "name": "stdout",
     "output_type": "stream",
     "text": [
      "测试集准确率为：0.98\n",
      "预测测试集前5个结果为： [1 0 0 1 0]\n",
      "测试集前5个对应类别的概率为：\n",
      " [[0.004 0.996]\n",
      " [0.54  0.46 ]\n",
      " [1.    0.   ]\n",
      " [0.034 0.966]\n",
      " [0.998 0.002]]\n"
     ]
    }
   ],
   "source": [
    "# 测试集的准确率\n",
    "test_score = log_reg.score(X_test_scaled, y_test)\n",
    "# 预测类别标签\n",
    "test_pred = log_reg.predict(X_test_scaled)\n",
    "# 类别的概率估计\n",
    "test_prob = log_reg.predict_proba(X_test_scaled)\n",
    "print('测试集准确率为：{:.2f}'.format(test_score))\n",
    "print('预测测试集前5个结果为：', test_pred[:5])\n",
    "print('测试集前5个对应类别的概率为：\\n', np.round(test_prob[:5], 3))"
   ]
  },
  {
   "cell_type": "code",
   "execution_count": null,
   "metadata": {},
   "outputs": [],
   "source": []
  }
 ],
 "metadata": {
  "kernelspec": {
   "display_name": "Python 3",
   "language": "python",
   "name": "python3"
  },
  "language_info": {
   "codemirror_mode": {
    "name": "ipython",
    "version": 3
   },
   "file_extension": ".py",
   "mimetype": "text/x-python",
   "name": "python",
   "nbconvert_exporter": "python",
   "pygments_lexer": "ipython3",
   "version": "3.7.4"
  },
  "toc": {
   "base_numbering": 1,
   "nav_menu": {},
   "number_sections": true,
   "sideBar": true,
   "skip_h1_title": false,
   "title_cell": "Table of Contents",
   "title_sidebar": "Contents",
   "toc_cell": false,
   "toc_position": {},
   "toc_section_display": true,
   "toc_window_display": false
  },
  "varInspector": {
   "cols": {
    "lenName": 16,
    "lenType": 16,
    "lenVar": 40
   },
   "kernels_config": {
    "python": {
     "delete_cmd_postfix": "",
     "delete_cmd_prefix": "del ",
     "library": "var_list.py",
     "varRefreshCmd": "print(var_dic_list())"
    },
    "r": {
     "delete_cmd_postfix": ") ",
     "delete_cmd_prefix": "rm(",
     "library": "var_list.r",
     "varRefreshCmd": "cat(var_dic_list()) "
    }
   },
   "types_to_exclude": [
    "module",
    "function",
    "builtin_function_or_method",
    "instance",
    "_Feature"
   ],
   "window_display": false
  }
 },
 "nbformat": 4,
 "nbformat_minor": 2
}
