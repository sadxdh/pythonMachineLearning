{
 "cells": [
  {
   "cell_type": "markdown",
   "metadata": {},
   "source": [
    "# 项目2 数据预处理"
   ]
  },
  {
   "cell_type": "markdown",
   "metadata": {},
   "source": [
    "## 项目实训"
   ]
  },
  {
   "cell_type": "markdown",
   "metadata": {},
   "source": [
    "### 任务一 数据标准化处理\n",
    "#### 使用StandardScaler进行数据预处理\n",
    "- StandardScaler类是一个用来将数据进行归一化和标准化的类。\n",
    "- 将数据按其属性（按列进行）减去平均值和缩放到单位方差来标准化特征。得到的结果是，对于每个属性/每列来说所有数据都聚集在0附近，标准差为1，使得新的X数据集方差为1，均值为0\n",
    "- 在进行标准化的过程中就将训练集的均值和方差当做是总体的均值和方差，因此对测试集使用训练集的均值和方差进行预处理。\n",
    "#### 适用于：如果数据的分布本身就服从正态分布，就可以用这个方法。"
   ]
  },
  {
   "cell_type": "code",
   "execution_count": 1,
   "metadata": {},
   "outputs": [
    {
     "name": "stdout",
     "output_type": "stream",
     "text": [
      "均值方差标准化后的数据：\n",
      " [[ 0.         -1.22474487  1.33630621]\n",
      " [ 1.22474487  0.         -0.26726124]\n",
      " [-1.22474487  1.22474487 -1.06904497]]\n",
      "StandardScaler标准差标准化后的数据：\n",
      " [[ 0.         -1.22474487  1.33630621]\n",
      " [ 1.22474487  0.         -0.26726124]\n",
      " [-1.22474487  1.22474487 -1.06904497]]\n"
     ]
    }
   ],
   "source": [
    "# StandardScaler类的使用\n",
    "from sklearn.preprocessing import StandardScaler  \n",
    "import numpy as np  \n",
    "X = np.array([[ 1., -1.,  2.],  \n",
    "              [ 2.,  0.,  0.],  \n",
    "              [ 0.,  1., -1.]])  \n",
    "# calculate mean  \n",
    "X_mean = X.mean(axis=0)  \n",
    "# calculate variance   \n",
    "X_std = X.std(axis=0)  \n",
    "# standardize X  \n",
    "X1 = (X-X_mean)/X_std  # 自己计算\n",
    "\n",
    "# 调用sklearn包的方法\n",
    "X_scale = StandardScaler().fit_transform(X)\n",
    "# 最终X1与X_scale等价\n",
    "print('均值方差标准化后的数据：\\n',X1)\n",
    "print('StandardScaler标准差标准化后的数据：\\n',X_scale)"
   ]
  },
  {
   "cell_type": "markdown",
   "metadata": {},
   "source": [
    "#### 1. 数据准备"
   ]
  },
  {
   "cell_type": "code",
   "execution_count": 2,
   "metadata": {},
   "outputs": [
    {
     "data": {
      "image/png": "[encoded data removed]",
      "text/plain": [
       "<Figure size 432x288 with 1 Axes>"
      ]
     },
     "metadata": {
      "needs_background": "light"
     },
     "output_type": "display_data"
    }
   ],
   "source": [
    "%matplotlib inline\n",
    "#导入绘图工具\n",
    "import matplotlib.pyplot as plt\n",
    "# 导入数据集生成工具\n",
    "from sklearn.datasets import make_blobs\n",
    "plt.rcParams['font.sans-serif'] = ['SimHei']   # 用来正常显示中文标签\n",
    "plt.rcParams['axes.unicode_minus'] = False     # 用来正常显示负号\n",
    "\n",
    "# 生成一个样本量为50，分类数为1，标准差为1的数据集\n",
    "X, y = make_blobs(n_samples=50, centers=1, cluster_std=2, random_state=8)\n",
    "# 用散点图绘制数据点\n",
    "plt.scatter(X[:, 0], X[:, 1], c='blue')\n",
    "plt.xlabel('特征1')\n",
    "plt.ylabel('特征2')\n",
    "plt.title('原始数据')\n",
    "plt.show()"
   ]
  },
  {
   "cell_type": "markdown",
   "metadata": {},
   "source": [
    "#### 2. 数据标准化"
   ]
  },
  {
   "cell_type": "code",
   "execution_count": 3,
   "metadata": {},
   "outputs": [
    {
     "data": {
      "image/png": "[encoded data removed]",
      "text/plain": [
       "<Figure size 432x288 with 1 Axes>"
      ]
     },
     "metadata": {
      "needs_background": "light"
     },
     "output_type": "display_data"
    }
   ],
   "source": [
    "# 导入StandardScaler\n",
    "from sklearn.preprocessing import StandardScaler\n",
    "# 使用StandardScaler进行数据处理\n",
    "scaler = StandardScaler().fit(X)\n",
    "X_1 = scaler.transform(X)\n",
    "# 也可以用fit_transform()实现\n",
    "# X_1 = StandardScaler().fit_transform(X)\n",
    "\n",
    "# 用散点图绘制经过预处理的数据点\n",
    "plt.scatter(X_1[:, 0], X_1[:, 1], c='blue')\n",
    "plt.xlabel('特征1')\n",
    "plt.ylabel('特征2')\n",
    "plt.title('均值方差标准化数据')\n",
    "plt.show()"
   ]
  },
  {
   "cell_type": "markdown",
   "metadata": {},
   "source": [
    "### 任务二 数据离差标准化处理\n",
    "- 将每个元素（特征，feature）转换成给定范围的值。\n",
    "- MinMaxScaler有一个重要参数\"feature_range\"，控制数据压缩到的范围，默认是[0,1]。\n",
    "#### 适用于数据在一个范围内分布的情况，在不涉及距离度量、协方差计算、数据不符合正太分布的时候，可以使用MinMaxScaler。"
   ]
  },
  {
   "cell_type": "code",
   "execution_count": 4,
   "metadata": {},
   "outputs": [
    {
     "data": {
      "image/png": "[encoded data removed]",
      "text/plain": [
       "<Figure size 432x288 with 1 Axes>"
      ]
     },
     "metadata": {
      "needs_background": "light"
     },
     "output_type": "display_data"
    }
   ],
   "source": [
    "# 导入MinMaxScaler\n",
    "from sklearn.preprocessing import MinMaxScaler\n",
    "# 使用MinMaxScaler进行数据预处理\n",
    "X_2 = MinMaxScaler().fit_transform(X)\n",
    "# 绘制散点图\n",
    "plt.scatter(X_2[:, 0], X_2[:, 1], c='blue')\n",
    "plt.xlabel('特征1')\n",
    "plt.ylabel('特征2')\n",
    "plt.title('离差标准化数据')\n",
    "plt.show()"
   ]
  },
  {
   "cell_type": "markdown",
   "metadata": {},
   "source": [
    "### 任务三 数据二值化处理\n",
    "- 特征的二值化主要是为了将数据特征转化为boolean变量\n",
    "- Binarizer也可以设置一个阈值，结果数据值大于阈值的为1，小于阈值的为0"
   ]
  },
  {
   "cell_type": "code",
   "execution_count": 5,
   "metadata": {},
   "outputs": [
    {
     "name": "stdout",
     "output_type": "stream",
     "text": [
      "二值化处理后的数据: \n",
      " [[1. 0. 1. 0.]\n",
      " [0. 1. 0. 1.]\n",
      " [0. 1. 0. 0.]]\n"
     ]
    }
   ],
   "source": [
    "import numpy as np\n",
    "# 导入Binarizer\n",
    "from sklearn.preprocessing import Binarizer\n",
    "data = np.array([[ 3, -1.5,  2, -5.4],\n",
    "                 [ 0,  4,  -0.3, 2.1],\n",
    "                 [ 1,  3.3, -1.9, -4.3]])\n",
    "# binarization\n",
    "data_binarized = Binarizer(threshold=1.4).transform(data)\n",
    "print(\"二值化处理后的数据: \\n\", data_binarized)"
   ]
  },
  {
   "cell_type": "markdown",
   "metadata": {},
   "source": [
    "### 任务四 数据归一化处理\n",
    "- normalizer 数据归一化使每个特征向量的值都缩放到相同的数值范围。归一化的形式有l1,l2范数等\n",
    "- sklearn.preprocessing.Normalizer(norm=’l2’, copy=True)\n",
    "    - norm：可以为l1、l2或max，默认为l2\n",
    "    - 若为l1时，样本各个特征值除以各个特征值的绝对值之和\n",
    "    - 若为l2时，样本各个特征值除以各个特征值的平方之和\n",
    "    - 若为max时，样本各个特征值除以样本中特征值最大的值\n",
    "    \n",
    "#### 归一化是将样本在向量空间模型上的一个转换，经常被使用在分类与聚类中。"
   ]
  },
  {
   "cell_type": "code",
   "execution_count": 6,
   "metadata": {},
   "outputs": [
    {
     "data": {
      "image/png": "[encoded data removed]",
      "text/plain": [
       "<Figure size 432x432 with 1 Axes>"
      ]
     },
     "metadata": {
      "needs_background": "light"
     },
     "output_type": "display_data"
    }
   ],
   "source": [
    "# 导入Normalizer\n",
    "from sklearn.preprocessing import Normalizer\n",
    "# 使用Normalizer进行数据预处理，默认为l2范数\n",
    "# 将所有样本的特征向量转化为欧几里得距离为1；通常在只想保留数据特征向量的方向，而忽略其数值的时候使用\n",
    "X_3 = Normalizer().fit_transform(X)\n",
    "# 绘制散点图\n",
    "plt.figure(figsize=(6, 6))\n",
    "plt.scatter(X_3[:, 0], X_3[:, 1], c='blue')\n",
    "plt.xlim(0, 1.1)\n",
    "plt.ylim(0, 1.1)\n",
    "plt.xlabel('特征1')\n",
    "plt.ylabel('特征2')\n",
    "plt.title('L2范数的归一化化处理')\n",
    "plt.show()"
   ]
  },
  {
   "cell_type": "code",
   "execution_count": 7,
   "metadata": {},
   "outputs": [
    {
     "data": {
      "image/png": "[encoded data removed]",
      "text/plain": [
       "<Figure size 432x432 with 1 Axes>"
      ]
     },
     "metadata": {
      "needs_background": "light"
     },
     "output_type": "display_data"
    }
   ],
   "source": [
    "# 修改norm参数为范数l1\n",
    "X_4 = Normalizer(norm='l1').fit_transform(X)\n",
    "# 绘制散点图\n",
    "plt.figure(figsize=(6, 6))\n",
    "plt.scatter(X_4[:, 0], X_4[:, 1], c='blue')\n",
    "plt.xlim(0, 1.1)\n",
    "plt.ylim(0, 1.1)\n",
    "plt.xlabel('特征1')\n",
    "plt.ylabel('特征2')\n",
    "plt.title('L1范数的归一化化处理')\n",
    "plt.show()"
   ]
  },
  {
   "cell_type": "markdown",
   "metadata": {},
   "source": [
    "### 任务五 独热编码处理\n",
    "- 独热编码（One-Hot Encoding）把特征向量的每个特征与特征的非重复总数相对应，通过one-of-k的形式对每个值进行编码，如果非重复计数的值是k，那么就把这个特征转换为只有一个值是1其他值都是0的k维向量。\n",
    "- OneHotEncoder 参数：\n",
    "    - categories： 表示特征的取值，该参数取值为list或者默认的’auto’\n",
    "    - sparse：若为True时，返回稀疏矩阵，否则返回数组，默认为True"
   ]
  },
  {
   "cell_type": "code",
   "execution_count": 8,
   "metadata": {},
   "outputs": [
    {
     "name": "stdout",
     "output_type": "stream",
     "text": [
      "编码后的数据: \n",
      " [[1. 0. 0. 0. 1. 0. 0.]\n",
      " [0. 1. 0. 0. 0. 0. 1.]\n",
      " [0. 0. 1. 1. 0. 0. 0.]\n",
      " [0. 1. 0. 0. 0. 1. 0.]]\n"
     ]
    }
   ],
   "source": [
    "import numpy as np\n",
    "# 导入OneHotEncoder\n",
    "from sklearn.preprocessing import OneHotEncoder\n",
    "data_type = np.array([[0, 1],\n",
    "                      [1, 3],\n",
    "                      [2, 0],\n",
    "                      [1, 2]])\n",
    "encoder = OneHotEncoder(categories='auto').fit(data_type)\n",
    "data_encoded = encoder.transform(data_type).toarray()\n",
    "print(\"编码后的数据: \\n\", data_encoded)"
   ]
  },
  {
   "cell_type": "markdown",
   "metadata": {},
   "source": [
    "#### 对数据进行“离散化处理”（装箱）\n",
    "\n",
    "- numpy.digitize(x, bins, right = False)\n",
    "- 该函数返回输入数组x中每个值所属的数组bins的区间索引。\n",
    "- 参数：\n",
    "    - x : numpy数组\n",
    "    - bins : 一维单调数组，必须是升序或者降序\n",
    "    - right：间隔是否包含最右\n",
    "- 返回值：x在bins中的位置。"
   ]
  },
  {
   "cell_type": "code",
   "execution_count": 9,
   "metadata": {},
   "outputs": [
    {
     "name": "stdout",
     "output_type": "stream",
     "text": [
      "装箱数据范围：\n",
      "[-5. -3. -1.  1.  3.  5.]\n",
      "\n",
      "数据点的特征值：\n",
      "[-1.1522688   3.59707847  4.44199636  2.02824894  1.33634097  1.05961282\n",
      " -2.99873157 -1.12612112 -2.41016836 -4.25392719 -2.19043025 -0.61565849\n",
      " -0.16750956  3.68489486  0.29629384  0.62263144 -0.28944656  1.88842007\n",
      "  0.04828605  3.23175755]\n",
      "\n",
      "数据点所在的箱子：\n",
      "[2 5 5 4 4 4 2 2 2 1 2 3 3 5 3 3 3 4 3 5]\n"
     ]
    }
   ],
   "source": [
    "import numpy as np\n",
    "# 定义一个随机数的数组\n",
    "np.random.seed(38)\n",
    "arr = np.random.uniform(-5, 5, size=20)\n",
    "# 设置箱体数为5\n",
    "bins = np.linspace(-5, 5, 6)\n",
    "# 将数据进行装箱操作\n",
    "target_bin = np.digitize(arr, bins=bins)\n",
    "# 打印装箱数据范围\n",
    "print('装箱数据范围：\\n{}'.format(bins))\n",
    "print('\\n数据点的特征值：\\n{}'.format(arr))\n",
    "print('\\n数据点所在的箱子：\\n{}'.format(target_bin))"
   ]
  },
  {
   "cell_type": "markdown",
   "metadata": {},
   "source": [
    "#### 将已经装箱的数据进行OneHotEncoder独热编码"
   ]
  },
  {
   "cell_type": "code",
   "execution_count": 10,
   "metadata": {},
   "outputs": [
    {
     "name": "stdout",
     "output_type": "stream",
     "text": [
      "装箱编码后的数据形态：(20, 5)\n",
      "\n",
      "装箱编码后的数据值：\n",
      "[[0. 1. 0. 0. 0.]\n",
      " [0. 0. 0. 0. 1.]\n",
      " [0. 0. 0. 0. 1.]\n",
      " [0. 0. 0. 1. 0.]\n",
      " [0. 0. 0. 1. 0.]\n",
      " [0. 0. 0. 1. 0.]\n",
      " [0. 1. 0. 0. 0.]\n",
      " [0. 1. 0. 0. 0.]\n",
      " [0. 1. 0. 0. 0.]\n",
      " [1. 0. 0. 0. 0.]\n",
      " [0. 1. 0. 0. 0.]\n",
      " [0. 0. 1. 0. 0.]\n",
      " [0. 0. 1. 0. 0.]\n",
      " [0. 0. 0. 0. 1.]\n",
      " [0. 0. 1. 0. 0.]\n",
      " [0. 0. 1. 0. 0.]\n",
      " [0. 0. 1. 0. 0.]\n",
      " [0. 0. 0. 1. 0.]\n",
      " [0. 0. 1. 0. 0.]\n",
      " [0. 0. 0. 0. 1.]]\n"
     ]
    }
   ],
   "source": [
    "# 导入独热编码\n",
    "from sklearn.preprocessing import OneHotEncoder\n",
    "target_bin = target_bin.reshape(-1, 1)\n",
    "onehot = OneHotEncoder(sparse=False, categories='auto')\n",
    "onehot.fit(target_bin)\n",
    "# 使用独热编码转化数据\n",
    "arr_in_bin = onehot.transform(target_bin)\n",
    "# 打印结果\n",
    "print('装箱编码后的数据形态：{}'.format(arr_in_bin.shape))\n",
    "print('\\n装箱编码后的数据值：\\n{}'.format(arr_in_bin))"
   ]
  },
  {
   "cell_type": "markdown",
   "metadata": {},
   "source": [
    "### 任务六 数据PCA降维处理\n",
    "- PCA通过计算协方差矩阵的特征值和相应的特征向量，在高维数据中找到最大方差的方向，并将数据映射到一个维度不大于原始数据的新的子空间中。"
   ]
  },
  {
   "cell_type": "markdown",
   "metadata": {},
   "source": [
    "#### 1. 导入iris（鸢尾花）数据集"
   ]
  },
  {
   "cell_type": "code",
   "execution_count": 11,
   "metadata": {},
   "outputs": [
    {
     "name": "stdout",
     "output_type": "stream",
     "text": [
      "iris数据集的维度为： (150, 4)\n"
     ]
    }
   ],
   "source": [
    "# 导入iris（鸢尾花）数据集\n",
    "from sklearn.datasets import load_iris\n",
    "# 加载iris数据集\n",
    "iris = load_iris()\n",
    "X = iris.data\n",
    "print('iris数据集的维度为：', X.shape)"
   ]
  },
  {
   "cell_type": "code",
   "execution_count": 12,
   "metadata": {},
   "outputs": [
    {
     "name": "stdout",
     "output_type": "stream",
     "text": [
      "iris数据集的前5行数据为：\n",
      " [[5.1 3.5 1.4 0.2]\n",
      " [4.9 3.  1.4 0.2]\n",
      " [4.7 3.2 1.3 0.2]\n",
      " [4.6 3.1 1.5 0.2]\n",
      " [5.  3.6 1.4 0.2]]\n"
     ]
    }
   ],
   "source": [
    "print('iris数据集的前5行数据为：\\n', X[:5])"
   ]
  },
  {
   "cell_type": "markdown",
   "metadata": {},
   "source": [
    "#### 2. 指定特征数的PCA降维"
   ]
  },
  {
   "cell_type": "code",
   "execution_count": 13,
   "metadata": {},
   "outputs": [
    {
     "name": "stdout",
     "output_type": "stream",
     "text": [
      "iris数据集进行指定特征数的降维后的维度为： (150, 3)\n"
     ]
    }
   ],
   "source": [
    "# 导入PCA\n",
    "from sklearn.decomposition import PCA\n",
    "# 指定保留的特征数为3\n",
    "pca_num = PCA(n_components=3)\n",
    "# 训练PCA模型\n",
    "pca_num.fit(X)\n",
    "# 对样本数据进行PCA降维\n",
    "X_pca1 = pca_num.transform(X)\n",
    "# 查看降维结果\n",
    "print('iris数据集进行指定特征数的降维后的维度为：', X_pca1.shape)"
   ]
  },
  {
   "cell_type": "code",
   "execution_count": 14,
   "metadata": {},
   "outputs": [
    {
     "name": "stdout",
     "output_type": "stream",
     "text": [
      "指定特征数的降维后iris数据集的前5行数据为：\n",
      " [[-2.68412563  0.31939725 -0.02791483]\n",
      " [-2.71414169 -0.17700123 -0.21046427]\n",
      " [-2.88899057 -0.14494943  0.01790026]\n",
      " [-2.74534286 -0.31829898  0.03155937]\n",
      " [-2.72871654  0.32675451  0.09007924]]\n"
     ]
    }
   ],
   "source": [
    "print('指定特征数的降维后iris数据集的前5行数据为：\\n', X_pca1[:5])"
   ]
  },
  {
   "cell_type": "code",
   "execution_count": 15,
   "metadata": {},
   "outputs": [
    {
     "name": "stdout",
     "output_type": "stream",
     "text": [
      "指定特征数的降维后的最大方差的成分：\n",
      "component1: [0.36, -0.08, 0.86, 0.36]\n",
      "component2: [0.66, 0.73, -0.17, -0.08]\n",
      "component3: [-0.58, 0.6, 0.08, 0.55]\n"
     ]
    }
   ],
   "source": [
    "# 查看原始特征与PCA主成分之间的关系\n",
    "import numpy as np\n",
    "print('指定特征数的降维后的最大方差的成分：')\n",
    "for i in range(pca_num.components_.shape[0]):\n",
    "    arr = np.around(pca_num.components_[i], 2)\n",
    "    print('component{0}: {1}'.format((i+1), [x for x in arr]))"
   ]
  },
  {
   "cell_type": "code",
   "execution_count": 16,
   "metadata": {},
   "outputs": [
    {
     "name": "stdout",
     "output_type": "stream",
     "text": [
      "指定特征数的降维后的各主成分的方差为： [4.23, 0.24, 0.08]\n",
      "指定特征数的降维后的各主成分的方差百分比为： [0.92, 0.05, 0.02]\n"
     ]
    }
   ],
   "source": [
    "# 查看降维后的各主成分的方差值和方差占比\n",
    "var = np.around(pca_num.explained_variance_, 2)\n",
    "print('指定特征数的降维后的各主成分的方差为：', [x for x in var])\n",
    "var_ratio = np.round(pca_num.explained_variance_ratio_, 2)\n",
    "print('指定特征数的降维后的各主成分的方差百分比为：', [x for x in var_ratio])"
   ]
  },
  {
   "cell_type": "markdown",
   "metadata": {},
   "source": [
    "#### 3. 指定方差百分比的PCA降维"
   ]
  },
  {
   "cell_type": "code",
   "execution_count": 17,
   "metadata": {},
   "outputs": [
    {
     "name": "stdout",
     "output_type": "stream",
     "text": [
      "iris数据集进行指定方差百分比的降维后的维度为： (150, 2)\n"
     ]
    }
   ],
   "source": [
    "# 指定保留的方差百分比为0.95\n",
    "pca_per = PCA(n_components=0.95)\n",
    "# 训练PCA模型\n",
    "pca_per.fit(X)\n",
    "# 对样本数据进行PCA降维\n",
    "X_pca2 = pca_per.transform(X)\n",
    "# 查看降维结果\n",
    "print('iris数据集进行指定方差百分比的降维后的维度为：', X_pca2.shape)"
   ]
  },
  {
   "cell_type": "code",
   "execution_count": 18,
   "metadata": {},
   "outputs": [
    {
     "name": "stdout",
     "output_type": "stream",
     "text": [
      "指定方差百分比的降维后iris数据集的前5行数据为：\n",
      " [[-2.68412563  0.31939725]\n",
      " [-2.71414169 -0.17700123]\n",
      " [-2.88899057 -0.14494943]\n",
      " [-2.74534286 -0.31829898]\n",
      " [-2.72871654  0.32675451]]\n"
     ]
    }
   ],
   "source": [
    "print('指定方差百分比的降维后iris数据集的前5行数据为：\\n', X_pca2[:5])"
   ]
  },
  {
   "cell_type": "code",
   "execution_count": 19,
   "metadata": {},
   "outputs": [
    {
     "name": "stdout",
     "output_type": "stream",
     "text": [
      "指定方差百分比降维后的最大方差的成分：\n",
      "component1: [0.36, -0.08, 0.86, 0.36]\n",
      "component2: [0.66, 0.73, -0.17, -0.08]\n"
     ]
    }
   ],
   "source": [
    "# 查看原始特征与PCA主成分之间的关系\n",
    "print('指定方差百分比降维后的最大方差的成分：')\n",
    "for i in range(pca_per.components_.shape[0]):\n",
    "    arr = np.round(pca_per.components_[i], 2)\n",
    "    print('component{0}: {1}'.format((i+1), [x for x in arr]))"
   ]
  },
  {
   "cell_type": "code",
   "execution_count": 20,
   "metadata": {},
   "outputs": [
    {
     "name": "stdout",
     "output_type": "stream",
     "text": [
      "指定方差百分比的降维后的各主成分的方差为： [4.23, 0.24]\n",
      "指定方差百分比的降维后的各主成分的方差百分比为： [0.92, 0.05]\n"
     ]
    }
   ],
   "source": [
    "# 查看降维后的各主成分的方差值和方差占比\n",
    "var = np.around(pca_per.explained_variance_, 2)\n",
    "print('指定方差百分比的降维后的各主成分的方差为：', [x for x in var])\n",
    "var_ratio = np.round(pca_per.explained_variance_ratio_, 2)\n",
    "print('指定方差百分比的降维后的各主成分的方差百分比为：', [x for x in var_ratio])"
   ]
  },
  {
   "cell_type": "markdown",
   "metadata": {},
   "source": [
    "## 项目拓展\n",
    "### 数据预处理实战——wine酒数据集拆分、标准化和降维处理"
   ]
  },
  {
   "cell_type": "markdown",
   "metadata": {},
   "source": [
    "### 1. 导入wine酒数据集"
   ]
  },
  {
   "cell_type": "code",
   "execution_count": 21,
   "metadata": {},
   "outputs": [
    {
     "name": "stdout",
     "output_type": "stream",
     "text": [
      "wine数据集的维度为： (178, 13)\n",
      "wine数据集的类别标签为： [0 1 2]\n"
     ]
    }
   ],
   "source": [
    "# 导入wine酒模块\n",
    "from sklearn.datasets import load_wine\n",
    "import numpy as np\n",
    "# 加载wine数据集\n",
    "wine = load_wine()\n",
    "# “data”是特征数据\n",
    "X = wine.data\n",
    "# “target”是目标变量数据(酒的类别标签)\n",
    "y = wine.target\n",
    "# 查看特征数据的维度\n",
    "print('wine数据集的维度为：', X.shape)\n",
    "# 查看酒的类别\n",
    "print('wine数据集的类别标签为：', np.unique(y))"
   ]
  },
  {
   "cell_type": "markdown",
   "metadata": {},
   "source": [
    "### 2. 将wine数据集划分为训练集和测试集"
   ]
  },
  {
   "cell_type": "code",
   "execution_count": 22,
   "metadata": {},
   "outputs": [
    {
     "name": "stdout",
     "output_type": "stream",
     "text": [
      "训练集数据维度： (133, 13)\n",
      "训练集标签维度： (133,)\n",
      "测试集数据维度： (45, 13)\n",
      "测试集标签维度： (45,)\n"
     ]
    }
   ],
   "source": [
    "# 导入数据集拆分工具\n",
    "from sklearn.model_selection import train_test_split\n",
    "\n",
    "# 将数据集拆分为训练数据集和测试数据集\n",
    "X_train, X_test, y_train, y_test = train_test_split(X, y, random_state=8)\n",
    "\n",
    "# 输出训练数据集中特征向量的维度\n",
    "print('训练集数据维度：', X_train.shape)\n",
    "# 输出训练数据集中目标标签的维度\n",
    "print('训练集标签维度：', y_train.shape)\n",
    "# 输出测试数据集中特征向量的维度\n",
    "print('测试集数据维度：', X_test.shape)\n",
    "# 输出测试数据集中特征向量的维度\n",
    "print('测试集标签维度：', y_test.shape)"
   ]
  },
  {
   "cell_type": "markdown",
   "metadata": {},
   "source": [
    "### 3. 对数据集进行标准化处理"
   ]
  },
  {
   "cell_type": "code",
   "execution_count": 23,
   "metadata": {},
   "outputs": [
    {
     "name": "stdout",
     "output_type": "stream",
     "text": [
      "标准化前训练集数据的最小值和最大值：0.13, 1680.0\n",
      "标准化后训练集数据的最小值和最大值：-3.93, 4.46\n",
      "标准化前测试集数据的最小值和最大值：0.14, 1510.0\n",
      "标准化后测试集数据的最小值和最大值：-2.60, 3.68\n"
     ]
    }
   ],
   "source": [
    "# 导入StandardScaler\n",
    "from sklearn.preprocessing import StandardScaler\n",
    "# 对训练集进行拟合生成规则\n",
    "scaler = StandardScaler().fit(X_train)\n",
    "# 对训练集数据进行转换\n",
    "X_train_scaled = scaler.transform(X_train)\n",
    "# 对测试集数据进行转换\n",
    "X_test_scaled = scaler.transform(X_test)\n",
    "\n",
    "print('标准化前训练集数据的最小值和最大值：{0}, {1}'.format(X_train.min(), X_train.max()))\n",
    "print('标准化后训练集数据的最小值和最大值：{0:.2f}, {1:.2f}'.format(X_train_scaled.min(), X_train_scaled.max()))\n",
    "print('标准化前测试集数据的最小值和最大值：{0}, {1}'.format(X_test.min(), X_test.max()))\n",
    "print('标准化后测试集数据的最小值和最大值：{0:.2f}, {1:.2f}'.format(X_test_scaled.min(), X_test_scaled.max()))"
   ]
  },
  {
   "cell_type": "markdown",
   "metadata": {},
   "source": [
    "### 4. 对数据集进行降维处理"
   ]
  },
  {
   "cell_type": "code",
   "execution_count": 24,
   "metadata": {},
   "outputs": [
    {
     "name": "stdout",
     "output_type": "stream",
     "text": [
      "降维后训练集的维度为： (133, 2)\n",
      "降维后测试集的维度为： (45, 2)\n"
     ]
    }
   ],
   "source": [
    "# 导入PCA\n",
    "from sklearn.decomposition import PCA\n",
    "# 设置主成分数量为2\n",
    "pca = PCA(n_components=2)\n",
    "# 对标准化后的训练集进行拟合生成规则\n",
    "pca.fit(X_train_scaled)\n",
    "# 对标准化后的训练集数据进行PCA降维\n",
    "X_train_pca = pca.transform(X_train_scaled)\n",
    "# 对标准化后的测试集数据进行PCA降维\n",
    "X_test_pca = pca.transform(X_test_scaled)\n",
    "\n",
    "print('降维后训练集的维度为：', X_train_pca.shape)\n",
    "print('降维后测试集的维度为：', X_test_pca.shape)"
   ]
  },
  {
   "cell_type": "markdown",
   "metadata": {},
   "source": [
    "### 5. wine数据集可视化"
   ]
  },
  {
   "cell_type": "code",
   "execution_count": 25,
   "metadata": {},
   "outputs": [
    {
     "data": {
      "image/png": "[encoded data removed]",
      "text/plain": [
       "<Figure size 576x432 with 1 Axes>"
      ]
     },
     "metadata": {
      "needs_background": "light"
     },
     "output_type": "display_data"
    }
   ],
   "source": [
    "%matplotlib inline\n",
    "import numpy as np\n",
    "import matplotlib.pyplot as plt\n",
    "\n",
    "plt.rcParams['font.sans-serif'] = ['SimHei']   # 用来正常显示中文标签\n",
    "plt.rcParams['axes.unicode_minus'] = False     # 用来正常显示负号\n",
    "\n",
    "# 绘制wine数据集图形\n",
    "plt.figure(figsize=(8, 6))\n",
    "for i, color, name in zip(np.unique(y), ['r','g','b'], wine.target_names):\n",
    "    # 绘制降维后的训练集样本图形\n",
    "    plt.scatter(X_train_pca[y_train==i,0], X_train_pca[y_train==i,1],\n",
    "                c=color, marker='o', label='类别'+name+'训练集')\n",
    "    # 绘制降维后的测试集样本图形\n",
    "    plt.scatter(X_test_pca[y_test==i,0], X_test_pca[y_test==i,1],\n",
    "                c=color, marker='*', label='类别'+name+'测试集')\n",
    "\n",
    "plt.xlabel(\"成分1\")\n",
    "plt.ylabel(\"成分2\")\n",
    "plt.legend(loc='best')\n",
    "plt.show()"
   ]
  },
  {
   "cell_type": "code",
   "execution_count": null,
   "metadata": {},
   "outputs": [],
   "source": []
  }
 ],
 "metadata": {
  "kernelspec": {
   "display_name": "Python 3",
   "language": "python",
   "name": "python3"
  },
  "language_info": {
   "codemirror_mode": {
    "name": "ipython",
    "version": 3
   },
   "file_extension": ".py",
   "mimetype": "text/x-python",
   "name": "python",
   "nbconvert_exporter": "python",
   "pygments_lexer": "ipython3",
   "version": "3.7.4"
  },
  "toc": {
   "base_numbering": 1,
   "nav_menu": {},
   "number_sections": true,
   "sideBar": true,
   "skip_h1_title": false,
   "title_cell": "Table of Contents",
   "title_sidebar": "Contents",
   "toc_cell": false,
   "toc_position": {},
   "toc_section_display": true,
   "toc_window_display": true
  },
  "varInspector": {
   "cols": {
    "lenName": 16,
    "lenType": 16,
    "lenVar": 40
   },
   "kernels_config": {
    "python": {
     "delete_cmd_postfix": "",
     "delete_cmd_prefix": "del ",
     "library": "var_list.py",
     "varRefreshCmd": "print(var_dic_list())"
    },
    "r": {
     "delete_cmd_postfix": ") ",
     "delete_cmd_prefix": "rm(",
     "library": "var_list.r",
     "varRefreshCmd": "cat(var_dic_list()) "
    }
   },
   "types_to_exclude": [
    "module",
    "function",
    "builtin_function_or_method",
    "instance",
    "_Feature"
   ],
   "window_display": false
  }
 },
 "nbformat": 4,
 "nbformat_minor": 2
}
