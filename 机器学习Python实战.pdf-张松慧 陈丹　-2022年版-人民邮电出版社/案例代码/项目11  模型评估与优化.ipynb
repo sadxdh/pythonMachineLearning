{
 "cells": [
  {
   "cell_type": "markdown",
   "metadata": {},
   "source": [
    "# 项目11 模型评估与优化"
   ]
  },
  {
   "cell_type": "markdown",
   "metadata": {},
   "source": [
    "## 项目实训"
   ]
  },
  {
   "cell_type": "markdown",
   "metadata": {},
   "source": [
    "### 任务一 使用交叉验证评估模型"
   ]
  },
  {
   "cell_type": "markdown",
   "metadata": {},
   "source": [
    "#### 1. 导入数据集"
   ]
  },
  {
   "cell_type": "code",
   "execution_count": 16,
   "metadata": {},
   "outputs": [],
   "source": [
    "from sklearn.datasets import load_iris\n",
    "import numpy as np\n",
    "iris = load_iris()"
   ]
  },
  {
   "cell_type": "markdown",
   "metadata": {},
   "source": [
    "#### 2. 构建分类模型"
   ]
  },
  {
   "cell_type": "code",
   "execution_count": 17,
   "metadata": {},
   "outputs": [],
   "source": [
    "from sklearn.svm import SVC\n",
    "from sklearn.model_selection import StratifiedKFold\n",
    "from sklearn.model_selection import cross_val_score\n",
    "svc = SVC(kernel='linear')\n",
    "seed=7\n",
    "np.random.seed(seed)"
   ]
  },
  {
   "cell_type": "markdown",
   "metadata": {},
   "source": [
    "#### 3. 8折交叉验证"
   ]
  },
  {
   "cell_type": "code",
   "execution_count": 18,
   "metadata": {},
   "outputs": [
    {
     "name": "stdout",
     "output_type": "stream",
     "text": [
      "交叉验证得分：[1.         1.         0.94736842 1.         0.84210526 1.\n",
      " 0.94444444 1.        ]\n"
     ]
    }
   ],
   "source": [
    "kfold=StratifiedKFold(n_splits=8,shuffle=True,random_state=seed)\n",
    "score = cross_val_score(svc,iris.data,iris.target,cv=kfold)\n",
    "print('交叉验证得分：{}'.format(score))"
   ]
  },
  {
   "cell_type": "markdown",
   "metadata": {},
   "source": [
    "#### 4. 8折交叉验证评价得分"
   ]
  },
  {
   "cell_type": "code",
   "execution_count": 19,
   "metadata": {},
   "outputs": [
    {
     "name": "stdout",
     "output_type": "stream",
     "text": [
      "交叉验证平均分：0.967\n"
     ]
    }
   ],
   "source": [
    "print('交叉验证平均分：{:.3f}'.format(score.mean()))"
   ]
  },
  {
   "cell_type": "markdown",
   "metadata": {},
   "source": [
    "#### 5. 10折交叉验证"
   ]
  },
  {
   "cell_type": "code",
   "execution_count": 20,
   "metadata": {},
   "outputs": [
    {
     "name": "stdout",
     "output_type": "stream",
     "text": [
      "交叉验证得分：[0.93333333 1.         1.         0.93333333 1.         0.93333333\n",
      " 1.         1.         0.93333333 1.        ]\n"
     ]
    }
   ],
   "source": [
    "#设置n_splits参数为10\n",
    "kfold=StratifiedKFold(n_splits=10,shuffle=True,random_state=seed)\n",
    "score = cross_val_score(svc,iris.data,iris.target,cv=kfold)\n",
    "print('交叉验证得分：{}'.format(score))"
   ]
  },
  {
   "cell_type": "markdown",
   "metadata": {},
   "source": [
    "#### 6. 10折交叉验证平均得分"
   ]
  },
  {
   "cell_type": "code",
   "execution_count": 21,
   "metadata": {},
   "outputs": [
    {
     "name": "stdout",
     "output_type": "stream",
     "text": [
      "交叉验证平均得分：0.973\n"
     ]
    }
   ],
   "source": [
    "print('交叉验证平均得分：{:.3f}'.format(score.mean()))"
   ]
  },
  {
   "cell_type": "markdown",
   "metadata": {},
   "source": [
    "### 任务二 使用网络搜索算法进行模型调参"
   ]
  },
  {
   "cell_type": "markdown",
   "metadata": {},
   "source": [
    "#### 1. 网络搜索算法"
   ]
  },
  {
   "cell_type": "code",
   "execution_count": 22,
   "metadata": {},
   "outputs": [
    {
     "name": "stdout",
     "output_type": "stream",
     "text": [
      "模型最高分:0.974\n",
      "最优参数:{'gamma': 0.01, 'C': 10}\n"
     ]
    }
   ],
   "source": [
    "from sklearn.datasets import load_iris\n",
    "from sklearn.svm import SVC\n",
    "from sklearn.model_selection import train_test_split\n",
    "iris = load_iris()\n",
    "X_train,X_test,y_train,y_test =train_test_split(iris.data,iris.target,\n",
    "                                                random_state=0)\n",
    "best_score = 0\n",
    "for gamma in [0.001,0.01,0.1,1,10]:\n",
    "    for C in [0.001,0.01,0.1,1,10]:\n",
    "        svm = SVC(gamma=gamma,C=C)\n",
    "        svm.fit(X_train,y_train)\n",
    "        score = svm.score(X_test,y_test)\n",
    "        if score > best_score:\n",
    "            best_score = score\n",
    "            best_params = {'gamma':gamma,'C':C}\n",
    "\n",
    "print(\"模型最高分:{:.3f}\".format(best_score))\n",
    "print(\"最优参数:{}\".format(best_params))"
   ]
  },
  {
   "cell_type": "markdown",
   "metadata": {},
   "source": [
    "#### 修改参数"
   ]
  },
  {
   "cell_type": "code",
   "execution_count": 23,
   "metadata": {},
   "outputs": [
    {
     "name": "stdout",
     "output_type": "stream",
     "text": [
      "模型最高分:0.921\n",
      "最优参数:{'gamma': 0.01, 'C': 10}\n"
     ]
    }
   ],
   "source": [
    "from sklearn.datasets import load_iris\n",
    "from sklearn.svm import SVC\n",
    "from sklearn.model_selection import train_test_split\n",
    "\n",
    "iris = load_iris()\n",
    "X_train,X_test,y_train,y_test =train_test_split(iris.data,iris.target,\n",
    "                                                random_state=7)\n",
    "best_score = 0\n",
    "for gamma in [0.001,0.01,0.1,1,10]:\n",
    "    for C in [0.001,0.01,0.1,1,10]:\n",
    "        svm = SVC(gamma=gamma,C=C)\n",
    "        svm.fit(X_train,y_train)\n",
    "        score = svm.score(X_test,y_test)\n",
    "        if score > best_score:\n",
    "            best_score = score\n",
    "            best_params = {'gamma':gamma,'C':C}\n",
    "\n",
    "print(\"模型最高分:{:.3f}\".format(best_score))\n",
    "print(\"最优参数:{}\".format(best_params))"
   ]
  },
  {
   "cell_type": "markdown",
   "metadata": {},
   "source": [
    "#### 2. 与交叉验证结合的网络搜索算法"
   ]
  },
  {
   "cell_type": "code",
   "execution_count": 24,
   "metadata": {},
   "outputs": [
    {
     "name": "stdout",
     "output_type": "stream",
     "text": [
      "模型最高分:0.974\n",
      "最优参数:{'C': 10, 'gamma': 0.1}\n"
     ]
    }
   ],
   "source": [
    "from sklearn.model_selection import GridSearchCV\n",
    "from sklearn.datasets import load_iris\n",
    "from sklearn.svm import SVC\n",
    "from sklearn.model_selection import train_test_split\n",
    "\n",
    "iris = load_iris()\n",
    "\n",
    "#要调整的参数\n",
    "grid = {\"gamma\":[0.001,0.01,0.1,1,10],\n",
    "             \"C\":[0.001,0.01,0.1,1,10]}\n",
    "\n",
    "#定义网络搜索算法中使用的模型和参数\n",
    "grid_search = GridSearchCV(SVC(),grid,cv=5) \n",
    "X_train,X_test,y_train,y_test =train_test_split(iris.data,iris.target,\n",
    "                                                random_state=10)\n",
    "\n",
    "#搜索最优参数\n",
    "grid_search.fit(X_train,y_train) \n",
    "\n",
    "#输出结果\n",
    "print(\"模型最高分:{:.3f}\".format(grid_search.score(X_test,y_test)))\n",
    "print(\"最优参数:{}\".format(grid_search.best_params_))"
   ]
  },
  {
   "cell_type": "markdown",
   "metadata": {},
   "source": [
    "#### 通过GridSearchCV搜索最优参数"
   ]
  },
  {
   "cell_type": "code",
   "execution_count": 25,
   "metadata": {},
   "outputs": [
    {
     "name": "stdout",
     "output_type": "stream",
     "text": [
      "在测试集上的最高分： 0.9473684210526315\n",
      "在交叉验证中的最高分： 0.9821428571428571\n",
      "最优参数： {'n_neighbors': 3}\n"
     ]
    }
   ],
   "source": [
    "from sklearn.datasets import load_iris\n",
    "from  sklearn.model_selection import train_test_split\n",
    "from sklearn.neighbors import KNeighborsClassifier\n",
    "from sklearn.model_selection import GridSearchCV\n",
    "def knn():\n",
    "    iris = load_iris()\n",
    "   \n",
    "    X_train,X_test,y_train,y_test =train_test_split(iris.data,iris.target,\n",
    "                                                    random_state=6)\n",
    "    \n",
    "    k = KNeighborsClassifier()\n",
    "    param = {\"n_neighbors\" : [3,5,7,9]}\n",
    "\n",
    "    grid_search = GridSearchCV(k,param_grid=param,cv=7)\n",
    "    grid_search.fit(X_train,y_train)\n",
    "\n",
    "    print(\"在测试集上的最高分：\", grid_search.score(X_test,y_test))\n",
    "    print(\"在交叉验证中的最高分：\", grid_search.best_score_)\n",
    "    print(\"最优参数：\", grid_search.best_params_)\n",
    "\n",
    "    return None\n",
    "if __name__ == \"__main__\":\n",
    "    knn()"
   ]
  },
  {
   "cell_type": "markdown",
   "metadata": {},
   "source": [
    "#### 3. 分类模型的可信度评估"
   ]
  },
  {
   "cell_type": "code",
   "execution_count": 26,
   "metadata": {},
   "outputs": [
    {
     "data": {
      "image/png": "[encoded data removed]",
      "text/plain": [
       "<Figure size 432x288 with 1 Axes>"
      ]
     },
     "metadata": {
      "needs_background": "light"
     },
     "output_type": "display_data"
    }
   ],
   "source": [
    "from sklearn.datasets import make_blobs\n",
    "import matplotlib.pyplot as plt\n",
    "X, y=make_blobs(n_samples=300, random_state=1,centers=2,cluster_std=5)\n",
    "plt.scatter(X[:,0],X[:,1],c=y, cmap=plt.cm.cool, edgecolor='b')\n",
    "plt.show()"
   ]
  },
  {
   "cell_type": "code",
   "execution_count": 27,
   "metadata": {},
   "outputs": [
    {
     "name": "stdout",
     "output_type": "stream",
     "text": [
      "预测准确率形态：(75, 2)\n"
     ]
    }
   ],
   "source": [
    "from sklearn.naive_bayes import GaussianNB\n",
    "X_train, X_test, y_train, y_test=train_test_split(X,y,random_state=33)\n",
    "gau_nb = GaussianNB()\n",
    "gau_nb.fit(X_train, y_train)\n",
    "predict_proba = gau_nb.predict_proba(X_test)\n",
    "print('预测准确率形态：{}'.format(predict_proba.shape))"
   ]
  },
  {
   "cell_type": "code",
   "execution_count": 28,
   "metadata": {},
   "outputs": [
    {
     "name": "stdout",
     "output_type": "stream",
     "text": [
      "[[0.96104267 0.03895733]\n",
      " [0.00713764 0.99286236]\n",
      " [0.00981677 0.99018323]\n",
      " [0.02688074 0.97311926]\n",
      " [0.5774308  0.4225692 ]\n",
      " [0.65043577 0.34956423]\n",
      " [0.98834166 0.01165834]\n",
      " [0.5195538  0.4804462 ]\n",
      " [0.00475933 0.99524067]\n",
      " [0.9983813  0.0016187 ]]\n"
     ]
    }
   ],
   "source": [
    "print(predict_proba[:10])"
   ]
  },
  {
   "cell_type": "code",
   "execution_count": null,
   "metadata": {},
   "outputs": [],
   "source": []
  }
 ],
 "metadata": {
  "kernelspec": {
   "display_name": "Python 3",
   "language": "python",
   "name": "python3"
  },
  "language_info": {
   "codemirror_mode": {
    "name": "ipython",
    "version": 3
   },
   "file_extension": ".py",
   "mimetype": "text/x-python",
   "name": "python",
   "nbconvert_exporter": "python",
   "pygments_lexer": "ipython3",
   "version": "3.6.6"
  }
 },
 "nbformat": 4,
 "nbformat_minor": 2
}
