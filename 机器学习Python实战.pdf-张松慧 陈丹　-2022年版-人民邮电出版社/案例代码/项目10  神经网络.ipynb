{
 "cells": [
  {
   "cell_type": "markdown",
   "metadata": {},
   "source": [
    "# 项目10 神经网络"
   ]
  },
  {
   "cell_type": "markdown",
   "metadata": {},
   "source": [
    "## 项目实训"
   ]
  },
  {
   "cell_type": "markdown",
   "metadata": {},
   "source": [
    "### 任务一 神经网络完成鸢尾花分类任务"
   ]
  },
  {
   "cell_type": "markdown",
   "metadata": {},
   "source": [
    "#### 1.数据读取"
   ]
  },
  {
   "cell_type": "code",
   "execution_count": 7,
   "metadata": {},
   "outputs": [],
   "source": [
    "import pandas as pd\n",
    "import matplotlib.pyplot as plt\n",
    "from sklearn.model_selection import train_test_split\n",
    "from sklearn.neural_network import MLPClassifier\n",
    "import numpy as np\n",
    "from sklearn.preprocessing import StandardScaler\n",
    "from sklearn.datasets import load_iris   \n",
    "#iris数据集\n",
    "dataset = load_iris() \n",
    "data = pd.DataFrame(dataset.data, columns=dataset.feature_names)\n",
    "data['class'] = dataset.target    \n",
    "#这里只取两类\n",
    "data = data[data['class']!=2]"
   ]
  },
  {
   "cell_type": "markdown",
   "metadata": {},
   "source": [
    "#### 2.数据预处理"
   ]
  },
  {
   "cell_type": "code",
   "execution_count": 8,
   "metadata": {},
   "outputs": [],
   "source": [
    "#这里取两个属性为例\n",
    "scaler = StandardScaler()\n",
    "X = data[['sepal length (cm)','sepal width (cm)']]\n",
    "scaler.fit(X)\n",
    "#标准化数据集\n",
    "X = scaler.transform(X)\n",
    "Y = data[['class']]\n",
    "#将数据集拆分为训练集和测试集\n",
    "X_train, X_test, Y_train, Y_test =train_test_split(X, Y)"
   ]
  },
  {
   "cell_type": "markdown",
   "metadata": {},
   "source": [
    "#### 3.训练模型"
   ]
  },
  {
   "cell_type": "code",
   "execution_count": 9,
   "metadata": {},
   "outputs": [
    {
     "name": "stderr",
     "output_type": "stream",
     "text": [
      "D:\\ProgramData\\Anaconda3\\envs\\tensorflow-gpu\\lib\\site-packages\\sklearn\\neural_network\\_multilayer_perceptron.py:934: DataConversionWarning: A column-vector y was passed when a 1d array was expected. Please change the shape of y to (n_samples, ), for example using ravel().\n",
      "  y = column_or_1d(y, warn=True)\n"
     ]
    },
    {
     "name": "stdout",
     "output_type": "stream",
     "text": [
      "score:\n",
      " 1.0\n"
     ]
    },
    {
     "data": {
      "image/png": "[encoded data removed]",
      "text/plain": [
       "<Figure size 432x288 with 1 Axes>"
      ]
     },
     "metadata": {
      "needs_background": "light"
     },
     "output_type": "display_data"
    }
   ],
   "source": [
    "#MLP分类器\n",
    "mpl = MLPClassifier(solver='lbfgs',activation='relu')\n",
    "mpl.fit(X_train, Y_train)\n",
    "#显示分类的正确率\n",
    "print ('score:\\n',mpl.score(X_test, Y_test)) \n",
    "h = 0.02\n",
    "x_min, x_max = X[:,0].min() - 1, X[:,0].max() + 1\n",
    "y_min, y_max = X[:,1].min() - 1, X[:,1].max() + 1\n",
    "nn, mm = np.meshgrid(np.arange(x_min, x_max, h), np.arange(y_min, y_max, h))\n",
    "Z = mpl.predict(np.c_[nn.ravel(), mm.ravel()])\n",
    "Z = Z.reshape(nn.shape)\n",
    "plt.contourf(nn, mm, Z, cmap=plt.cm.Paired)\n",
    "class1_x = X[Y['class']==0,0]\n",
    "class1_y = X[Y['class']==0,1]\n",
    "l1 = plt.scatter(class1_x,class1_y,color='y',label=dataset.target_names[0])\n",
    "class2_x = X[Y['class']==1,0]\n",
    "class2_y = X[Y['class']==1,1]\n",
    "l2 = plt.scatter(class2_x,class2_y,color='r',label=dataset.target_names[1])\n",
    "plt.legend(handles = [l1, l2], loc = 'best')\n",
    "plt.grid(True)\n",
    "plt.show()"
   ]
  },
  {
   "cell_type": "markdown",
   "metadata": {},
   "source": [
    "### 任务二 神经网络实例-手写识别"
   ]
  },
  {
   "cell_type": "markdown",
   "metadata": {},
   "source": [
    "#### 1. 读取数据集"
   ]
  },
  {
   "cell_type": "code",
   "execution_count": 11,
   "metadata": {},
   "outputs": [
    {
     "data": {
      "text/plain": [
       "{'__header__': b'MATLAB 5.0 MAT-file, Platform: GLNXA64, Created on: Sun Oct 16 13:09:09 2011',\n",
       " '__version__': '1.0',\n",
       " '__globals__': [],\n",
       " 'X': array([[0., 0., 0., ..., 0., 0., 0.],\n",
       "        [0., 0., 0., ..., 0., 0., 0.],\n",
       "        [0., 0., 0., ..., 0., 0., 0.],\n",
       "        ...,\n",
       "        [0., 0., 0., ..., 0., 0., 0.],\n",
       "        [0., 0., 0., ..., 0., 0., 0.],\n",
       "        [0., 0., 0., ..., 0., 0., 0.]]),\n",
       " 'y': array([[10],\n",
       "        [10],\n",
       "        [10],\n",
       "        ...,\n",
       "        [ 9],\n",
       "        [ 9],\n",
       "        [ 9]], dtype=uint8)}"
      ]
     },
     "execution_count": 11,
     "metadata": {},
     "output_type": "execute_result"
    }
   ],
   "source": [
    "#导入数据集\n",
    "from scipy.io import loadmat\n",
    "data = loadmat('F:/10_digital.mat')\n",
    "data "
   ]
  },
  {
   "cell_type": "markdown",
   "metadata": {},
   "source": [
    "#### 2. 数据预处理"
   ]
  },
  {
   "cell_type": "code",
   "execution_count": 12,
   "metadata": {},
   "outputs": [],
   "source": [
    "#处理数据\n",
    "from sklearn.preprocessing import StandardScaler  \n",
    "# 把X、y转化为数组形式，以便于计算\n",
    "X = data['X']  \n",
    "Y = data['y'] \n",
    "#X、Y的形状\n",
    "X.shape, Y.shape  \n",
    "# 标准化转换\n",
    "scaler = StandardScaler()\n",
    "# 训练标准化对象\n",
    "scaler.fit(X) \n",
    "# 转换数据集\n",
    "X = scaler.transform(X)"
   ]
  },
  {
   "cell_type": "markdown",
   "metadata": {},
   "source": [
    "#### 3. 训练模型"
   ]
  },
  {
   "cell_type": "code",
   "execution_count": 13,
   "metadata": {},
   "outputs": [
    {
     "name": "stderr",
     "output_type": "stream",
     "text": [
      "D:\\ProgramData\\Anaconda3\\envs\\tensorflow-gpu\\lib\\site-packages\\sklearn\\neural_network\\_multilayer_perceptron.py:934: DataConversionWarning: A column-vector y was passed when a 1d array was expected. Please change the shape of y to (n_samples, ), for example using ravel().\n",
      "  y = column_or_1d(y, warn=True)\n"
     ]
    },
    {
     "name": "stdout",
     "output_type": "stream",
     "text": [
      "===============================\n",
      "\n",
      "测试数据集得分：94.32%\n",
      "===============================\n",
      "\n"
     ]
    }
   ],
   "source": [
    "#模型训练\n",
    "from sklearn.model_selection import train_test_split \n",
    "from sklearn.neural_network import MLPClassifier\n",
    "from sklearn.utils import check_random_state\n",
    "#以25%的数据构建测试样本，剩余作为训练样本\n",
    "X_train,X_test,Y_train,Y_test=train_test_split(X,Y,test_size=0.25,\n",
    "                                               random_state =2)\n",
    "X_train.shape,X_test.shape,Y_train.shape,Y_test.shape\n",
    "mlp = MLPClassifier(solver='lbfgs',hidden_layer_sizes=[200,100],\n",
    "                    activation='relu', alpha = 1,random_state=62)\n",
    "mlp.fit(X_train,Y_train)\n",
    "print(\"===============================\\n\")\n",
    "print('测试数据集得分：{:.2f}%'.format(mlp.score(X_test,Y_test)*100))\n",
    "print(\"===============================\\n\")"
   ]
  },
  {
   "cell_type": "markdown",
   "metadata": {},
   "source": [
    "## 项目拓展"
   ]
  },
  {
   "cell_type": "markdown",
   "metadata": {},
   "source": [
    "### 良恶性肿瘤预测"
   ]
  },
  {
   "cell_type": "markdown",
   "metadata": {},
   "source": [
    "#### 1.数据读取"
   ]
  },
  {
   "cell_type": "code",
   "execution_count": 14,
   "metadata": {},
   "outputs": [],
   "source": [
    "#导入breast_cancer数据集\n",
    "from sklearn.datasets import load_breast_cancer\n",
    "#从sklearn的datasets模块载入数据集\n",
    "cancer = load_breast_cancer()"
   ]
  },
  {
   "cell_type": "markdown",
   "metadata": {},
   "source": [
    "#### 2.数据预处理"
   ]
  },
  {
   "cell_type": "code",
   "execution_count": 15,
   "metadata": {},
   "outputs": [],
   "source": [
    "#导入数据集拆分工具\n",
    "from sklearn.model_selection import train_test_split\n",
    "X_train, X_test, Y_train, Y_test = train_test_split(cancer.data, \n",
    "        cancer.target, stratify=cancer.target, random_state=66)\n",
    "# 标准化数据\n",
    "from sklearn.preprocessing import StandardScaler\n",
    "nn = StandardScaler()\n",
    "X_train = nn.fit_transform(X_train)\n",
    "X_test = nn.transform(X_test)"
   ]
  },
  {
   "cell_type": "markdown",
   "metadata": {},
   "source": [
    "#### 3.训练模型"
   ]
  },
  {
   "cell_type": "code",
   "execution_count": 16,
   "metadata": {},
   "outputs": [
    {
     "name": "stdout",
     "output_type": "stream",
     "text": [
      "===============================\n",
      "\n",
      "测试数据集得分：96.50%\n",
      "===============================\n",
      "\n"
     ]
    }
   ],
   "source": [
    "from sklearn.neural_network import MLPClassifier\n",
    "mlp=MLPClassifier(solver='lbfgs',hidden_layer_sizes=[10,10],\n",
    "                  activation='tanh',alpha=1)\n",
    "mlp.fit(X_train,Y_train)\n",
    "print(\"===============================\\n\")\n",
    "print('测试数据集得分：{:.2f}%'.format(mlp.score(X_test,Y_test)*100))\n",
    "print(\"===============================\\n\")"
   ]
  },
  {
   "cell_type": "code",
   "execution_count": null,
   "metadata": {},
   "outputs": [],
   "source": []
  }
 ],
 "metadata": {
  "kernelspec": {
   "display_name": "Python 3",
   "language": "python",
   "name": "python3"
  },
  "language_info": {
   "codemirror_mode": {
    "name": "ipython",
    "version": 3
   },
   "file_extension": ".py",
   "mimetype": "text/x-python",
   "name": "python",
   "nbconvert_exporter": "python",
   "pygments_lexer": "ipython3",
   "version": "3.6.6"
  }
 },
 "nbformat": 4,
 "nbformat_minor": 2
}
