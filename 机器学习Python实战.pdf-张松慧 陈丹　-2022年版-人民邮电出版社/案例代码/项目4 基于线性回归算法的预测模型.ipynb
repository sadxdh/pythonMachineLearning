{
 "cells": [
  {
   "cell_type": "markdown",
   "metadata": {},
   "source": [
    "# 项目四 基于线性回归算法的预测模型"
   ]
  },
  {
   "cell_type": "markdown",
   "metadata": {},
   "source": [
    "## 项目实训"
   ]
  },
  {
   "cell_type": "markdown",
   "metadata": {},
   "source": [
    "### 线性回归模型的应用"
   ]
  },
  {
   "cell_type": "markdown",
   "metadata": {},
   "source": [
    "#### 本任务的目标是：调用线性回归算法拟合生成的数据，得到线性方程。"
   ]
  },
  {
   "cell_type": "markdown",
   "metadata": {},
   "source": [
    "##### 1．生成用于回归分析的有1个特征的数据集"
   ]
  },
  {
   "cell_type": "code",
   "execution_count": 1,
   "metadata": {},
   "outputs": [],
   "source": [
    "import numpy as np\n",
    "#导入绘图工具\n",
    "import matplotlib.pyplot as plt\n",
    "#导入回归数据生成器\n",
    "from sklearn.datasets import make_regression\n",
    "#导入线性回归模型\n",
    "from sklearn.linear_model import LinearRegression\n",
    "#导入均方误差评估模块\n",
    "from sklearn.metrics import mean_squared_error\n",
    "#生成用于回归分析的数据集\n",
    "X,y = make_regression(n_samples=50,n_features=1,n_informative=1,random_state=3,noise=50)"
   ]
  },
  {
   "cell_type": "markdown",
   "metadata": {},
   "source": [
    "##### 2．使用线性回归模型对数据进行拟合"
   ]
  },
  {
   "cell_type": "code",
   "execution_count": 2,
   "metadata": {},
   "outputs": [
    {
     "data": {
      "text/plain": [
       "LinearRegression()"
      ]
     },
     "execution_count": 2,
     "metadata": {},
     "output_type": "execute_result"
    }
   ],
   "source": [
    "#使用线性模型对数据进行拟合\n",
    "lr = LinearRegression()\n",
    "lr.fit(X,y)"
   ]
  },
  {
   "cell_type": "markdown",
   "metadata": {},
   "source": [
    "##### 3．画出线性回归模型的图形"
   ]
  },
  {
   "cell_type": "code",
   "execution_count": 4,
   "metadata": {},
   "outputs": [
    {
     "data": {
      "text/plain": [
       "Text(0.5, 1.0, '线性回归')"
      ]
     },
     "execution_count": 4,
     "metadata": {},
     "output_type": "execute_result"
    },
    {
     "data": {
      "image/png": "[encoded data removed]",
      "text/plain": [
       "<Figure size 432x288 with 1 Axes>"
      ]
     },
     "metadata": {
      "needs_background": "light"
     },
     "output_type": "display_data"
    }
   ],
   "source": [
    "#z是我们生成的等差数列，用来画出线性模型的图形\n",
    "z = np.linspace(-3,3,100).reshape(-1,1)\n",
    "plt.scatter(X,y,c='b',s=60)\n",
    "plt.plot(z,lr.predict(z),c='purple')\n",
    "\n",
    "# 默认不支持中文\n",
    "# 修改RC参数，来让其支持中文\n",
    "plt.rcParams['font.sans-serif'] = ['SimHei']\n",
    "plt.rcParams['axes.unicode_minus'] = False\n",
    "plt.title('线性回归')"
   ]
  },
  {
   "cell_type": "markdown",
   "metadata": {},
   "source": [
    "##### 4．输出线性回归模型的系数、截距和方程"
   ]
  },
  {
   "cell_type": "code",
   "execution_count": 5,
   "metadata": {},
   "outputs": [
    {
     "name": "stdout",
     "output_type": "stream",
     "text": [
      "代码运行结果：\n",
      "\n",
      "==============================\n",
      "直线的斜率是:84.16\n",
      "直线的截距是: 14.48\n",
      "直线方程为：y = 84.16 x + 14.48\n",
      "==============================\n"
     ]
    }
   ],
   "source": [
    "print('代码运行结果：\\n')\n",
    "print('==============================')\n",
    "print('直线的斜率是:{:.2f}'.format(lr.coef_[0]))\n",
    "print('直线的截距是: {:.2f}'.format(lr.intercept_))\n",
    "print('直线方程为：y = {:.2f}'.format(lr.coef_[0]),'x','+ {:.2f}'.format(lr.intercept_))\n",
    "print('==============================')"
   ]
  },
  {
   "cell_type": "markdown",
   "metadata": {},
   "source": [
    "##### 5．生成用于回归分析的有2个特征的数据集"
   ]
  },
  {
   "cell_type": "code",
   "execution_count": 7,
   "metadata": {},
   "outputs": [],
   "source": [
    "#导入数据集拆分工具\n",
    "from sklearn.model_selection import train_test_split\n",
    "#生成用于回归分析的有2个特征的数据集\n",
    "X,y = make_regression(n_samples=100,n_features=2,n_informative=2,random_state=38)"
   ]
  },
  {
   "cell_type": "markdown",
   "metadata": {},
   "source": [
    "##### 6．使用线性回归模型对数据进行拟合，并输出线性回归模型的系数、截距"
   ]
  },
  {
   "cell_type": "code",
   "execution_count": 8,
   "metadata": {},
   "outputs": [
    {
     "name": "stdout",
     "output_type": "stream",
     "text": [
      "\n",
      "==============================\n",
      "lr2.coef_:[70.38592453  7.43213621]\n",
      "lr2.intercept_: 14.475840238473038\n",
      "==============================\n"
     ]
    }
   ],
   "source": [
    "#拆分数据\n",
    "X_train,X_test,y_train,y_test = train_test_split(X,y,random_state=8)\n",
    "#训练模型\n",
    "lr2 = LinearRegression().fit(X_train,y_train)\n",
    "#预测数据\n",
    "y_predict = lr2.predict(X_test)\n",
    "\n",
    "print('')\n",
    "print('==============================')\n",
    "print('lr2.coef_:{}'.format(lr2.coef_[:]))\n",
    "print('lr2.intercept_: {}'.format(lr.intercept_))\n",
    "print('==============================')"
   ]
  },
  {
   "cell_type": "markdown",
   "metadata": {},
   "source": [
    "##### 7．线性回归模型的性能评估"
   ]
  },
  {
   "cell_type": "code",
   "execution_count": 9,
   "metadata": {},
   "outputs": [
    {
     "name": "stdout",
     "output_type": "stream",
     "text": [
      "\n",
      "==============================\n",
      "均方误差为：\n",
      " 3.992582813504585e-28\n",
      "==============================\n"
     ]
    }
   ],
   "source": [
    "#均方误差评估\n",
    "mse = mean_squared_error(y_test, y_predict)\n",
    "print('')\n",
    "print('==============================')\n",
    "print(\"均方误差为：\\n\", mse)\n",
    "print('==============================')"
   ]
  },
  {
   "cell_type": "markdown",
   "metadata": {},
   "source": [
    "### 波士顿房价预测"
   ]
  },
  {
   "cell_type": "markdown",
   "metadata": {},
   "source": [
    "#### 本任务的目标是：使用scikit-learn内置的波士顿房价数据集作为训练数据集，用线性回归模型对数据进行拟合，对房价进行预测，并绘制真实房价与预测房价走势图。"
   ]
  },
  {
   "cell_type": "markdown",
   "metadata": {},
   "source": [
    "##### 1．数据集探索"
   ]
  },
  {
   "cell_type": "code",
   "execution_count": 6,
   "metadata": {},
   "outputs": [
    {
     "data": {
      "text/plain": [
       "dict_keys(['data', 'target', 'feature_names', 'DESCR', 'filename'])"
      ]
     },
     "execution_count": 6,
     "metadata": {},
     "output_type": "execute_result"
    }
   ],
   "source": [
    "#导入波士顿房价模块\n",
    "from sklearn.datasets import load_boston\n",
    "#导入boston数据集\n",
    "boston = load_boston()\n",
    "#输出boston数据集中的键\n",
    "boston.keys()"
   ]
  },
  {
   "cell_type": "code",
   "execution_count": 7,
   "metadata": {},
   "outputs": [
    {
     "data": {
      "text/plain": [
       "(506, 13)"
      ]
     },
     "execution_count": 7,
     "metadata": {},
     "output_type": "execute_result"
    }
   ],
   "source": [
    "#输出数据的维度\n",
    "boston['data'].shape"
   ]
  },
  {
   "cell_type": "code",
   "execution_count": 8,
   "metadata": {
    "scrolled": true
   },
   "outputs": [
    {
     "name": "stdout",
     "output_type": "stream",
     "text": [
      ".. _boston_dataset:\n",
      "\n",
      "Boston house prices dataset\n",
      "---------------------------\n",
      "\n",
      "**Data Set Characteristics:**  \n",
      "\n",
      "    :Number of Instances: 506 \n",
      "\n",
      "    :Number of Attributes: 13 numeric/categorical predictive. Median Value (attribute 14) is usually the target.\n",
      "\n",
      "    :Attribute Information (in order):\n",
      "        - CRIM     per capita crime rate by town\n",
      "        - ZN       proportion of residential land zoned for lots over 25,000 sq.ft.\n",
      "        - INDUS    proportion of non-retail business acres per town\n",
      "        - CHAS     Charles River dummy variable (= 1 if tract bounds river; 0 otherwise)\n",
      "        - NOX      nitric oxides concentration (parts per 10 million)\n",
      "        - RM       average number of rooms per dwelling\n",
      "        - AGE      proportion of owner-occupied units built prior to 1940\n",
      "        - DIS      weighted distances to five Boston employment centres\n",
      "        - RAD      index of accessibility to radial highways\n",
      "        - TAX      full-value property-tax rate per $10,000\n",
      "        - PTRATIO  pupil-teacher ratio by town\n",
      "        - B        1000(Bk - 0.63)^2 where Bk is the proportion of blacks by town\n",
      "        - LSTAT    % lower status of the population\n",
      "        - MEDV     Median value of owner-occupied homes in $1000's\n",
      "\n",
      "    :Missing Attribute Values: None\n",
      "\n",
      "    :Creator: Harrison, D. and Rubinfeld, D.L.\n",
      "\n",
      "This is a copy of UCI ML housing dataset.\n",
      "https://archive.ics.uci.edu/ml/machine-learning-databases/housing/\n",
      "\n",
      "\n",
      "This dataset was taken from the StatLib library which is maintained at Carnegie Mellon University.\n",
      "\n",
      "The Boston house-price data of Harrison, D. and Rubinfeld, D.L. 'Hedonic\n",
      "prices and the demand for clean air', J. Environ. Economics & Management,\n",
      "vol.5, 81-102, 1978.   Used in Belsley, Kuh & Welsch, 'Regression diagnostics\n",
      "...', Wiley, 1980.   N.B. Various transformations are used in the table on\n",
      "pages 244-261 of the latter.\n",
      "\n",
      "The Boston house-price data has been used in many machine learning papers that address regression\n",
      "problems.   \n",
      "     \n",
      ".. topic:: References\n",
      "\n",
      "   - Belsley, Kuh & Welsch, 'Regression diagnostics: Identifying Influential Data and Sources of Collinearity', Wiley, 1980. 244-261.\n",
      "   - Quinlan,R. (1993). Combining Instance-Based and Model-Based Learning. In Proceedings on the Tenth International Conference of Machine Learning, 236-243, University of Massachusetts, Amherst. Morgan Kaufmann.\n",
      "\n"
     ]
    }
   ],
   "source": [
    "#输出boston数据集中的描述\n",
    "print(boston['DESCR'])"
   ]
  },
  {
   "cell_type": "markdown",
   "metadata": {},
   "source": [
    "##### 2．用线性回归模型拟合数据并进行预测"
   ]
  },
  {
   "cell_type": "code",
   "execution_count": 9,
   "metadata": {},
   "outputs": [],
   "source": [
    "#导入数据集拆分工具\n",
    "from sklearn.model_selection import train_test_split\n",
    "#将数据集分拆分为训练集和测试集\n",
    "X_train, X_test, y_train, y_test = train_test_split(boston.data, boston.target, random_state=36)\n",
    "#构建模型\n",
    "lr_boston = LinearRegression()\n",
    "#训练模型\n",
    "lr_boston.fit(X_train, y_train)\n",
    "#预测数据\n",
    "y_predict = lr_boston.predict(X_test)"
   ]
  },
  {
   "cell_type": "markdown",
   "metadata": {},
   "source": [
    "##### 3．对模型进行评估"
   ]
  },
  {
   "cell_type": "code",
   "execution_count": 10,
   "metadata": {},
   "outputs": [
    {
     "name": "stdout",
     "output_type": "stream",
     "text": [
      "线性回归模型的均方误差为：\n",
      " 24.004430052241922\n"
     ]
    }
   ],
   "source": [
    "#导入均方误差评估模块\n",
    "from sklearn.metrics import mean_squared_error\n",
    "#均方误差评估\n",
    "mse = mean_squared_error(y_test, y_predict)\n",
    "print(\"线性回归模型的均方误差为：\\n\", mse)"
   ]
  },
  {
   "cell_type": "markdown",
   "metadata": {},
   "source": [
    "##### 4．输出线性回归模型的系数和偏置"
   ]
  },
  {
   "cell_type": "code",
   "execution_count": 13,
   "metadata": {
    "scrolled": true
   },
   "outputs": [
    {
     "name": "stdout",
     "output_type": "stream",
     "text": [
      "\n",
      "==============================\n",
      "lr_boston.coef_:[-9.97859985e-02  4.36000046e-02  3.83811635e-02  3.45187835e+00\n",
      " -1.64404146e+01  3.96312862e+00 -7.41840830e-03 -1.50795571e+00\n",
      "  2.60346433e-01 -1.07545027e-02 -9.71955449e-01  1.17777648e-02\n",
      " -5.40689068e-01]\n",
      "lr_boston.intercept_: 34.67625828318796\n",
      "==============================\n"
     ]
    }
   ],
   "source": [
    "print('')\n",
    "print('==============================')\n",
    "print('lr_boston.coef_:{}'.format(lr_boston.coef_[:]))\n",
    "print('lr_boston.intercept_: {}'.format(lr_boston.intercept_))\n",
    "print('==============================')"
   ]
  },
  {
   "cell_type": "markdown",
   "metadata": {},
   "source": [
    "##### 5．绘制波士顿真实房价与预测房价走势图"
   ]
  },
  {
   "cell_type": "code",
   "execution_count": 14,
   "metadata": {},
   "outputs": [
    {
     "data": {
      "image/png": "[encoded data removed]",
      "text/plain": [
       "<Figure size 432x288 with 1 Axes>"
      ]
     },
     "metadata": {
      "needs_background": "light"
     },
     "output_type": "display_data"
    }
   ],
   "source": [
    "# 创建画布\n",
    "plt.figure()\n",
    "# 默认不支持中文\n",
    "# 修改RC参数，来让其支持中文\n",
    "plt.rcParams['font.sans-serif'] = 'SimHei'\n",
    "plt.rcParams['axes.unicode_minus'] = False\n",
    "# 绘图\n",
    "x = np.arange(1, y_predict.shape[0] + 1)\n",
    "# 真实值的走势\n",
    "plt.plot(x, y_test, marker=\"o\", linestyle=\":\", markersize=5)\n",
    "# 预测值的走势\n",
    "plt.plot(x, y_predict, marker=\"*\", markersize=5)\n",
    " \n",
    "# 添加图例\n",
    "plt.legend([\"真实房价\", \"预测房价\"])\n",
    "# 添加标题\n",
    "plt.title(\"波士顿真实房价与预测房价走势图\")\n",
    "\n",
    "# 展示\n",
    "plt.show()"
   ]
  },
  {
   "cell_type": "markdown",
   "metadata": {},
   "source": [
    "###  岭回归模型的应用"
   ]
  },
  {
   "cell_type": "markdown",
   "metadata": {},
   "source": [
    "#### 本任务的目标是：继续使用波士顿房价数据集，这次使用岭回归模型对数据进行拟合。"
   ]
  },
  {
   "cell_type": "code",
   "execution_count": 15,
   "metadata": {},
   "outputs": [],
   "source": [
    "#导入岭回归模型\n",
    "from sklearn.linear_model import Ridge\n",
    "#使用岭回归模型对数据进行拟合\n",
    "ridge = Ridge(alpha=1.0)\n",
    "#训练数据\n",
    "ridge.fit(X_train, y_train)\n",
    "#预测数据\n",
    "y_predict_ridge = ridge.predict(X_test)"
   ]
  },
  {
   "cell_type": "code",
   "execution_count": 16,
   "metadata": {},
   "outputs": [
    {
     "name": "stdout",
     "output_type": "stream",
     "text": [
      "\n",
      "==============================\n",
      "ridge.coef_:[-0.0953679   0.04589527  0.01069857  3.07060892 -8.77412032  3.98898723\n",
      " -0.01323409 -1.39995633  0.24580113 -0.0116064  -0.88526616  0.01204574\n",
      " -0.5596903 ]\n",
      "ridge.intercept_: 29.558076258955204\n",
      "==============================\n"
     ]
    }
   ],
   "source": [
    "print('')\n",
    "print('==============================')\n",
    "print('ridge.coef_:{}'.format(ridge.coef_[:]))\n",
    "print('ridge.intercept_: {}'.format(ridge.intercept_))\n",
    "print('==============================')"
   ]
  },
  {
   "cell_type": "code",
   "execution_count": 17,
   "metadata": {},
   "outputs": [
    {
     "name": "stdout",
     "output_type": "stream",
     "text": [
      "岭回归模型的均方误差为：\n",
      " 24.343021993564516\n"
     ]
    }
   ],
   "source": [
    "#岭回归模型的均方误差\n",
    "mse_rid = mean_squared_error(y_test, y_predict_ridge)\n",
    "print(\"岭回归模型的均方误差为：\\n\", mse_rid)"
   ]
  },
  {
   "cell_type": "markdown",
   "metadata": {},
   "source": [
    "### 套索回归模型的应用"
   ]
  },
  {
   "cell_type": "markdown",
   "metadata": {},
   "source": [
    "#### 本任务的目标是：继续使用波士顿房价数据集，这次使用套索回归模型对数据进行拟合。"
   ]
  },
  {
   "cell_type": "code",
   "execution_count": 18,
   "metadata": {},
   "outputs": [],
   "source": [
    "#导入套索回归模型\n",
    "from sklearn.linear_model import Lasso\n",
    "#使用套索回归模型对数据进行拟合\n",
    "lasso = Lasso()\n",
    "lasso.fit(X_train, y_train)\n",
    "y_predict = lasso.predict(X_test)"
   ]
  },
  {
   "cell_type": "code",
   "execution_count": 19,
   "metadata": {},
   "outputs": [
    {
     "name": "stdout",
     "output_type": "stream",
     "text": [
      "\n",
      "==============================\n",
      "lasso.coef_:[-0.05667701  0.04951008  0.          0.         -0.          0.90690771\n",
      "  0.015408   -0.78938302  0.20376589 -0.01209622 -0.75278709  0.00998691\n",
      " -0.80797632]\n",
      "lasso.intercept_: 41.95188297539425\n",
      "==============================\n"
     ]
    }
   ],
   "source": [
    "print('')\n",
    "print('==============================')\n",
    "print('lasso.coef_:{}'.format(lasso.coef_[:]))\n",
    "print('lasso.intercept_: {}'.format(lasso.intercept_))\n",
    "print('==============================')"
   ]
  },
  {
   "cell_type": "code",
   "execution_count": 20,
   "metadata": {},
   "outputs": [
    {
     "name": "stdout",
     "output_type": "stream",
     "text": [
      "套索回归模型的均方误差为：\n",
      " 28.036747383198307\n"
     ]
    }
   ],
   "source": [
    "mse_las = mean_squared_error(y_test, y_predict)\n",
    "print(\"套索回归模型的均方误差为：\\n\", mse_las)"
   ]
  },
  {
   "cell_type": "markdown",
   "metadata": {},
   "source": [
    "## 项目拓展—糖尿病患者病情预测"
   ]
  },
  {
   "cell_type": "markdown",
   "metadata": {},
   "source": [
    "#### 本任务的目标是：使用scikit-learn内置的糖尿病患者病情数据集作为训练数据集，首先用线性回归模型对数据进行拟合，然后使用岭回归模型对数据进行拟合，并尝试对比不同alpha值的岭回归模型对模型系数的影响，学习调节模型参数。"
   ]
  },
  {
   "cell_type": "markdown",
   "metadata": {},
   "source": [
    "##### 1．数据探索"
   ]
  },
  {
   "cell_type": "code",
   "execution_count": 21,
   "metadata": {},
   "outputs": [
    {
     "data": {
      "text/plain": [
       "dict_keys(['data', 'target', 'frame', 'DESCR', 'feature_names', 'data_filename', 'target_filename'])"
      ]
     },
     "execution_count": 21,
     "metadata": {},
     "output_type": "execute_result"
    }
   ],
   "source": [
    "#导入糖尿病患者病情模块\n",
    "from sklearn.datasets import load_diabetes\n",
    "#导入数据集拆分工具\n",
    "from sklearn.model_selection import train_test_split\n",
    "#导入绘图模块\n",
    "import matplotlib.pyplot as plt\n",
    "#均方误差评估模块\n",
    "from sklearn.metrics import mean_squared_error\n",
    "#导入数据集\n",
    "diabetes = load_diabetes()\n",
    "#打输出糖尿病数据集中的键\n",
    "diabetes.keys()"
   ]
  },
  {
   "cell_type": "code",
   "execution_count": 22,
   "metadata": {},
   "outputs": [
    {
     "data": {
      "text/plain": [
       "(442, 10)"
      ]
     },
     "execution_count": 22,
     "metadata": {},
     "output_type": "execute_result"
    }
   ],
   "source": [
    "#输出数据的维度\n",
    "diabetes['data'].shape"
   ]
  },
  {
   "cell_type": "code",
   "execution_count": 23,
   "metadata": {
    "scrolled": true
   },
   "outputs": [
    {
     "name": "stdout",
     "output_type": "stream",
     "text": [
      ".. _diabetes_dataset:\n",
      "\n",
      "Diabetes dataset\n",
      "----------------\n",
      "\n",
      "Ten baseline variables, age, sex, body mass index, average blood\n",
      "pressure, and six blood serum measurements were obtained for each of n =\n",
      "442 diabetes patients, as well as the response of interest, a\n",
      "quantitative measure of disease progression one year after baseline.\n",
      "\n",
      "**Data Set Characteristics:**\n",
      "\n",
      "  :Number of Instances: 442\n",
      "\n",
      "  :Number of Attributes: First 10 columns are numeric predictive values\n",
      "\n",
      "  :Target: Column 11 is a quantitative measure of disease progression one year after baseline\n",
      "\n",
      "  :Attribute Information:\n",
      "      - age     age in years\n",
      "      - sex\n",
      "      - bmi     body mass index\n",
      "      - bp      average blood pressure\n",
      "      - s1      tc, T-Cells (a type of white blood cells)\n",
      "      - s2      ldl, low-density lipoproteins\n",
      "      - s3      hdl, high-density lipoproteins\n",
      "      - s4      tch, thyroid stimulating hormone\n",
      "      - s5      ltg, lamotrigine\n",
      "      - s6      glu, blood sugar level\n",
      "\n",
      "Note: Each of these 10 feature variables have been mean centered and scaled by the standard deviation times `n_samples` (i.e. the sum of squares of each column totals 1).\n",
      "\n",
      "Source URL:\n",
      "https://www4.stat.ncsu.edu/~boos/var.select/diabetes.html\n",
      "\n",
      "For more information see:\n",
      "Bradley Efron, Trevor Hastie, Iain Johnstone and Robert Tibshirani (2004) \"Least Angle Regression,\" Annals of Statistics (with discussion), 407-499.\n",
      "(https://web.stanford.edu/~hastie/Papers/LARS/LeastAngle_2002.pdf)\n"
     ]
    }
   ],
   "source": [
    "#输出数据详细描述\n",
    "print(diabetes['DESCR'])"
   ]
  },
  {
   "cell_type": "markdown",
   "metadata": {},
   "source": [
    "##### 2．用线性回归模型拟合数据并进行预测和评估"
   ]
  },
  {
   "cell_type": "code",
   "execution_count": 24,
   "metadata": {},
   "outputs": [],
   "source": [
    "#导入特征变量\n",
    "X = diabetes['data']\n",
    "#导入目标变量\n",
    "y = diabetes['target']\n",
    "#将数据集拆分为训练集和测试集\n",
    "X_train,X_test,y_train,y_test = train_test_split(X,y,random_state=8)\n",
    "#创建线性模型对象\n",
    "diabetes_lr = LinearRegression()\n",
    "#训练模型\n",
    "diabetes_lr.fit(X_train,y_train)\n",
    "#预测数据\n",
    "y_predict = diabetes_lr.predict(X_test)"
   ]
  },
  {
   "cell_type": "code",
   "execution_count": 25,
   "metadata": {},
   "outputs": [
    {
     "name": "stdout",
     "output_type": "stream",
     "text": [
      "均方误差为：\n",
      " 3108.04109825321\n",
      "\n",
      "==============================\n",
      "coef_:[   11.5106203   -282.51347161   534.20455671   401.73142674\n",
      " -1043.89718398   634.92464089   186.43262636   204.93373199\n",
      "   762.47149733    91.9460394 ]\n",
      "intercept_: 152.5624877455247\n",
      "==============================\n"
     ]
    }
   ],
   "source": [
    "mse = mean_squared_error(y_test, y_predict)\n",
    "print(\"均方误差为：\\n\", mse)\n",
    "print('')\n",
    "print('==============================')\n",
    "print('coef_:{}'.format(diabetes_lr.coef_[:]))\n",
    "print('intercept_: {}'.format(diabetes_lr.intercept_))\n",
    "print('==============================')"
   ]
  },
  {
   "cell_type": "markdown",
   "metadata": {},
   "source": [
    "##### 3．用岭回归模型拟合数据并进行预测和评估"
   ]
  },
  {
   "cell_type": "code",
   "execution_count": 26,
   "metadata": {},
   "outputs": [],
   "source": [
    "from sklearn.linear_model import Ridge\n",
    "#创建岭回归模型对象\n",
    "diabetes_ridge = Ridge(alpha=1.0)\n",
    "#训练模型\n",
    "diabetes_ridge.fit(X_train,y_train)\n",
    "#预测数据\n",
    "y_predict_1 = diabetes_ridge.predict(X_test)"
   ]
  },
  {
   "cell_type": "code",
   "execution_count": 27,
   "metadata": {},
   "outputs": [
    {
     "name": "stdout",
     "output_type": "stream",
     "text": [
      "均方误差为：\n",
      " 3262.2329203221525\n",
      "\n",
      "==============================\n",
      "coef_:[  36.8262072   -75.80823733  282.42652716  207.39314972   -1.46580263\n",
      "  -27.81750835 -134.3740951    98.97724793  222.67543268  117.97255343]\n",
      "intercept_: 152.553545058867\n",
      "==============================\n"
     ]
    }
   ],
   "source": [
    "mse_1 = mean_squared_error(y_test, y_predict_1)\n",
    "print(\"均方误差为：\\n\", mse_1)\n",
    "print('')\n",
    "print('==============================')\n",
    "print('coef_:{}'.format(diabetes_ridge.coef_[:]))\n",
    "print('intercept_: {}'.format(diabetes_ridge.intercept_))\n",
    "print('==============================')"
   ]
  },
  {
   "cell_type": "code",
   "execution_count": 28,
   "metadata": {},
   "outputs": [],
   "source": [
    "#创建alpha=10的岭回归模型\n",
    "diabetes_ridge10 = Ridge(alpha=10)\n",
    "#训练模型\n",
    "diabetes_ridge10.fit(X_train,y_train)\n",
    "#预测数据\n",
    "y_predict_10 = diabetes_ridge10.predict(X_test)"
   ]
  },
  {
   "cell_type": "code",
   "execution_count": 29,
   "metadata": {},
   "outputs": [
    {
     "name": "stdout",
     "output_type": "stream",
     "text": [
      "均方误差为：\n",
      " 4817.2518226162565\n",
      "\n",
      "==============================\n",
      "coef_:[ 15.08676646  -1.9586191   60.69903425  47.11843221  14.72337546\n",
      "   9.87779644 -35.56015266  35.74603575  54.27193163  37.42095846]\n",
      "intercept_: 152.7585777843719\n",
      "==============================\n"
     ]
    }
   ],
   "source": [
    "mse_10 = mean_squared_error(y_test, y_predict_10)\n",
    "print(\"均方误差为：\\n\", mse_10)\n",
    "print('')\n",
    "print('==============================')\n",
    "print('coef_:{}'.format(diabetes_ridge10.coef_[:]))\n",
    "print('intercept_: {}'.format(diabetes_ridge10.intercept_))\n",
    "print('==============================')"
   ]
  },
  {
   "cell_type": "code",
   "execution_count": 30,
   "metadata": {},
   "outputs": [],
   "source": [
    "#创建alpha=0.1的岭回归模型\n",
    "diabetes_ridge01 = Ridge(alpha=0.1)\n",
    "#训练模型\n",
    "diabetes_ridge01.fit(X_train,y_train)\n",
    "#预测数据\n",
    "y_predict_01 = diabetes_ridge01.predict(X_test)"
   ]
  },
  {
   "cell_type": "code",
   "execution_count": 31,
   "metadata": {},
   "outputs": [
    {
     "name": "stdout",
     "output_type": "stream",
     "text": [
      "均方误差为：\n",
      " 3027.227167970087\n",
      "\n",
      "==============================\n",
      "coef_:[  24.77802114 -228.33364296  495.54594378  361.21481169 -109.82542594\n",
      "  -78.3286822  -190.69780344  108.24040795  383.72269392  107.42593373]\n",
      "intercept_: 152.4809383696352\n",
      "==============================\n"
     ]
    }
   ],
   "source": [
    "mse_01 = mean_squared_error(y_test, y_predict_01)\n",
    "print(\"均方误差为：\\n\", mse_01)\n",
    "print('')\n",
    "print('==============================')\n",
    "print('coef_:{}'.format(diabetes_ridge01.coef_[:]))\n",
    "print('intercept_: {}'.format(diabetes_ridge01.intercept_))\n",
    "print('==============================')"
   ]
  },
  {
   "cell_type": "markdown",
   "metadata": {},
   "source": [
    "##### 4．绘制不同alpha参数的岭回归模型中的coef_属性"
   ]
  },
  {
   "cell_type": "code",
   "execution_count": 32,
   "metadata": {},
   "outputs": [
    {
     "data": {
      "image/png": "[encoded data removed]",
      "text/plain": [
       "<Figure size 432x288 with 1 Axes>"
      ]
     },
     "metadata": {
      "needs_background": "light"
     },
     "output_type": "display_data"
    }
   ],
   "source": [
    "# 创建画布\n",
    "plt.figure()\n",
    "# 默认不支持中文\n",
    "# 修改RC参数，来让其支持中文\n",
    "plt.rcParams['font.sans-serif'] = 'SimHei'\n",
    "plt.rcParams['axes.unicode_minus'] = False\n",
    "# 绘图\n",
    "x = np.arange(0,10)\n",
    "\n",
    "# alpha=0.1\n",
    "plt.plot(x, diabetes_ridge01.coef_, 's',label='alpha=0.1时的岭回归模型')\n",
    "# alpha=1.0\n",
    "plt.plot(x, diabetes_ridge.coef_,'^',label='alpha=1.0时的岭回归模型')\n",
    "# alpha=10\n",
    "plt.plot(x, diabetes_ridge10.coef_,'v',label='alpha=10时的岭回归模型')\n",
    "#线性回归\n",
    "plt.plot(x, diabetes_lr.coef_,'o',label='线性回归模型')\n",
    " \n",
    "# 添加图例\n",
    "plt.legend( )\n",
    "# 添加标题\n",
    "plt.title(\"正则化程度对权重的影响\")\n",
    "plt.xlabel('系数序号')\n",
    "plt.ylabel('系数量级')\n",
    "plt.hlines(0,0,len(diabetes_lr.coef_))\n",
    "\n",
    "plt.show()"
   ]
  },
  {
   "cell_type": "code",
   "execution_count": null,
   "metadata": {},
   "outputs": [],
   "source": []
  }
 ],
 "metadata": {
  "kernelspec": {
   "display_name": "Python 3",
   "language": "python",
   "name": "python3"
  },
  "language_info": {
   "codemirror_mode": {
    "name": "ipython",
    "version": 3
   },
   "file_extension": ".py",
   "mimetype": "text/x-python",
   "name": "python",
   "nbconvert_exporter": "python",
   "pygments_lexer": "ipython3",
   "version": "3.8.8"
  }
 },
 "nbformat": 4,
 "nbformat_minor": 4
}
