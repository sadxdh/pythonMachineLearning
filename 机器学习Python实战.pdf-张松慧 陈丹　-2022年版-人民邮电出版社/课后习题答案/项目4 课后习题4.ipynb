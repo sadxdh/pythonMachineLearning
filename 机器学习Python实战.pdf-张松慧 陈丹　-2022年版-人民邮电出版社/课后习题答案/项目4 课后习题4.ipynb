{
 "cells": [
  {
   "cell_type": "code",
   "execution_count": 1,
   "id": "51bfea42",
   "metadata": {},
   "outputs": [],
   "source": [
    "import numpy as np\n",
    "#导入绘图工具\n",
    "import matplotlib.pyplot as plt\n",
    "#导入线性回归模型\n",
    "from sklearn.linear_model import LinearRegression\n",
    "#导入均方误差评估模块\n",
    "from sklearn.metrics import mean_squared_error"
   ]
  },
  {
   "cell_type": "code",
   "execution_count": 2,
   "id": "6aaf3199",
   "metadata": {},
   "outputs": [
    {
     "data": {
      "text/plain": [
       "<matplotlib.collections.PathCollection at 0x1ca0eaaef70>"
      ]
     },
     "execution_count": 2,
     "metadata": {},
     "output_type": "execute_result"
    },
    {
     "data": {
      "image/png": "[encoded data removed]",
      "text/plain": [
       "<Figure size 432x288 with 1 Axes>"
      ]
     },
     "metadata": {
      "needs_background": "light"
     },
     "output_type": "display_data"
    }
   ],
   "source": [
    "X = [ [2],\n",
    "      [6],\n",
    "      [5],\n",
    "      [7]]\n",
    "y = [4,10,6,13]\n",
    "#绘制数据散点图\n",
    "plt.scatter(X,y,s=60)"
   ]
  },
  {
   "cell_type": "code",
   "execution_count": 3,
   "id": "d1b0b4cd",
   "metadata": {},
   "outputs": [
    {
     "data": {
      "text/plain": [
       "LinearRegression()"
      ]
     },
     "execution_count": 3,
     "metadata": {},
     "output_type": "execute_result"
    }
   ],
   "source": [
    "#使用线性模型对数据进行拟合\n",
    "lr = LinearRegression()\n",
    "lr.fit(X,y)"
   ]
  },
  {
   "cell_type": "code",
   "execution_count": 4,
   "id": "2b82cc34",
   "metadata": {},
   "outputs": [
    {
     "data": {
      "text/plain": [
       "Text(0.5, 1.0, '线性回归')"
      ]
     },
     "execution_count": 4,
     "metadata": {},
     "output_type": "execute_result"
    },
    {
     "data": {
      "image/png": "[encoded data removed]",
      "text/plain": [
       "<Figure size 432x288 with 1 Axes>"
      ]
     },
     "metadata": {
      "needs_background": "light"
     },
     "output_type": "display_data"
    }
   ],
   "source": [
    "#z是我们生成的等差数列，用来画出线性模型的图形\n",
    "z = np.linspace(1,8,50).reshape(-1,1)\n",
    "plt.scatter(X,y,s=60)\n",
    "plt.plot(z,lr.predict(z),c='purple')\n",
    "\n",
    "# 默认不支持中文\n",
    "# 修改RC参数，来让其支持中文\n",
    "plt.rcParams['font.sans-serif'] = ['SimHei']\n",
    "plt.rcParams['axes.unicode_minus'] = False\n",
    "plt.title('线性回归')"
   ]
  },
  {
   "cell_type": "code",
   "execution_count": 5,
   "id": "d62c7231",
   "metadata": {},
   "outputs": [
    {
     "name": "stdout",
     "output_type": "stream",
     "text": [
      "代码运行结果：\n",
      "\n",
      "==============================\n",
      "直线的斜率是:1.71\n",
      "直线的截距是: -0.32\n",
      "直线方程为：y = 1.71 x + -0.32\n",
      "==============================\n"
     ]
    }
   ],
   "source": [
    "print('代码运行结果：\\n')\n",
    "print('==============================')\n",
    "print('直线的斜率是:{:.2f}'.format(lr.coef_[0]))\n",
    "print('直线的截距是: {:.2f}'.format(lr.intercept_))\n",
    "print('直线方程为：y = {:.2f}'.format(lr.coef_[0]),'x','+ {:.2f}'.format(lr.intercept_))\n",
    "print('==============================')"
   ]
  },
  {
   "cell_type": "code",
   "execution_count": null,
   "id": "8f2fd5e7",
   "metadata": {},
   "outputs": [],
   "source": []
  }
 ],
 "metadata": {
  "kernelspec": {
   "display_name": "Python 3 (ipykernel)",
   "language": "python",
   "name": "python3"
  },
  "language_info": {
   "codemirror_mode": {
    "name": "ipython",
    "version": 3
   },
   "file_extension": ".py",
   "mimetype": "text/x-python",
   "name": "python",
   "nbconvert_exporter": "python",
   "pygments_lexer": "ipython3",
   "version": "3.9.7"
  }
 },
 "nbformat": 4,
 "nbformat_minor": 5
}
