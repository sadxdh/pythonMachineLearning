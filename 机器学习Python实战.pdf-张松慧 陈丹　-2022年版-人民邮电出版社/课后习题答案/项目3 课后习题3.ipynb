{
 "cells": [
  {
   "cell_type": "code",
   "execution_count": 1,
   "id": "ea6091f9",
   "metadata": {},
   "outputs": [],
   "source": [
    "#导入KNN分类器\n",
    "from sklearn.neighbors import KNeighborsClassifier\n",
    "#导入绘图工具\n",
    "import matplotlib.pyplot as plt\n",
    "#导入numpy\n",
    "import numpy as np"
   ]
  },
  {
   "cell_type": "code",
   "execution_count": 3,
   "id": "3ae06fa2",
   "metadata": {},
   "outputs": [],
   "source": [
    "X = [ [1.4,0.2],\n",
    "      [1.7,0.4],\n",
    "      [1.4,0.3],\n",
    "      [1.5,0.2],\n",
    "      [1.4,0.1],\n",
    "      [4.7,1.4],\n",
    "      [4.5,1.5],\n",
    "      [4.9,1.5],\n",
    "      [4,1.3],\n",
    "      [4.6,1.5]\n",
    "    ]\n",
    "y = [0,0,0,0,0,1,1,1,1,1]"
   ]
  },
  {
   "cell_type": "code",
   "execution_count": 4,
   "id": "c2e72b47",
   "metadata": {},
   "outputs": [
    {
     "data": {
      "text/plain": [
       "KNeighborsClassifier()"
      ]
     },
     "execution_count": 4,
     "metadata": {},
     "output_type": "execute_result"
    }
   ],
   "source": [
    "#调用KNeighborsClassifier算法模型\n",
    "knn = KNeighborsClassifier( )\n",
    "#训练模型\n",
    "knn.fit(X,y)"
   ]
  },
  {
   "cell_type": "code",
   "execution_count": 6,
   "id": "b7aa7bd8",
   "metadata": {},
   "outputs": [
    {
     "name": "stdout",
     "output_type": "stream",
     "text": [
      "versicolor\n"
     ]
    }
   ],
   "source": [
    "pre = knn.predict([[3.3,1]])\n",
    "if pre == 1:\n",
    "    print(\"versicolor\")\n",
    "elif pre == 0:\n",
    "    print('setosa')"
   ]
  },
  {
   "cell_type": "code",
   "execution_count": null,
   "id": "25370958",
   "metadata": {},
   "outputs": [],
   "source": []
  }
 ],
 "metadata": {
  "kernelspec": {
   "display_name": "Python 3 (ipykernel)",
   "language": "python",
   "name": "python3"
  },
  "language_info": {
   "codemirror_mode": {
    "name": "ipython",
    "version": 3
   },
   "file_extension": ".py",
   "mimetype": "text/x-python",
   "name": "python",
   "nbconvert_exporter": "python",
   "pygments_lexer": "ipython3",
   "version": "3.9.7"
  }
 },
 "nbformat": 4,
 "nbformat_minor": 5
}
