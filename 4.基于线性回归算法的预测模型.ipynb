{
 "cells": [
  {
   "cell_type": "markdown",
   "id": "f362ae6b",
   "metadata": {},
   "source": [
    "# 重要概念\n",
    "- 损失函数:损失函数（loss function）就是用来度量模型的预测值f(x)与真实值Y的差异程度的运算函数，**值越小说明模型对<u>训练数据</u>的拟合度越高**\n",
    "- 相关链接：[损失函数（Loss Function）详解](https://zhuanlan.zhihu.com/p/261059231)\n",
    "- 岭回归模型：岭回归模型是一种改良的**最小二乘法**，是一种能够**避免过拟合**的线性模型\n",
    "- 相关链接：[最小二乘法详解](https://zhuanlan.zhihu.com/p/38128785)\n",
    "- 相关链接：[sklearn官网-岭回归](https://scikit-learn.org/stable/auto_examples/linear_model/plot_ridge_path.html)\n",
    "- 套索回归模型：和岭回归类似，不同的是套索模型使用**L1正则化**。**L1正则化会导致模型有一部分特征变量的系数正好等于0**\n"
   ]
  },
  {
   "cell_type": "markdown",
   "id": "9c155862",
   "metadata": {},
   "source": [
    "# 线性回归模型的应用"
   ]
  },
  {
   "cell_type": "markdown",
   "id": "20174f3e",
   "metadata": {},
   "source": [
    "## 生成一个用于回归分析的有1个特征的数据集"
   ]
  },
  {
   "cell_type": "code",
   "execution_count": 1,
   "id": "c10566c6",
   "metadata": {},
   "outputs": [],
   "source": [
    "import numpy as np\n",
    "import matplotlib.pyplot as plt\n",
    "# 导入回归数据生成器\n",
    "from sklearn.datasets import make_regression\n",
    "# 导入线性回归模型\n",
    "from sklearn.linear_model import LinearRegression\n",
    "# 导入均方误差评估模块\n",
    "from sklearn.metrics import mean_squared_error\n",
    "# 生成用于回归分析的数据集\n",
    "X,y = make_regression(n_samples=50,n_features=1,n_informative=1,random_state=3,noise=50)"
   ]
  },
  {
   "cell_type": "markdown",
   "id": "64768e00",
   "metadata": {},
   "source": [
    "## 使用线性回归模型对数据进行拟合"
   ]
  },
  {
   "cell_type": "code",
   "execution_count": 2,
   "id": "9a3ab263",
   "metadata": {},
   "outputs": [
    {
     "data": {
      "text/plain": [
       "LinearRegression()"
      ]
     },
     "execution_count": 2,
     "metadata": {},
     "output_type": "execute_result"
    }
   ],
   "source": [
    "lr = LinearRegression()\n",
    "lr.fit(X,y)"
   ]
  },
  {
   "cell_type": "markdown",
   "id": "1c131f7e",
   "metadata": {},
   "source": [
    "## 画出线性回归模型图形"
   ]
  },
  {
   "cell_type": "code",
   "execution_count": 3,
   "id": "d7391cc0",
   "metadata": {},
   "outputs": [
    {
     "data": {
      "text/plain": [
       "Text(0.5, 1.0, 'Linear Regression')"
      ]
     },
     "execution_count": 3,
     "metadata": {},
     "output_type": "execute_result"
    },
    {
     "data": {
      "image/png": "[encoded data removed]",
      "text/plain": [
       "<Figure size 432x288 with 1 Axes>"
      ]
     },
     "metadata": {
      "needs_background": "light"
     },
     "output_type": "display_data"
    }
   ],
   "source": [
    "# z是我们生成的等差数列，用来画出线性模型的图形\n",
    "z = np.linspace(-3,3,100).reshape(-1,1)\n",
    "plt.scatter(X,y,c='b',s=60)\n",
    "plt.plot(z,lr.predict(z),c='purple')\n",
    "plt.title(\"Linear Regression\")"
   ]
  },
  {
   "cell_type": "markdown",
   "id": "cb75b621",
   "metadata": {},
   "source": [
    "## 输出线性回归模型的系数、截距和方程"
   ]
  },
  {
   "cell_type": "code",
   "execution_count": 4,
   "id": "92e605d8",
   "metadata": {},
   "outputs": [
    {
     "name": "stdout",
     "output_type": "stream",
     "text": [
      "代码运行结果:\n",
      "\n",
      "================================\n",
      "直线的斜率为： 84.1608716490267\n",
      "直线的截距为： 14.475840238473038\n",
      "直线的方程为：y=84.1608716490267x+14.475840238473038\n",
      "================================\n"
     ]
    }
   ],
   "source": [
    "print(\"代码运行结果:\\n\")\n",
    "print(\"================================\")\n",
    "print(\"直线的斜率为：\",lr.coef_[0])\n",
    "print(\"直线的截距为：\",lr.intercept_)\n",
    "print(f\"直线的方程为：y={lr.coef_[0]}x+{lr.intercept_}\")\n",
    "print(\"================================\")"
   ]
  },
  {
   "cell_type": "markdown",
   "id": "08a0ef8a",
   "metadata": {},
   "source": [
    "## 生成用于回归分析的有2个特征的数据集"
   ]
  },
  {
   "cell_type": "code",
   "execution_count": 5,
   "id": "377f8dd5",
   "metadata": {},
   "outputs": [],
   "source": [
    "from sklearn.model_selection import train_test_split\n",
    "# 生成用于回归分析的有2个特征的数据集\n",
    "X,y = make_regression(n_samples=100,n_features=2,n_informative=2,random_state=38)"
   ]
  },
  {
   "cell_type": "markdown",
   "id": "ea423a0a",
   "metadata": {},
   "source": [
    "## 使用线性回归对数据进行拟合，并输出线性回归模型的系数、截距"
   ]
  },
  {
   "cell_type": "code",
   "execution_count": 6,
   "id": "eaccde1a",
   "metadata": {},
   "outputs": [],
   "source": [
    "# 拆分数据\n",
    "X_train,X_test,y_train,y_test = train_test_split(X,y,random_state=8)\n",
    "# 训练数据\n",
    "lr2 = LinearRegression().fit(X_train,y_train)\n",
    "# 预测数据\n",
    "y_predict = lr2.predict(X_test)"
   ]
  },
  {
   "cell_type": "code",
   "execution_count": 7,
   "id": "3b9708d3",
   "metadata": {},
   "outputs": [
    {
     "name": "stdout",
     "output_type": "stream",
     "text": [
      "代码运行结果:\n",
      "\n",
      "================================\n",
      "lr2的斜率为： [70.38592453  7.43213621]\n",
      "lr2的截距为： -1.4210854715202004e-14\n",
      "lr2的方程为：y=70.3859245284068x1+7.43213621477587x2+-1.4210854715202004e-14\n",
      "================================\n"
     ]
    }
   ],
   "source": [
    "print(\"代码运行结果:\\n\")\n",
    "print(\"================================\")\n",
    "print(\"lr2的斜率为：\",lr2.coef_[:])\n",
    "print(\"lr2的截距为：\",lr2.intercept_)\n",
    "print(f\"lr2的方程为：y={lr2.coef_[0]}x1+{lr2.coef_[1]}x2+{lr2.intercept_}\")\n",
    "print(\"================================\")"
   ]
  },
  {
   "cell_type": "markdown",
   "id": "5ca59e47",
   "metadata": {},
   "source": [
    "## 线性回归模型的性能评估"
   ]
  },
  {
   "cell_type": "code",
   "execution_count": 8,
   "id": "71b73c6a",
   "metadata": {},
   "outputs": [
    {
     "name": "stdout",
     "output_type": "stream",
     "text": [
      "================================\n",
      "均方误差为： 3.992582813504585e-28\n",
      "================================\n"
     ]
    }
   ],
   "source": [
    "# 均方误差评估\n",
    "mse = mean_squared_error(y_test,y_predict)\n",
    "print(\"================================\")\n",
    "print(\"均方误差为：\",mse)\n",
    "print(\"================================\")"
   ]
  },
  {
   "cell_type": "markdown",
   "id": "0d17c8c5",
   "metadata": {},
   "source": [
    "# 波士顿房价预测"
   ]
  },
  {
   "cell_type": "markdown",
   "id": "41995a4c",
   "metadata": {},
   "source": [
    "## 数据集探索"
   ]
  },
  {
   "cell_type": "code",
   "execution_count": 9,
   "id": "6e24c185",
   "metadata": {
    "scrolled": true
   },
   "outputs": [
    {
     "data": {
      "text/plain": [
       "(506, 13)"
      ]
     },
     "execution_count": 9,
     "metadata": {},
     "output_type": "execute_result"
    }
   ],
   "source": [
    "# from sklearn.datasets import load_boston\n",
    "# `load_boston` has been removed from scikit-learn since version 1.2.\n",
    "# https://github.com/scikit-learn/scikit-learn/blob/main/sklearn/datasets/data/boston_house_prices.csv\n",
    "import pandas as pd\n",
    "import numpy as np\n",
    "\n",
    "data_url = \"http://lib.stat.cmu.edu/datasets/boston\"\n",
    "raw_df = pd.read_csv(data_url, sep=\"\\s+\", skiprows=22, header=None)\n",
    "data = np.hstack([raw_df.values[::2, :], raw_df.values[1::2, :2]])\n",
    "target = raw_df.values[1::2, 2]\n",
    "\n",
    "data.shape"
   ]
  },
  {
   "cell_type": "code",
   "execution_count": 10,
   "id": "cda1eef5",
   "metadata": {},
   "outputs": [
    {
     "data": {
      "text/plain": [
       "(506,)"
      ]
     },
     "execution_count": 10,
     "metadata": {},
     "output_type": "execute_result"
    }
   ],
   "source": [
    "target.shape"
   ]
  },
  {
   "cell_type": "markdown",
   "id": "11dd68e0",
   "metadata": {},
   "source": [
    "## 用线性回归模型拟合数据并进行预测"
   ]
  },
  {
   "cell_type": "code",
   "execution_count": 11,
   "id": "d6accdaa",
   "metadata": {},
   "outputs": [],
   "source": [
    "from sklearn.model_selection import train_test_split\n",
    "# 拆分数据\n",
    "X_train,X_test,y_train,y_test = train_test_split(data,target,random_state=36)\n",
    "# 训练数据\n",
    "lr_boston = LinearRegression().fit(X_train,y_train)\n",
    "# 预测数据\n",
    "y_predict = lr_boston.predict(X_test)"
   ]
  },
  {
   "cell_type": "markdown",
   "id": "5ac35b20",
   "metadata": {},
   "source": [
    "## 对模型进行评估"
   ]
  },
  {
   "cell_type": "code",
   "execution_count": 12,
   "id": "c4b59cc4",
   "metadata": {},
   "outputs": [
    {
     "name": "stdout",
     "output_type": "stream",
     "text": [
      "线性回归模型的均方误差为：\n",
      " 24.004430052241972\n"
     ]
    }
   ],
   "source": [
    "# 导入均方误差评估模块\n",
    "from sklearn.metrics import mean_squared_error\n",
    "# 均方误差评估\n",
    "mse = mean_squared_error(y_test,y_predict)\n",
    "print(\"线性回归模型的均方误差为：\\n\",mse)"
   ]
  },
  {
   "cell_type": "markdown",
   "id": "ad6b2c90",
   "metadata": {},
   "source": [
    "## 输出线性回归模型的系数和偏置"
   ]
  },
  {
   "cell_type": "code",
   "execution_count": 13,
   "id": "0f716afa",
   "metadata": {},
   "outputs": [
    {
     "name": "stdout",
     "output_type": "stream",
     "text": [
      "代码运行结果:\n",
      "\n",
      "================================\n",
      "lr_boston的斜率为： [-9.97859985e-02  4.36000046e-02  3.83811635e-02  3.45187835e+00\n",
      " -1.64404146e+01  3.96312862e+00 -7.41840830e-03 -1.50795571e+00\n",
      "  2.60346433e-01 -1.07545027e-02 -9.71955449e-01  1.17777648e-02\n",
      " -5.40689068e-01]\n",
      "lr_boston的截距为： 34.676258283187806\n",
      "================================\n"
     ]
    }
   ],
   "source": [
    "print(\"代码运行结果:\\n\")\n",
    "print(\"================================\")\n",
    "print(\"lr_boston的斜率为：\",lr_boston.coef_[:])\n",
    "print(\"lr_boston的截距为：\",lr_boston.intercept_)\n",
    "print(\"================================\")"
   ]
  },
  {
   "cell_type": "code",
   "execution_count": 14,
   "id": "29a94b47",
   "metadata": {},
   "outputs": [
    {
     "data": {
      "image/png": "[encoded data removed]",
      "text/plain": [
       "<Figure size 432x288 with 1 Axes>"
      ]
     },
     "metadata": {
      "needs_background": "light"
     },
     "output_type": "display_data"
    }
   ],
   "source": [
    "## 绘制波士顿真是放假与预测房价走势图\n",
    "plt.figure()\n",
    "x = np.arange(1, y_predict.shape[0] + 1)\n",
    "# 真实值走势\n",
    "plt.plot(x, y_test,marker=\"o\",linestyle=\":\",markersize=5)\n",
    "plt.plot(x,y_predict,marker=\"*\",markersize=5)\n",
    "plt.legend(['real',\"predict\"])\n",
    "plt.title(\"boston house real price and predict price\")\n",
    "plt.show()"
   ]
  },
  {
   "cell_type": "markdown",
   "id": "bff1506e",
   "metadata": {},
   "source": [
    "# 岭回归模型的应用（boston房价）"
   ]
  },
  {
   "cell_type": "code",
   "execution_count": 15,
   "id": "52c0c32b",
   "metadata": {},
   "outputs": [
    {
     "name": "stdout",
     "output_type": "stream",
     "text": [
      "\n",
      "================================\n",
      "ridge的斜率为： [-0.0953679   0.04589527  0.01069857  3.07060892 -8.77412032  3.98898723\n",
      " -0.01323409 -1.39995633  0.24580113 -0.0116064  -0.88526616  0.01204574\n",
      " -0.5596903 ]\n",
      "ridge的截距为： 29.558076258955197\n",
      "================================\n"
     ]
    }
   ],
   "source": [
    "# 导入岭回归模型\n",
    "from sklearn.linear_model import Ridge\n",
    "# 使用岭回归模型对数据进行拟合\n",
    "ridge = Ridge(alpha=1.0)\n",
    "# 训练数据\n",
    "ridge.fit(X_train,y_train)\n",
    "y_predict = ridge.predict(X_test)\n",
    "print(\"\")\n",
    "print(\"================================\")\n",
    "print(\"ridge的斜率为：\",ridge.coef_[:])\n",
    "print(\"ridge的截距为：\",ridge.intercept_)\n",
    "print(\"================================\")"
   ]
  },
  {
   "cell_type": "markdown",
   "id": "9c10d3dd",
   "metadata": {},
   "source": [
    "# 套索回归模型的应用（boston房价）"
   ]
  },
  {
   "cell_type": "code",
   "execution_count": 16,
   "id": "17502103",
   "metadata": {},
   "outputs": [
    {
     "name": "stdout",
     "output_type": "stream",
     "text": [
      "\n",
      "================================\n",
      "lasso的斜率为： [-0.05667701  0.04951008  0.          0.         -0.          0.90690771\n",
      "  0.015408   -0.78938302  0.20376589 -0.01209622 -0.75278709  0.00998691\n",
      " -0.80797632]\n",
      "lasso的截距为： 41.951882975394255\n",
      "================================\n"
     ]
    }
   ],
   "source": [
    "# 导入套索回归模型\n",
    "from sklearn.linear_model import Lasso\n",
    "# 使用套索回归模型对数据进行拟合\n",
    "lasso = Lasso(alpha=1.0)\n",
    "# 训练数据\n",
    "lasso.fit(X_train,y_train)\n",
    "y_predict = lasso.predict(X_test)\n",
    "print(\"\")\n",
    "print(\"================================\")\n",
    "print(\"lasso的斜率为：\",lasso.coef_[:])\n",
    "print(\"lasso的截距为：\",lasso.intercept_)\n",
    "print(\"================================\")"
   ]
  },
  {
   "cell_type": "markdown",
   "id": "c0911869",
   "metadata": {},
   "source": [
    "# 糖尿病患者病情预测"
   ]
  },
  {
   "cell_type": "markdown",
   "id": "4d22d56b",
   "metadata": {},
   "source": [
    "## 目标"
   ]
  },
  {
   "cell_type": "markdown",
   "id": "aa216e34",
   "metadata": {},
   "source": [
    "- 用线性回归模型对数据进行拟合\n",
    "- 使用岭回归模型对数据进行拟合\n",
    "- 尝试对比不同alpha值的岭回归模型对模型系数的影响,学习调节模型参数"
   ]
  },
  {
   "cell_type": "markdown",
   "id": "b2216042",
   "metadata": {},
   "source": [
    "## 数据探索"
   ]
  },
  {
   "cell_type": "code",
   "execution_count": 17,
   "id": "84d3e372",
   "metadata": {},
   "outputs": [
    {
     "data": {
      "text/plain": [
       "dict_keys(['data', 'target', 'frame', 'DESCR', 'feature_names', 'data_filename', 'target_filename', 'data_module'])"
      ]
     },
     "execution_count": 17,
     "metadata": {},
     "output_type": "execute_result"
    }
   ],
   "source": [
    "from sklearn.datasets import load_diabetes\n",
    "from sklearn.model_selection import train_test_split\n",
    "import matplotlib.pyplot as plt\n",
    "# 导入均方误差评估模块\n",
    "from sklearn.metrics import mean_squared_error\n",
    "# 导入数据集\n",
    "diabetes = load_diabetes()\n",
    "diabetes.keys()"
   ]
  },
  {
   "cell_type": "code",
   "execution_count": 18,
   "id": "de823251",
   "metadata": {},
   "outputs": [
    {
     "data": {
      "text/plain": [
       "(442, 10)"
      ]
     },
     "execution_count": 18,
     "metadata": {},
     "output_type": "execute_result"
    }
   ],
   "source": [
    "diabetes['data'].shape"
   ]
  },
  {
   "cell_type": "code",
   "execution_count": 19,
   "id": "85c13393",
   "metadata": {
    "scrolled": true
   },
   "outputs": [
    {
     "name": "stdout",
     "output_type": "stream",
     "text": [
      ".. _diabetes_dataset:\n",
      "\n",
      "Diabetes dataset\n",
      "----------------\n",
      "\n",
      "Ten baseline variables, age, sex, body mass index, average blood\n",
      "pressure, and six blood serum measurements were obtained for each of n =\n",
      "442 diabetes patients, as well as the response of interest, a\n",
      "quantitative measure of disease progression one year after baseline.\n",
      "\n",
      "**Data Set Characteristics:**\n",
      "\n",
      "  :Number of Instances: 442\n",
      "\n",
      "  :Number of Attributes: First 10 columns are numeric predictive values\n",
      "\n",
      "  :Target: Column 11 is a quantitative measure of disease progression one year after baseline\n",
      "\n",
      "  :Attribute Information:\n",
      "      - age     age in years\n",
      "      - sex\n",
      "      - bmi     body mass index\n",
      "      - bp      average blood pressure\n",
      "      - s1      tc, total serum cholesterol\n",
      "      - s2      ldl, low-density lipoproteins\n",
      "      - s3      hdl, high-density lipoproteins\n",
      "      - s4      tch, total cholesterol / HDL\n",
      "      - s5      ltg, possibly log of serum triglycerides level\n",
      "      - s6      glu, blood sugar level\n",
      "\n",
      "Note: Each of these 10 feature variables have been mean centered and scaled by the standard deviation times `n_samples` (i.e. the sum of squares of each column totals 1).\n",
      "\n",
      "Source URL:\n",
      "https://www4.stat.ncsu.edu/~boos/var.select/diabetes.html\n",
      "\n",
      "For more information see:\n",
      "Bradley Efron, Trevor Hastie, Iain Johnstone and Robert Tibshirani (2004) \"Least Angle Regression,\" Annals of Statistics (with discussion), 407-499.\n",
      "(https://web.stanford.edu/~hastie/Papers/LARS/LeastAngle_2002.pdf)\n"
     ]
    }
   ],
   "source": [
    "print(diabetes['DESCR'])"
   ]
  },
  {
   "cell_type": "markdown",
   "id": "00ea22ab",
   "metadata": {},
   "source": [
    "## 使用线性回归模型拟合数据并进行预测和评估"
   ]
  },
  {
   "cell_type": "code",
   "execution_count": 20,
   "id": "97dd6cb9",
   "metadata": {},
   "outputs": [
    {
     "name": "stdout",
     "output_type": "stream",
     "text": [
      "线性回归模型的均方误差为：\n",
      " 3033.511100160127\n"
     ]
    }
   ],
   "source": [
    "# 导入特征变量\n",
    "X = diabetes['data']\n",
    "# 导入目标变量\n",
    "y = diabetes['target']\n",
    "# 将数据集拆分为训练集和测试集\n",
    "X_train,X_test,y_train,y_test = train_test_split(X,y,random_state=3)\n",
    "# 创建线性模型对象\n",
    "diabetes_lr = LinearRegression()\n",
    "# 训练模型\n",
    "diabetes_lr.fit(X_train,y_train)\n",
    "# 预测数据\n",
    "y_predict = diabetes_lr.predict(X_test)\n",
    "# 计算均方误差、系数、偏置\n",
    "mse = mean_squared_error(y_test,y_predict)\n",
    "print(\"线性回归模型的均方误差为：\\n\",mse)"
   ]
  },
  {
   "cell_type": "code",
   "execution_count": 21,
   "id": "c350db6e",
   "metadata": {},
   "outputs": [
    {
     "name": "stdout",
     "output_type": "stream",
     "text": [
      "代码运行结果:\n",
      "\n",
      "================================\n",
      "diabetes_lr的系数为： [  -1.28870545 -245.94728167  542.47620504  332.42267508 -869.26091055\n",
      "  471.4161592   172.23828963  334.86822242  697.44180619   66.83311373]\n",
      "diabetes_lr的偏置为： 153.4787527732602\n",
      "================================\n"
     ]
    }
   ],
   "source": [
    "print(\"代码运行结果:\\n\")\n",
    "print(\"================================\")\n",
    "print(\"diabetes_lr的系数为：\",diabetes_lr.coef_[:])\n",
    "print(\"diabetes_lr的偏置为：\",diabetes_lr.intercept_)\n",
    "print(\"================================\")"
   ]
  },
  {
   "cell_type": "markdown",
   "id": "30758797",
   "metadata": {},
   "source": [
    "## 使用岭回归回归模型拟合数据并进行预测和评估"
   ]
  },
  {
   "cell_type": "markdown",
   "id": "c5a596f1",
   "metadata": {},
   "source": [
    "### 使用岭回归模型拟合数据并进行预测，alpha=1.0"
   ]
  },
  {
   "cell_type": "code",
   "execution_count": 22,
   "id": "03dfc9b5",
   "metadata": {},
   "outputs": [
    {
     "name": "stdout",
     "output_type": "stream",
     "text": [
      "岭回归模型的均方误差为：\n",
      " 3397.762714762839\n"
     ]
    }
   ],
   "source": [
    "from sklearn.linear_model import Ridge\n",
    "# 创建岭回归模型对象\n",
    "diabetes_ridge = Ridge(alpha=1.0)\n",
    "# 训练模型\n",
    "diabetes_ridge.fit(X_train,y_train)\n",
    "# 预测模型\n",
    "y_predict = diabetes_ridge.predict(X_test)\n",
    "# 计算均方误差、系数、偏置\n",
    "mse_ridge = mean_squared_error(y_test,y_predict)\n",
    "print(\"岭回归模型的均方误差为：\\n\",mse_ridge)"
   ]
  },
  {
   "cell_type": "code",
   "execution_count": 23,
   "id": "22904ed9",
   "metadata": {},
   "outputs": [
    {
     "name": "stdout",
     "output_type": "stream",
     "text": [
      "代码运行结果:\n",
      "\n",
      "================================\n",
      "diabetes_ridge的系数为： [  34.31954315  -59.20340316  277.58178348  179.617653      4.07396347\n",
      "  -15.57560306 -156.27445572  135.82418695  225.74004719  120.84304395]\n",
      "diabetes_ridge的偏置为： 153.70309047475087\n",
      "================================\n"
     ]
    }
   ],
   "source": [
    "print(\"代码运行结果:\\n\")\n",
    "print(\"================================\")\n",
    "print(\"diabetes_ridge的系数为：\",diabetes_ridge.coef_[:])\n",
    "print(\"diabetes_ridge的偏置为：\",diabetes_ridge.intercept_)\n",
    "print(\"================================\")"
   ]
  },
  {
   "cell_type": "markdown",
   "id": "fac8241e",
   "metadata": {},
   "source": [
    "### 使用岭回归模型拟合数据并进行预测，alpha=10"
   ]
  },
  {
   "cell_type": "code",
   "execution_count": 29,
   "id": "b967ee5c",
   "metadata": {},
   "outputs": [
    {
     "name": "stdout",
     "output_type": "stream",
     "text": [
      "岭回归模型的均方误差为：\n",
      " 3397.762714762839\n"
     ]
    }
   ],
   "source": [
    "from sklearn.linear_model import Ridge\n",
    "# 创建岭回归模型对象\n",
    "diabetes_ridge2 = Ridge(alpha=10)\n",
    "# 训练模型\n",
    "diabetes_ridge2.fit(X_train,y_train)\n",
    "# 预测模型\n",
    "y_predict = diabetes_ridge.predict(X_test)\n",
    "# 计算均方误差、系数、偏置\n",
    "mse_ridge2 = mean_squared_error(y_test,y_predict)\n",
    "print(\"岭回归模型的均方误差为：\\n\",mse_ridge2)"
   ]
  },
  {
   "cell_type": "code",
   "execution_count": 30,
   "id": "c3ffc4b1",
   "metadata": {},
   "outputs": [
    {
     "name": "stdout",
     "output_type": "stream",
     "text": [
      "代码运行结果:\n",
      "\n",
      "================================\n",
      "diabetes_ridge2的系数为： [ 17.9978069    2.59013725  62.1654198   44.65228556  15.37958371\n",
      "  12.82876828 -43.44415116  44.7065956   56.76340633  40.810085  ]\n",
      "diabetes_ridge2的偏置为： 153.41827613258457\n",
      "================================\n"
     ]
    }
   ],
   "source": [
    "print(\"代码运行结果:\\n\")\n",
    "print(\"================================\")\n",
    "print(\"diabetes_ridge2的系数为：\",diabetes_ridge2.coef_[:])\n",
    "print(\"diabetes_ridge2的偏置为：\",diabetes_ridge2.intercept_)\n",
    "print(\"================================\")"
   ]
  },
  {
   "cell_type": "markdown",
   "id": "c84d6396",
   "metadata": {},
   "source": [
    "### 使用岭回归模型拟合数据并进行预测，alpha=0.1"
   ]
  },
  {
   "cell_type": "code",
   "execution_count": 31,
   "id": "656be627",
   "metadata": {},
   "outputs": [
    {
     "name": "stdout",
     "output_type": "stream",
     "text": [
      "岭回归模型的均方误差为：\n",
      " 3397.762714762839\n"
     ]
    }
   ],
   "source": [
    "from sklearn.linear_model import Ridge\n",
    "# 创建岭回归模型对象\n",
    "diabetes_ridge3 = Ridge(alpha=0.1)\n",
    "# 训练模型\n",
    "diabetes_ridge3.fit(X_train,y_train)\n",
    "# 预测模型\n",
    "y_predict = diabetes_ridge.predict(X_test)\n",
    "# 计算均方误差、系数、偏置\n",
    "mse_ridge3 = mean_squared_error(y_test,y_predict)\n",
    "print(\"岭回归模型的均方误差为：\\n\",mse_ridge3)"
   ]
  },
  {
   "cell_type": "code",
   "execution_count": 32,
   "id": "beafef6f",
   "metadata": {},
   "outputs": [
    {
     "name": "stdout",
     "output_type": "stream",
     "text": [
      "代码运行结果:\n",
      "\n",
      "================================\n",
      "diabetes_ridge3的系数为： [   8.16145785 -202.65563381  491.26655856  295.97354172  -88.45727686\n",
      "  -88.91163971 -190.45478648  188.29158248  390.95153361   94.98546113]\n",
      "diabetes_ridge3的偏置为： 153.52126583890228\n",
      "================================\n"
     ]
    }
   ],
   "source": [
    "print(\"代码运行结果:\\n\")\n",
    "print(\"================================\")\n",
    "print(\"diabetes_ridge3的系数为：\",diabetes_ridge3.coef_[:])\n",
    "print(\"diabetes_ridge3的偏置为：\",diabetes_ridge3.intercept_)\n",
    "print(\"================================\")"
   ]
  },
  {
   "cell_type": "markdown",
   "id": "0d0d407e",
   "metadata": {},
   "source": [
    "## 绘制不同alpha参数的岭回归模型中的coef_属性"
   ]
  },
  {
   "cell_type": "code",
   "execution_count": 45,
   "id": "45928f94",
   "metadata": {},
   "outputs": [
    {
     "data": {
      "text/plain": [
       "<matplotlib.collections.LineCollection at 0x20fcf35f280>"
      ]
     },
     "execution_count": 45,
     "metadata": {},
     "output_type": "execute_result"
    },
    {
     "data": {
      "image/png": "[encoded data removed]",
      "text/plain": [
       "<Figure size 432x288 with 1 Axes>"
      ]
     },
     "metadata": {
      "needs_background": "light"
     },
     "output_type": "display_data"
    }
   ],
   "source": [
    "# 创建画布\n",
    "plt.figure()\n",
    "# 设置中文字体\n",
    "plt.rcParams['font.sans-serif'] = 'SimHei'\n",
    "plt.rcParams['axes.unicode_minus'] = False\n",
    "# 绘图\n",
    "x = np.arange(0,10)\n",
    "# alpha=1.0\n",
    "plt.plot(x,diabetes_ridge.coef_,'s',label='alpha=1.0的岭回归模型')\n",
    "# alpha=10\n",
    "plt.plot(x,diabetes_ridge2.coef_,'^',label='alpha=10的岭回归模型')\n",
    "# alpha=0.1\n",
    "plt.plot(x,diabetes_ridge3.coef_,'v',label='alpha=0.1的岭回归模型')\n",
    "# 线性回归\n",
    "plt.plot(x,diabetes_lr.coef_,'o',label='线性回归')\n",
    "# 添加图例\n",
    "plt.legend()\n",
    "# 添加标签\n",
    "plt.title('正则化程度对权重的影响')\n",
    "plt.xlabel(\"系数序号\")\n",
    "plt.ylabel(\"系数量级\")\n",
    "# 添加0标准线\n",
    "plt.hlines(0,0,len(diabetes_lr.coef_))"
   ]
  },
  {
   "cell_type": "markdown",
   "id": "614fc11f",
   "metadata": {},
   "source": [
    "## 总结"
   ]
  },
  {
   "cell_type": "markdown",
   "id": "31b8eaf9",
   "metadata": {},
   "source": [
    "- 相对于**线性回归模型**，岭回归模型**alpha=1.0**的均方误差并**没有减小**，但权重系数值有所**减小**\n",
    "- 相对于**岭回归模型alpha=1.0**，岭回归模型**alpha=10**的均方误差**没有减小**，但权重系数值**减小**\n",
    "- 相对于**岭回归模型alpha=1.0**，岭回归模型**alpha=0.1**的均方误差**有所减小**，但权重系数值**更大**\n",
    "\n",
    "- 从图中我们可以发现\n",
    "- 当alpha=1.0时，特征变量系数**普遍偏大**\n",
    "- **当alpha=10时，特征变量系数大多在0附近，也就是说模型的复杂度大大降低，模型更不容易出现过拟合**\n",
    "- 当alpha=0.1时，特征变量系数与**线性回归模型**重合，而线性回归模型并没有进行正则化处理，对应的特征变量系数值会**非常大**"
   ]
  }
 ],
 "metadata": {
  "kernelspec": {
   "display_name": "Python 3 (ipykernel)",
   "language": "python",
   "name": "python3"
  },
  "language_info": {
   "codemirror_mode": {
    "name": "ipython",
    "version": 3
   },
   "file_extension": ".py",
   "mimetype": "text/x-python",
   "name": "python",
   "nbconvert_exporter": "python",
   "pygments_lexer": "ipython3",
   "version": "3.9.13"
  },
  "toc": {
   "base_numbering": 1,
   "nav_menu": {},
   "number_sections": true,
   "sideBar": true,
   "skip_h1_title": false,
   "title_cell": "Table of Contents",
   "title_sidebar": "Contents",
   "toc_cell": false,
   "toc_position": {
    "height": "calc(100% - 180px)",
    "left": "10px",
    "top": "150px",
    "width": "277.425px"
   },
   "toc_section_display": true,
   "toc_window_display": true
  }
 },
 "nbformat": 4,
 "nbformat_minor": 5
}
