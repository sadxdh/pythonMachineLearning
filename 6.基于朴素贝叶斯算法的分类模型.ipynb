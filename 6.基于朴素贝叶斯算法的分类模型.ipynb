{
 "cells": [
  {
   "cell_type": "markdown",
   "id": "5ef6ac85",
   "metadata": {},
   "source": [
    "# 伯努利朴素贝叶斯模型实现天气预测"
   ]
  },
  {
   "cell_type": "markdown",
   "id": "8dc640d1",
   "metadata": {},
   "source": [
    "## 数据收集和分析"
   ]
  },
  {
   "cell_type": "code",
   "execution_count": 19,
   "id": "05a7474c",
   "metadata": {},
   "outputs": [
    {
     "name": "stdout",
     "output_type": "stream",
     "text": [
      "feature counts:\n",
      " {0: array([1, 2, 0, 4]), 1: array([1, 3, 3, 0])}\n"
     ]
    }
   ],
   "source": [
    "import numpy as np\n",
    "X = np.array([\n",
    "    [0,1,0,1],\n",
    "    [1,1,1,0],\n",
    "    [0,1,1,0],\n",
    "    [0,0,0,1],\n",
    "    [0,1,1,0],\n",
    "    [0,1,0,1],\n",
    "    [1,0,0,1]\n",
    "])\n",
    "y = np.array([0,1,1,0,1,0,0])\n",
    "# 对不同分类计算每个特征值为1的数量\n",
    "counts = {}\n",
    "for label in np.unique(y):\n",
    "    counts[label] = X[y==label].sum(axis=0)\n",
    "print(\"feature counts:\\n\",counts)"
   ]
  },
  {
   "cell_type": "markdown",
   "id": "8038531c",
   "metadata": {},
   "source": [
    "- y为0分类时（没有下雨），有1天刮北风，有2天闷热，有0天多云，有4天报有雨\n",
    "- y为1分类时（  有下雨），有1天刮北风，有3天闷热，有3天多云，有0天报有雨"
   ]
  },
  {
   "cell_type": "markdown",
   "id": "8b24dd13",
   "metadata": {},
   "source": [
    "## 创建伯努利朴素贝叶斯模型并进行天气预测"
   ]
  },
  {
   "cell_type": "code",
   "execution_count": 30,
   "id": "9d709de7",
   "metadata": {},
   "outputs": [
    {
     "name": "stdout",
     "output_type": "stream",
     "text": [
      "预测有雨\n"
     ]
    }
   ],
   "source": [
    "# 导入BernoulliNB类\n",
    "from sklearn.naive_bayes import BernoulliNB\n",
    "# 使用伯努利朴素贝叶斯模型拟合数据\n",
    "clf = BernoulliNB()\n",
    "clf.fit(X,y)\n",
    "# 要进行预测的这一天，0刮北风，0闷热，1多云，0报有雨\n",
    "next_day = [[0,0,1,0]]\n",
    "pred_day = clf.predict(next_day)\n",
    "if pred_day[0] == 1:\n",
    "    print(\"预测有雨\")\n",
    "else:\n",
    "    print(\"预测无雨\")"
   ]
  },
  {
   "cell_type": "code",
   "execution_count": 31,
   "id": "6b9017e0",
   "metadata": {},
   "outputs": [
    {
     "name": "stdout",
     "output_type": "stream",
     "text": [
      "不下雨的概率是： 0.13848881010414352\n",
      "会下雨的概率是： 0.8615111898958564\n"
     ]
    }
   ],
   "source": [
    "# 模型预测分类概率\n",
    "pred_prob = clf.predict_proba(next_day)\n",
    "print(\"不下雨的概率是：\",pred_prob[0,0])\n",
    "print(\"会下雨的概率是：\",pred_prob[0,1])"
   ]
  },
  {
   "cell_type": "markdown",
   "id": "0117f40f",
   "metadata": {},
   "source": [
    "## 预测并分析预测结果"
   ]
  },
  {
   "cell_type": "code",
   "execution_count": 32,
   "id": "de9e3357",
   "metadata": {},
   "outputs": [
    {
     "name": "stdout",
     "output_type": "stream",
     "text": [
      "预测无雨\n"
     ]
    }
   ],
   "source": [
    "next_day1 = [[1,1,0,1]]\n",
    "# 使用训练好的模型继续预测\n",
    "pred_day1 = clf.predict(next_day1)\n",
    "if pred_day1[0] == 1:\n",
    "    print(\"预测有雨\")\n",
    "else:\n",
    "    print(\"预测无雨\")"
   ]
  },
  {
   "cell_type": "code",
   "execution_count": 33,
   "id": "bd10908c",
   "metadata": {},
   "outputs": [
    {
     "name": "stdout",
     "output_type": "stream",
     "text": [
      "不下雨的概率是： 0.92340878198688\n",
      "会下雨的概率是： 0.07659121801311984\n"
     ]
    }
   ],
   "source": [
    "# 模型预测分类概率\n",
    "pred_prob1 = clf.predict_proba(next_day1)\n",
    "print(\"不下雨的概率是：\",pred_prob1[0,0])\n",
    "print(\"会下雨的概率是：\",pred_prob1[0,1])"
   ]
  },
  {
   "cell_type": "code",
   "execution_count": 35,
   "id": "3d605236",
   "metadata": {},
   "outputs": [
    {
     "name": "stdout",
     "output_type": "stream",
     "text": [
      "未来两天下雨的预测结果为： [1 0]\n",
      "未来两天下雨的预测分类概率为：\n",
      " [[0.13848881 0.86151119]\n",
      " [0.92340878 0.07659122]]\n"
     ]
    }
   ],
   "source": [
    "next_day2 = [[0,0,1,0],[1,1,0,1]]\n",
    "# 使用训练好的模型继续预测\n",
    "pred_day2 = clf.predict(next_day2)\n",
    "print(\"未来两天下雨的预测结果为：\",pred_day2)\n",
    "# 模型预测分类概率\n",
    "pred_prob2 = clf.predict_proba(next_day2)\n",
    "print(\"未来两天下雨的预测分类概率为：\\n\",pred_prob2)"
   ]
  },
  {
   "cell_type": "markdown",
   "id": "268fb994",
   "metadata": {},
   "source": [
    "# 高斯朴素贝叶斯模型实现连续值分类"
   ]
  },
  {
   "cell_type": "markdown",
   "id": "4d937aa0",
   "metadata": {},
   "source": [
    "## 准备数据集并用BernoullNB类进行分类"
   ]
  },
  {
   "cell_type": "markdown",
   "id": "4a21330a",
   "metadata": {},
   "source": [
    "## 使用高斯朴素贝叶斯模型进行分类"
   ]
  },
  {
   "cell_type": "markdown",
   "id": "caab77ed",
   "metadata": {},
   "source": [
    "# 多项式朴素贝叶斯模型实现离散特征分类"
   ]
  },
  {
   "cell_type": "markdown",
   "id": "76fb10ed",
   "metadata": {},
   "source": [
    "## 使用多项式朴素贝叶斯模型进行分类"
   ]
  },
  {
   "cell_type": "markdown",
   "id": "5435a25d",
   "metadata": {},
   "source": [
    "## 将数值离散化处理后重新进行分类"
   ]
  },
  {
   "cell_type": "markdown",
   "id": "19b5b1cd",
   "metadata": {},
   "source": [
    "# 估算个人收入等级"
   ]
  },
  {
   "cell_type": "markdown",
   "id": "b8309b6b",
   "metadata": {},
   "source": [
    "## 数据准备"
   ]
  },
  {
   "cell_type": "code",
   "execution_count": 25,
   "id": "905d3b8e",
   "metadata": {},
   "outputs": [
    {
     "name": "stdout",
     "output_type": "stream",
     "text": [
      "(32561, 15)\n"
     ]
    },
    {
     "data": {
      "text/html": [
       "<div>\n",
       "<style scoped>\n",
       "    .dataframe tbody tr th:only-of-type {\n",
       "        vertical-align: middle;\n",
       "    }\n",
       "\n",
       "    .dataframe tbody tr th {\n",
       "        vertical-align: top;\n",
       "    }\n",
       "\n",
       "    .dataframe thead th {\n",
       "        text-align: right;\n",
       "    }\n",
       "</style>\n",
       "<table border=\"1\" class=\"dataframe\">\n",
       "  <thead>\n",
       "    <tr style=\"text-align: right;\">\n",
       "      <th></th>\n",
       "      <th>年龄</th>\n",
       "      <th>单位性质</th>\n",
       "      <th>权重</th>\n",
       "      <th>学历</th>\n",
       "      <th>受教育时长</th>\n",
       "      <th>婚姻状况</th>\n",
       "      <th>职业</th>\n",
       "      <th>家庭情况</th>\n",
       "      <th>种族</th>\n",
       "      <th>性别</th>\n",
       "      <th>资产所得</th>\n",
       "      <th>资产损失</th>\n",
       "      <th>周工作时长</th>\n",
       "      <th>原籍</th>\n",
       "      <th>收入</th>\n",
       "    </tr>\n",
       "  </thead>\n",
       "  <tbody>\n",
       "    <tr>\n",
       "      <th>0</th>\n",
       "      <td>39</td>\n",
       "      <td>State-gov</td>\n",
       "      <td>77516</td>\n",
       "      <td>Bachelors</td>\n",
       "      <td>13</td>\n",
       "      <td>Never-married</td>\n",
       "      <td>Adm-clerical</td>\n",
       "      <td>Not-in-family</td>\n",
       "      <td>White</td>\n",
       "      <td>Male</td>\n",
       "      <td>2174</td>\n",
       "      <td>0</td>\n",
       "      <td>40</td>\n",
       "      <td>United-States</td>\n",
       "      <td>&lt;=50K</td>\n",
       "    </tr>\n",
       "    <tr>\n",
       "      <th>1</th>\n",
       "      <td>50</td>\n",
       "      <td>Self-emp-not-inc</td>\n",
       "      <td>83311</td>\n",
       "      <td>Bachelors</td>\n",
       "      <td>13</td>\n",
       "      <td>Married-civ-spouse</td>\n",
       "      <td>Exec-managerial</td>\n",
       "      <td>Husband</td>\n",
       "      <td>White</td>\n",
       "      <td>Male</td>\n",
       "      <td>0</td>\n",
       "      <td>0</td>\n",
       "      <td>13</td>\n",
       "      <td>United-States</td>\n",
       "      <td>&lt;=50K</td>\n",
       "    </tr>\n",
       "    <tr>\n",
       "      <th>2</th>\n",
       "      <td>38</td>\n",
       "      <td>Private</td>\n",
       "      <td>215646</td>\n",
       "      <td>HS-grad</td>\n",
       "      <td>9</td>\n",
       "      <td>Divorced</td>\n",
       "      <td>Handlers-cleaners</td>\n",
       "      <td>Not-in-family</td>\n",
       "      <td>White</td>\n",
       "      <td>Male</td>\n",
       "      <td>0</td>\n",
       "      <td>0</td>\n",
       "      <td>40</td>\n",
       "      <td>United-States</td>\n",
       "      <td>&lt;=50K</td>\n",
       "    </tr>\n",
       "    <tr>\n",
       "      <th>3</th>\n",
       "      <td>53</td>\n",
       "      <td>Private</td>\n",
       "      <td>234721</td>\n",
       "      <td>11th</td>\n",
       "      <td>7</td>\n",
       "      <td>Married-civ-spouse</td>\n",
       "      <td>Handlers-cleaners</td>\n",
       "      <td>Husband</td>\n",
       "      <td>Black</td>\n",
       "      <td>Male</td>\n",
       "      <td>0</td>\n",
       "      <td>0</td>\n",
       "      <td>40</td>\n",
       "      <td>United-States</td>\n",
       "      <td>&lt;=50K</td>\n",
       "    </tr>\n",
       "    <tr>\n",
       "      <th>4</th>\n",
       "      <td>28</td>\n",
       "      <td>Private</td>\n",
       "      <td>338409</td>\n",
       "      <td>Bachelors</td>\n",
       "      <td>13</td>\n",
       "      <td>Married-civ-spouse</td>\n",
       "      <td>Prof-specialty</td>\n",
       "      <td>Wife</td>\n",
       "      <td>Black</td>\n",
       "      <td>Female</td>\n",
       "      <td>0</td>\n",
       "      <td>0</td>\n",
       "      <td>40</td>\n",
       "      <td>Cuba</td>\n",
       "      <td>&lt;=50K</td>\n",
       "    </tr>\n",
       "  </tbody>\n",
       "</table>\n",
       "</div>"
      ],
      "text/plain": [
       "   年龄               单位性质      权重          学历  受教育时长                 婚姻状况  \\\n",
       "0  39          State-gov   77516   Bachelors     13        Never-married   \n",
       "1  50   Self-emp-not-inc   83311   Bachelors     13   Married-civ-spouse   \n",
       "2  38            Private  215646     HS-grad      9             Divorced   \n",
       "3  53            Private  234721        11th      7   Married-civ-spouse   \n",
       "4  28            Private  338409   Bachelors     13   Married-civ-spouse   \n",
       "\n",
       "                   职业            家庭情况      种族       性别  资产所得  资产损失  周工作时长  \\\n",
       "0        Adm-clerical   Not-in-family   White     Male  2174     0     40   \n",
       "1     Exec-managerial         Husband   White     Male     0     0     13   \n",
       "2   Handlers-cleaners   Not-in-family   White     Male     0     0     40   \n",
       "3   Handlers-cleaners         Husband   Black     Male     0     0     40   \n",
       "4      Prof-specialty            Wife   Black   Female     0     0     40   \n",
       "\n",
       "               原籍      收入  \n",
       "0   United-States   <=50K  \n",
       "1   United-States   <=50K  \n",
       "2   United-States   <=50K  \n",
       "3   United-States   <=50K  \n",
       "4            Cuba   <=50K  "
      ]
     },
     "execution_count": 25,
     "metadata": {},
     "output_type": "execute_result"
    }
   ],
   "source": [
    "# D:\\Programs\\pythonMachineLearning\\机器学习Python实战.pdf-张松慧 陈丹　-2022年版-人民邮电出版社\\数据集\n",
    "import pandas as pd\n",
    "df = pd.read_csv(\"D:/Programs/pythonMachineLearning/机器学习Python实战.pdf-张松慧 陈丹　-2022年版-人民邮电出版社\\数据集/adult.csv\",\n",
    "                 header=None,\n",
    "                 index_col=False,\n",
    "                 names=['年龄','单位性质','权重','学历','受教育时长','婚姻状况','职业','家庭情况','种族','性别','资产所得','资产损失','周工作时长','原籍','收入'])\n",
    "print(df.shape)\n",
    "df.head()"
   ]
  },
  {
   "cell_type": "code",
   "execution_count": 26,
   "id": "b3f2229f",
   "metadata": {},
   "outputs": [
    {
     "name": "stdout",
     "output_type": "stream",
     "text": [
      "24720\n",
      "7841\n"
     ]
    }
   ],
   "source": [
    "# 根据“收入”分组\n",
    "group_income = df.groupby('收入')\n",
    "# 收入<=50k的分组\n",
    "lessthan50k = dict([x for x in group_income])[' <=50K']\n",
    "# 收入>50的分组\n",
    "morethan50k = dict([x for x in group_income])[' >50K']\n",
    "print(lessthan50k.shape[0])\n",
    "print(morethan50k.shape[0])"
   ]
  },
  {
   "cell_type": "markdown",
   "id": "b62d5cd1",
   "metadata": {},
   "source": [
    "数据量差距过大，分类器会倾向多的类型，此处选取[lessthan50k[:10000],morethan50k]"
   ]
  },
  {
   "cell_type": "code",
   "execution_count": 27,
   "id": "d1cb461a",
   "metadata": {},
   "outputs": [
    {
     "name": "stdout",
     "output_type": "stream",
     "text": [
      "(17841, 15)\n"
     ]
    },
    {
     "data": {
      "text/html": [
       "<div>\n",
       "<style scoped>\n",
       "    .dataframe tbody tr th:only-of-type {\n",
       "        vertical-align: middle;\n",
       "    }\n",
       "\n",
       "    .dataframe tbody tr th {\n",
       "        vertical-align: top;\n",
       "    }\n",
       "\n",
       "    .dataframe thead th {\n",
       "        text-align: right;\n",
       "    }\n",
       "</style>\n",
       "<table border=\"1\" class=\"dataframe\">\n",
       "  <thead>\n",
       "    <tr style=\"text-align: right;\">\n",
       "      <th></th>\n",
       "      <th>年龄</th>\n",
       "      <th>单位性质</th>\n",
       "      <th>权重</th>\n",
       "      <th>学历</th>\n",
       "      <th>受教育时长</th>\n",
       "      <th>婚姻状况</th>\n",
       "      <th>职业</th>\n",
       "      <th>家庭情况</th>\n",
       "      <th>种族</th>\n",
       "      <th>性别</th>\n",
       "      <th>资产所得</th>\n",
       "      <th>资产损失</th>\n",
       "      <th>周工作时长</th>\n",
       "      <th>原籍</th>\n",
       "      <th>收入</th>\n",
       "    </tr>\n",
       "  </thead>\n",
       "  <tbody>\n",
       "    <tr>\n",
       "      <th>0</th>\n",
       "      <td>39</td>\n",
       "      <td>State-gov</td>\n",
       "      <td>77516</td>\n",
       "      <td>Bachelors</td>\n",
       "      <td>13</td>\n",
       "      <td>Never-married</td>\n",
       "      <td>Adm-clerical</td>\n",
       "      <td>Not-in-family</td>\n",
       "      <td>White</td>\n",
       "      <td>Male</td>\n",
       "      <td>2174</td>\n",
       "      <td>0</td>\n",
       "      <td>40</td>\n",
       "      <td>United-States</td>\n",
       "      <td>&lt;=50K</td>\n",
       "    </tr>\n",
       "    <tr>\n",
       "      <th>1</th>\n",
       "      <td>50</td>\n",
       "      <td>Self-emp-not-inc</td>\n",
       "      <td>83311</td>\n",
       "      <td>Bachelors</td>\n",
       "      <td>13</td>\n",
       "      <td>Married-civ-spouse</td>\n",
       "      <td>Exec-managerial</td>\n",
       "      <td>Husband</td>\n",
       "      <td>White</td>\n",
       "      <td>Male</td>\n",
       "      <td>0</td>\n",
       "      <td>0</td>\n",
       "      <td>13</td>\n",
       "      <td>United-States</td>\n",
       "      <td>&lt;=50K</td>\n",
       "    </tr>\n",
       "    <tr>\n",
       "      <th>2</th>\n",
       "      <td>38</td>\n",
       "      <td>Private</td>\n",
       "      <td>215646</td>\n",
       "      <td>HS-grad</td>\n",
       "      <td>9</td>\n",
       "      <td>Divorced</td>\n",
       "      <td>Handlers-cleaners</td>\n",
       "      <td>Not-in-family</td>\n",
       "      <td>White</td>\n",
       "      <td>Male</td>\n",
       "      <td>0</td>\n",
       "      <td>0</td>\n",
       "      <td>40</td>\n",
       "      <td>United-States</td>\n",
       "      <td>&lt;=50K</td>\n",
       "    </tr>\n",
       "    <tr>\n",
       "      <th>3</th>\n",
       "      <td>53</td>\n",
       "      <td>Private</td>\n",
       "      <td>234721</td>\n",
       "      <td>11th</td>\n",
       "      <td>7</td>\n",
       "      <td>Married-civ-spouse</td>\n",
       "      <td>Handlers-cleaners</td>\n",
       "      <td>Husband</td>\n",
       "      <td>Black</td>\n",
       "      <td>Male</td>\n",
       "      <td>0</td>\n",
       "      <td>0</td>\n",
       "      <td>40</td>\n",
       "      <td>United-States</td>\n",
       "      <td>&lt;=50K</td>\n",
       "    </tr>\n",
       "    <tr>\n",
       "      <th>4</th>\n",
       "      <td>28</td>\n",
       "      <td>Private</td>\n",
       "      <td>338409</td>\n",
       "      <td>Bachelors</td>\n",
       "      <td>13</td>\n",
       "      <td>Married-civ-spouse</td>\n",
       "      <td>Prof-specialty</td>\n",
       "      <td>Wife</td>\n",
       "      <td>Black</td>\n",
       "      <td>Female</td>\n",
       "      <td>0</td>\n",
       "      <td>0</td>\n",
       "      <td>40</td>\n",
       "      <td>Cuba</td>\n",
       "      <td>&lt;=50K</td>\n",
       "    </tr>\n",
       "  </tbody>\n",
       "</table>\n",
       "</div>"
      ],
      "text/plain": [
       "   年龄               单位性质      权重          学历  受教育时长                 婚姻状况  \\\n",
       "0  39          State-gov   77516   Bachelors     13        Never-married   \n",
       "1  50   Self-emp-not-inc   83311   Bachelors     13   Married-civ-spouse   \n",
       "2  38            Private  215646     HS-grad      9             Divorced   \n",
       "3  53            Private  234721        11th      7   Married-civ-spouse   \n",
       "4  28            Private  338409   Bachelors     13   Married-civ-spouse   \n",
       "\n",
       "                   职业            家庭情况      种族       性别  资产所得  资产损失  周工作时长  \\\n",
       "0        Adm-clerical   Not-in-family   White     Male  2174     0     40   \n",
       "1     Exec-managerial         Husband   White     Male     0     0     13   \n",
       "2   Handlers-cleaners   Not-in-family   White     Male     0     0     40   \n",
       "3   Handlers-cleaners         Husband   Black     Male     0     0     40   \n",
       "4      Prof-specialty            Wife   Black   Female     0     0     40   \n",
       "\n",
       "               原籍      收入  \n",
       "0   United-States   <=50K  \n",
       "1   United-States   <=50K  \n",
       "2   United-States   <=50K  \n",
       "3   United-States   <=50K  \n",
       "4            Cuba   <=50K  "
      ]
     },
     "execution_count": 27,
     "metadata": {},
     "output_type": "execute_result"
    }
   ],
   "source": [
    "data = pd.concat([lessthan50k[:10000],morethan50k],axis=0)\n",
    "data = data.sort_index()\n",
    "print(data.shape)\n",
    "data.head()"
   ]
  },
  {
   "cell_type": "markdown",
   "id": "1a74ff64",
   "metadata": {},
   "source": [
    "## 将数据集进行转换并编码处理\n",
    "将字符串字段转换为数值形式\n",
    "- 例："
   ]
  },
  {
   "cell_type": "code",
   "execution_count": 29,
   "id": "601cbc3f",
   "metadata": {},
   "outputs": [
    {
     "name": "stdout",
     "output_type": "stream",
     "text": [
      "Class mapping:\n",
      "audi --> 0\n",
      "bmw --> 1\n",
      "ford --> 2\n",
      "toyota --> 3\n",
      "标签： ['toyota', 'ford', 'audi']\n",
      "编码后的标签： [3, 2, 0]\n"
     ]
    }
   ],
   "source": [
    "# 导入LabelEncoder类\n",
    "from sklearn.preprocessing import LabelEncoder\n",
    "# 定义一个标记编码器\n",
    "label_encoder = LabelEncoder()\n",
    "# 创建一些标记\n",
    "input_classes=['audi','ford','audi','toyota','ford','bmw'] # 有重复值\n",
    "# 为标记编码\n",
    "label_encoder.fit(input_classes)\n",
    "# 输出编码结果\n",
    "print('Class mapping:')\n",
    "for i,item in enumerate(label_encoder.classes_):\n",
    "    print(item,'-->',i)\n",
    "    \n",
    "# 用编码器转换一组标记\n",
    "labels=['toyota','ford','audi']\n",
    "encoder_labels = label_encoder.transform(labels)\n",
    "print(\"标签：\",labels)\n",
    "print(\"编码后的标签：\",list(encoder_labels))"
   ]
  },
  {
   "cell_type": "code",
   "execution_count": 33,
   "id": "4ff1c353",
   "metadata": {},
   "outputs": [
    {
     "name": "stdout",
     "output_type": "stream",
     "text": [
      "编码处理完成的数据集\n",
      "特征维度：(17841, 14),标签维度：(17841,)\n"
     ]
    }
   ],
   "source": [
    "import numpy as np\n",
    "from sklearn.preprocessing import LabelEncoder\n",
    "# 定义一个标签编码函数\n",
    "def get_data_encoded(data):\n",
    "    # 将数据全部转换为字符串\n",
    "    data = np.array(data.astype(str))\n",
    "    # 定义标记编码器对象\n",
    "    encoder_list = []\n",
    "    # 准备一个数组存储数据集编码的结果\n",
    "    data_encoded = np.empty(data.shape)\n",
    "    # 将字符串数据转换为数值数据\n",
    "    for i,item in enumerate(data[0]):\n",
    "        # 判断该特征是否为数值数据\n",
    "        if item.isdigit():\n",
    "        # 如果不是就进行标记编码\n",
    "            data_encoded[:,i]=data[:,i]\n",
    "        else:\n",
    "            # 将所有的标记编码器存放在列表中，以便在后面测试数据时使用\n",
    "            encoder_list.append(LabelEncoder())\n",
    "            # 将字符串数据的特征列逐个进行编码\n",
    "            data_encoded[:,i]=encoder_list[-1].fit_transform(data[:,i])\n",
    "    # 返回数据编码结果和编码器列表\n",
    "    return data_encoded,encoder_list\n",
    "\n",
    "data_encoded,encoder_list = get_data_encoded(data)\n",
    "# 将编码处理完成的数据集拆分成特征矩阵X和类别矩阵y\n",
    "X = data_encoded[:,:-1].astype(int)\n",
    "# 数据集最后一列“收入”作为分类的类别标签，' <=50K'-->0，' >50K'-->1\n",
    "y = data_encoded[:,-1].astype(int)\n",
    "print('编码处理完成的数据集')\n",
    "print(\"特征维度：{},标签维度：{}\".format(X.shape,y.shape))"
   ]
  },
  {
   "cell_type": "markdown",
   "id": "d5cd759b",
   "metadata": {},
   "source": [
    "## 使用高斯朴素贝叶斯模型进行建模"
   ]
  },
  {
   "cell_type": "code",
   "execution_count": 38,
   "id": "894806ea",
   "metadata": {},
   "outputs": [
    {
     "name": "stdout",
     "output_type": "stream",
     "text": [
      "0.712780269058296\n",
      "0.719793768213405\n"
     ]
    }
   ],
   "source": [
    "from sklearn.naive_bayes import GaussianNB\n",
    "from sklearn.model_selection import train_test_split\n",
    "from sklearn.preprocessing import StandardScaler\n",
    "\n",
    "X_train,X_test,y_train,y_test = train_test_split(X,y,random_state=5)\n",
    "# 对数值进行预处理\n",
    "scaler = StandardScaler().fit(X_train)\n",
    "X_train_scaled = scaler.transform(X_train)\n",
    "X_test_scaled=scaler.transform(X_test)\n",
    "# 使用高斯贝叶斯拟合数据\n",
    "gnb = GaussianNB()\n",
    "gnb.fit(X_train_scaled,y_train)\n",
    "print(gnb.score(X_train_scaled,y_train))\n",
    "print(gnb.score(X_test_scaled,y_test))"
   ]
  },
  {
   "cell_type": "markdown",
   "id": "9e4ab97a",
   "metadata": {},
   "source": [
    "## 用模型进行预测"
   ]
  },
  {
   "cell_type": "code",
   "execution_count": 84,
   "id": "8a2994f1",
   "metadata": {
    "scrolled": true
   },
   "outputs": [
    {
     "name": "stdout",
     "output_type": "stream",
     "text": [
      "测试样本的收入等级：\n",
      " [0 0 1 1 0 0 0 0 0 1 1 0 0 0 0 0 0 0 0 0 0 0 0 0 0 0 0 0 1 0 0 0 0 1 0 0 0\n",
      " 0 0 0 0 1 1 0 0 0 0 1 0 0 0 0 0 0 0 0 0 0 0 0 1 1 1 1 0 1 0 0 0 0 0 0 0 0\n",
      " 0 0 0 0 0 1 0 0 1 0 0 0 0 0 0 0 0 0 0 0 0 0 0 0 0 1 0 0 1 0 1 0 0 0 0 0 0\n",
      " 0 0 0 1 0 0 0 1 1 0 1 1 0 0 0 0 0 0 0 0 0 0 0 0 0 1 1 0 0 1 0 0 0 1 1 0 0\n",
      " 0 0 1 0 0 0 0 1 0 0 0 1 0 0 1 0 0 0 0 0 0 0 0 1 0 1 0 1 0 1 0 1 0 0 0 0 0\n",
      " 1 1 0 1 1 0 0 1 0 0 0 0 0 1 1 0 0 1 1 0 0 0 0 1 0 0 1 1 0 0 0 0 0 1 1 0 0\n",
      " 0 0 0 0 0 0 0 0 1 0 0 0 0 0 0 1 0 0 0 1 0 0 0 0 0 0 1 0 0 0 0 0 0 1 0 0 0\n",
      " 0 0 0 0 0 1 0 0 1 1 1 0 0 0 0 0 0 0 0 0 0 0 0 0 0 1 0 1 0 0 0 1 1 0 0 0 0\n",
      " 1 0 0 0 0 0 0 0 0 0 0 0 0 1 0 0 0 0 0 0 0 1 1 1 0 0 0 0 0 1 0 1 0 0 0 1 0\n",
      " 0 0 0 0 0 0 1 0 0 1 0 1 0 0 1 0 1 0 0 0 0 0 1 1 0 0 0 0 0 1 0 0 1 1 1 1 0\n",
      " 0 0 0 0 0 0 0 0 0 1 0 0 0 0 0 1 0 0 0 1 0 0 0 1 0 0 0 0 0 0 0 0 0 0 0 0 1\n",
      " 0 1 1 0 0 0 0 0 1 0 0 0 0 0 0 0 0 1 0 0 0 0 1 0 1 0 0 0 0 0 0 1 0 0 0 0 0\n",
      " 1 1 1 0 0 0 0 0 0 1 0 1 0 0 1 1 0 1 0 0 0 1 0 0 0 0 0 0 0 0 0 0 1 0 0 1 0\n",
      " 0 1 1 0 0 0 1 0 0 0 0 0 1 1 0 1 0 0 1]\n",
      "预测样本的收入等级：\n",
      " [0 0 0 0 0 0 0 0 0 0 0 0 0 0 0 0 0 1 0 0 0 0 0 0 0 0 0 0 0 0 0 0 0 1 0 1 0\n",
      " 0 0 0 0 1 1 0 0 0 0 0 0 0 0 1 0 0 0 0 0 0 0 0 0 0 0 1 0 0 0 0 0 0 0 0 0 0\n",
      " 0 0 0 0 0 0 0 0 1 0 0 0 0 0 0 0 0 0 0 0 0 0 0 0 0 0 0 0 0 0 0 0 0 0 0 0 0\n",
      " 1 0 0 1 0 0 0 0 0 0 0 1 0 0 0 0 0 0 0 0 0 0 0 0 0 0 0 0 0 0 0 0 0 1 0 0 0\n",
      " 0 0 0 0 0 0 0 1 0 0 0 0 0 0 0 0 0 0 0 0 0 0 1 1 0 0 0 0 0 1 0 0 0 0 0 0 0\n",
      " 1 1 0 0 0 1 0 0 0 0 0 0 0 0 0 0 0 0 0 0 1 0 0 0 1 0 0 0 0 0 0 0 0 0 1 0 0\n",
      " 0 0 0 0 0 0 0 0 0 0 0 0 0 0 0 0 0 0 0 1 0 0 0 0 0 0 1 0 0 0 0 0 0 0 0 0 0\n",
      " 0 0 0 0 1 0 0 0 0 1 1 0 0 0 0 0 0 0 1 0 0 0 0 0 0 0 1 1 0 1 0 0 0 0 0 0 0\n",
      " 1 0 0 0 0 0 0 0 0 0 0 0 0 0 0 0 0 0 0 0 0 1 0 0 0 0 0 0 0 0 0 1 0 0 0 0 0\n",
      " 0 0 0 0 0 0 0 0 0 1 1 0 0 0 0 0 0 0 0 0 0 0 0 0 0 0 1 0 0 0 0 0 0 1 0 0 0\n",
      " 0 0 0 0 0 0 0 0 0 0 0 0 0 0 0 0 0 0 0 0 0 0 0 0 1 0 0 0 0 0 0 0 0 0 0 0 0\n",
      " 0 0 0 0 1 0 0 1 0 0 0 0 0 0 0 0 1 0 0 0 0 0 0 0 0 0 0 0 0 0 0 0 0 0 0 0 0\n",
      " 0 0 0 1 0 0 1 0 0 0 0 1 0 0 0 1 0 1 0 0 0 1 0 0 0 0 0 0 0 1 0 0 0 0 0 0 0\n",
      " 0 1 0 0 0 0 1 0 1 0 0 0 1 0 0 1 0 1 1]\n"
     ]
    }
   ],
   "source": [
    "data_encoded,encoder_list = get_data_encoded(data[10000:10500])\n",
    "test_encoded = data_encoded.astype(int)\n",
    "test_encoded_X = test_encoded[:,:-1]\n",
    "test_encoded_y = test_encoded[:,-1]\n",
    "print(\"测试样本的收入等级：\\n\",test_encoded_y)\n",
    "test_encoded_X_scaled = scaler.transform(test_encoded_X)\n",
    "pred_encoded_y = gnb.predict(test_encoded_X_scaled)\n",
    "print(\"预测样本的收入等级：\\n\",pred_encoded_y)"
   ]
  }
 ],
 "metadata": {
  "kernelspec": {
   "display_name": "Python 3 (ipykernel)",
   "language": "python",
   "name": "python3"
  },
  "language_info": {
   "codemirror_mode": {
    "name": "ipython",
    "version": 3
   },
   "file_extension": ".py",
   "mimetype": "text/x-python",
   "name": "python",
   "nbconvert_exporter": "python",
   "pygments_lexer": "ipython3",
   "version": "3.9.13"
  },
  "toc": {
   "base_numbering": 1,
   "nav_menu": {},
   "number_sections": true,
   "sideBar": true,
   "skip_h1_title": false,
   "title_cell": "Table of Contents",
   "title_sidebar": "Contents",
   "toc_cell": false,
   "toc_position": {},
   "toc_section_display": true,
   "toc_window_display": true
  }
 },
 "nbformat": 4,
 "nbformat_minor": 5
}
