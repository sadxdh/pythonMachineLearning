{
 "cells": [
  {
   "cell_type": "markdown",
   "id": "5ef6ac85",
   "metadata": {},
   "source": [
    "# 伯努利朴素贝叶斯模型实现天气预测"
   ]
  },
  {
   "cell_type": "markdown",
   "id": "8dc640d1",
   "metadata": {},
   "source": [
    "## 数据收集和分析"
   ]
  },
  {
   "cell_type": "code",
   "execution_count": 19,
   "id": "05a7474c",
   "metadata": {},
   "outputs": [
    {
     "name": "stdout",
     "output_type": "stream",
     "text": [
      "feature counts:\n",
      " {0: array([1, 2, 0, 4]), 1: array([1, 3, 3, 0])}\n"
     ]
    }
   ],
   "source": [
    "import numpy as np\n",
    "X = np.array([\n",
    "    [0,1,0,1],\n",
    "    [1,1,1,0],\n",
    "    [0,1,1,0],\n",
    "    [0,0,0,1],\n",
    "    [0,1,1,0],\n",
    "    [0,1,0,1],\n",
    "    [1,0,0,1]\n",
    "])\n",
    "y = np.array([0,1,1,0,1,0,0])\n",
    "# 对不同分类计算每个特征值为1的数量\n",
    "counts = {}\n",
    "for label in np.unique(y):\n",
    "    counts[label] = X[y==label].sum(axis=0)\n",
    "print(\"feature counts:\\n\",counts)"
   ]
  },
  {
   "cell_type": "markdown",
   "id": "8038531c",
   "metadata": {},
   "source": [
    "- y为0分类时（没有下雨），有1天刮北风，有2天闷热，有0天多云，有4天报有雨\n",
    "- y为1分类时（  有下雨），有1天刮北风，有3天闷热，有3天多云，有0天报有雨"
   ]
  },
  {
   "cell_type": "markdown",
   "id": "8b24dd13",
   "metadata": {},
   "source": [
    "## 创建伯努利朴素贝叶斯模型并进行天气预测"
   ]
  },
  {
   "cell_type": "code",
   "execution_count": 30,
   "id": "9d709de7",
   "metadata": {},
   "outputs": [
    {
     "name": "stdout",
     "output_type": "stream",
     "text": [
      "预测有雨\n"
     ]
    }
   ],
   "source": [
    "# 导入BernoulliNB类\n",
    "from sklearn.naive_bayes import BernoulliNB\n",
    "# 使用伯努利朴素贝叶斯模型拟合数据\n",
    "clf = BernoulliNB()\n",
    "clf.fit(X,y)\n",
    "# 要进行预测的这一天，0刮北风，0闷热，1多云，0报有雨\n",
    "next_day = [[0,0,1,0]]\n",
    "pred_day = clf.predict(next_day)\n",
    "if pred_day[0] == 1:\n",
    "    print(\"预测有雨\")\n",
    "else:\n",
    "    print(\"预测无雨\")"
   ]
  },
  {
   "cell_type": "code",
   "execution_count": 31,
   "id": "6b9017e0",
   "metadata": {},
   "outputs": [
    {
     "name": "stdout",
     "output_type": "stream",
     "text": [
      "不下雨的概率是： 0.13848881010414352\n",
      "会下雨的概率是： 0.8615111898958564\n"
     ]
    }
   ],
   "source": [
    "# 模型预测分类概率\n",
    "pred_prob = clf.predict_proba(next_day)\n",
    "print(\"不下雨的概率是：\",pred_prob[0,0])\n",
    "print(\"会下雨的概率是：\",pred_prob[0,1])"
   ]
  },
  {
   "cell_type": "markdown",
   "id": "0117f40f",
   "metadata": {},
   "source": [
    "## 预测并分析预测结果"
   ]
  },
  {
   "cell_type": "code",
   "execution_count": 32,
   "id": "de9e3357",
   "metadata": {},
   "outputs": [
    {
     "name": "stdout",
     "output_type": "stream",
     "text": [
      "预测无雨\n"
     ]
    }
   ],
   "source": [
    "next_day1 = [[1,1,0,1]]\n",
    "# 使用训练好的模型继续预测\n",
    "pred_day1 = clf.predict(next_day1)\n",
    "if pred_day1[0] == 1:\n",
    "    print(\"预测有雨\")\n",
    "else:\n",
    "    print(\"预测无雨\")"
   ]
  },
  {
   "cell_type": "code",
   "execution_count": 33,
   "id": "bd10908c",
   "metadata": {},
   "outputs": [
    {
     "name": "stdout",
     "output_type": "stream",
     "text": [
      "不下雨的概率是： 0.92340878198688\n",
      "会下雨的概率是： 0.07659121801311984\n"
     ]
    }
   ],
   "source": [
    "# 模型预测分类概率\n",
    "pred_prob1 = clf.predict_proba(next_day1)\n",
    "print(\"不下雨的概率是：\",pred_prob1[0,0])\n",
    "print(\"会下雨的概率是：\",pred_prob1[0,1])"
   ]
  },
  {
   "cell_type": "code",
   "execution_count": 35,
   "id": "3d605236",
   "metadata": {},
   "outputs": [
    {
     "name": "stdout",
     "output_type": "stream",
     "text": [
      "未来两天下雨的预测结果为： [1 0]\n",
      "未来两天下雨的预测分类概率为：\n",
      " [[0.13848881 0.86151119]\n",
      " [0.92340878 0.07659122]]\n"
     ]
    }
   ],
   "source": [
    "next_day2 = [[0,0,1,0],[1,1,0,1]]\n",
    "# 使用训练好的模型继续预测\n",
    "pred_day2 = clf.predict(next_day2)\n",
    "print(\"未来两天下雨的预测结果为：\",pred_day2)\n",
    "# 模型预测分类概率\n",
    "pred_prob2 = clf.predict_proba(next_day2)\n",
    "print(\"未来两天下雨的预测分类概率为：\\n\",pred_prob2)"
   ]
  },
  {
   "cell_type": "markdown",
   "id": "268fb994",
   "metadata": {},
   "source": [
    "# 高斯朴素贝叶斯模型实现连续值分类"
   ]
  },
  {
   "cell_type": "markdown",
   "id": "4d937aa0",
   "metadata": {},
   "source": [
    "## 准备数据集并用BernoullNB类进行分类"
   ]
  },
  {
   "cell_type": "markdown",
   "id": "4a21330a",
   "metadata": {},
   "source": [
    "## 使用高斯朴素贝叶斯模型进行分类"
   ]
  },
  {
   "cell_type": "markdown",
   "id": "caab77ed",
   "metadata": {},
   "source": [
    "# 多项式朴素贝叶斯模型实现离散特征分类"
   ]
  },
  {
   "cell_type": "markdown",
   "id": "76fb10ed",
   "metadata": {},
   "source": [
    "## 使用多项式朴素贝叶斯模型进行分类"
   ]
  },
  {
   "cell_type": "markdown",
   "id": "5435a25d",
   "metadata": {},
   "source": [
    "## 将数值离散化处理后重新进行分类"
   ]
  },
  {
   "cell_type": "markdown",
   "id": "19b5b1cd",
   "metadata": {},
   "source": [
    "# 估算个人收入等级"
   ]
  },
  {
   "cell_type": "markdown",
   "id": "b8309b6b",
   "metadata": {},
   "source": [
    "## 数据准备"
   ]
  },
  {
   "cell_type": "markdown",
   "id": "1a74ff64",
   "metadata": {},
   "source": [
    "## 将数据集进行转换并编码处理"
   ]
  },
  {
   "cell_type": "markdown",
   "id": "d5cd759b",
   "metadata": {},
   "source": [
    "## 使用高斯朴素贝叶斯模型进行建模"
   ]
  },
  {
   "cell_type": "markdown",
   "id": "9e4ab97a",
   "metadata": {},
   "source": [
    "## 用模型进行预测"
   ]
  }
 ],
 "metadata": {
  "kernelspec": {
   "display_name": "Python 3 (ipykernel)",
   "language": "python",
   "name": "python3"
  },
  "language_info": {
   "codemirror_mode": {
    "name": "ipython",
    "version": 3
   },
   "file_extension": ".py",
   "mimetype": "text/x-python",
   "name": "python",
   "nbconvert_exporter": "python",
   "pygments_lexer": "ipython3",
   "version": "3.9.12"
  },
  "toc": {
   "base_numbering": 1,
   "nav_menu": {},
   "number_sections": true,
   "sideBar": true,
   "skip_h1_title": false,
   "title_cell": "Table of Contents",
   "title_sidebar": "Contents",
   "toc_cell": false,
   "toc_position": {},
   "toc_section_display": true,
   "toc_window_display": true
  }
 },
 "nbformat": 4,
 "nbformat_minor": 5
}
