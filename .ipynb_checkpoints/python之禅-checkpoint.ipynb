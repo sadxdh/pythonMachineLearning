{
 "cells": [
  {
   "cell_type": "markdown",
   "id": "01946a3b",
   "metadata": {},
   "source": [
    "# python之禅"
   ]
  },
  {
   "cell_type": "code",
   "execution_count": 1,
   "id": "eabcc6d2",
   "metadata": {},
   "outputs": [
    {
     "name": "stdout",
     "output_type": "stream",
     "text": [
      "The Zen of Python, by Tim Peters\n",
      "\n",
      "Beautiful is better than ugly.\n",
      "Explicit is better than implicit.\n",
      "Simple is better than complex.\n",
      "Complex is better than complicated.\n",
      "Flat is better than nested.\n",
      "Sparse is better than dense.\n",
      "Readability counts.\n",
      "Special cases aren't special enough to break the rules.\n",
      "Although practicality beats purity.\n",
      "Errors should never pass silently.\n",
      "Unless explicitly silenced.\n",
      "In the face of ambiguity, refuse the temptation to guess.\n",
      "There should be one-- and preferably only one --obvious way to do it.\n",
      "Although that way may not be obvious at first unless you're Dutch.\n",
      "Now is better than never.\n",
      "Although never is often better than *right* now.\n",
      "If the implementation is hard to explain, it's a bad idea.\n",
      "If the implementation is easy to explain, it may be a good idea.\n",
      "Namespaces are one honking great idea -- let's do more of those!\n"
     ]
    }
   ],
   "source": [
    "import this"
   ]
  },
  {
   "cell_type": "code",
   "execution_count": null,
   "id": "10f1d7cd",
   "metadata": {},
   "outputs": [],
   "source": [
    "碧屏宁谧，思维浩瀚，编程世界长梦漫游。\n",
    "风清心宁，禅境融洽，似诗谱写的天真意愿。\n",
    "\n",
    "优美代码，如绘画抒情，思维词汇涟漪盈溢。\n",
    "每线每缕，蕴含千古经典，如探究星辰的奥秘。\n",
    "\n",
    "错误幻象，终觉醒，扁平命名宝藏蓄积。\n",
    "思绪湍流，如梦初醒，内心清明澄净。\n",
    "\n",
    "在世界复杂，寻觅简约真理，永不褪色。\n",
    "禅境之美，Python之禅之我心。"
   ]
  }
 ],
 "metadata": {
  "kernelspec": {
   "display_name": "Python 3 (ipykernel)",
   "language": "python",
   "name": "python3"
  },
  "language_info": {
   "codemirror_mode": {
    "name": "ipython",
    "version": 3
   },
   "file_extension": ".py",
   "mimetype": "text/x-python",
   "name": "python",
   "nbconvert_exporter": "python",
   "pygments_lexer": "ipython3",
   "version": "3.9.13"
  },
  "toc": {
   "base_numbering": 1,
   "nav_menu": {},
   "number_sections": true,
   "sideBar": true,
   "skip_h1_title": false,
   "title_cell": "Table of Contents",
   "title_sidebar": "Contents",
   "toc_cell": false,
   "toc_position": {},
   "toc_section_display": true,
   "toc_window_display": false
  }
 },
 "nbformat": 4,
 "nbformat_minor": 5
}
