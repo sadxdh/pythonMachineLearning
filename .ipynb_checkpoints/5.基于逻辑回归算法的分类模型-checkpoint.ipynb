{
 "cells": [
  {
   "cell_type": "markdown",
   "id": "b716c489",
   "metadata": {},
   "source": [
    "# 判断肿瘤是良性还是恶性"
   ]
  },
  {
   "cell_type": "markdown",
   "id": "18c3c3df",
   "metadata": {},
   "source": [
    "## 导入breast_cancer数据"
   ]
  },
  {
   "cell_type": "code",
   "execution_count": 9,
   "id": "6ad97976",
   "metadata": {},
   "outputs": [
    {
     "name": "stdout",
     "output_type": "stream",
     "text": [
      "breast_cancer数据集的维度为： (569, 30)\n",
      "breast_cancer数据集的类别标签为： [0 1]\n",
      "肿瘤分类： ['malignant' 'benign']\n"
     ]
    }
   ],
   "source": [
    "from sklearn.datasets import load_breast_cancer\n",
    "import numpy as np\n",
    "\n",
    "cancer = load_breast_cancer()\n",
    "X = cancer.data\n",
    "y = cancer.target\n",
    "print(\"breast_cancer数据集的维度为：\",X.shape)\n",
    "print(\"breast_cancer数据集的类别标签为：\",np.unique(y))\n",
    "# 输出数据集中标注好的肿瘤分类\n",
    "print(\"肿瘤分类：\",cancer['target_names'])"
   ]
  },
  {
   "cell_type": "markdown",
   "id": "793c550e",
   "metadata": {},
   "source": [
    "## 数据集拆分"
   ]
  },
  {
   "cell_type": "code",
   "execution_count": 13,
   "id": "e1baa952",
   "metadata": {},
   "outputs": [
    {
     "name": "stdout",
     "output_type": "stream",
     "text": [
      "训练集数据维度： (455, 30)\n",
      "训练集标签维度： (455,)\n",
      "测试集数据维度： (114, 30)\n",
      "测试集标签维度： (114,)\n"
     ]
    }
   ],
   "source": [
    "from sklearn.model_selection import train_test_split\n",
    "\n",
    "X_train,X_test,y_train,y_test = train_test_split(X,y,test_size=0.2,random_state=23)\n",
    "print(\"训练集数据维度：\",X_train.shape)\n",
    "print(\"训练集标签维度：\",y_train.shape)\n",
    "print(\"测试集数据维度：\",X_test.shape)\n",
    "print(\"测试集标签维度：\",y_test.shape)"
   ]
  },
  {
   "cell_type": "markdown",
   "id": "a71c8415",
   "metadata": {},
   "source": [
    "## 对数据集进行标准化处理"
   ]
  },
  {
   "cell_type": "code",
   "execution_count": 16,
   "id": "edceca98",
   "metadata": {},
   "outputs": [
    {
     "name": "stdout",
     "output_type": "stream",
     "text": [
      "标准化前训练集数据的最小值和最大值：0.0,3432.0\n",
      "标准化后训练集数据的最小值和最大值：-3.0877053290545198,11.680515420660797\n",
      "标准化前测试集集数据的最小值和最大值：0.0,4254.0\n",
      "标准化前测试集集数据的最小值和最大值：-2.3899291620166054,12.079675233802533\n"
     ]
    }
   ],
   "source": [
    "from sklearn.preprocessing import StandardScaler\n",
    "# 对训练集进行拟合生成规则\n",
    "scaler = StandardScaler().fit(X_train)\n",
    "# 对训练集数据进行转换\n",
    "x_train_scaled = scaler.transform(X_train)\n",
    "# 对测试集数据进行转换\n",
    "x_test_scaled = scaler.transform(X_test)\n",
    "\n",
    "print(\"标准化前训练集数据的最小值和最大值：{0},{1}\".format(X_train.min(),X_train.max()))\n",
    "print(\"标准化后训练集数据的最小值和最大值：{0},{1}\".format(x_train_scaled.min(),x_train_scaled.max()))\n",
    "print(\"标准化前测试集集数据的最小值和最大值：{0},{1}\".format(X_test.min(),X_test.max()))\n",
    "print(\"标准化前测试集集数据的最小值和最大值：{0},{1}\".format(x_test_scaled.min(),x_test_scaled.max()))"
   ]
  },
  {
   "cell_type": "markdown",
   "id": "110716aa",
   "metadata": {},
   "source": [
    "## 构建逻辑回归模型并训练模型"
   ]
  },
  {
   "cell_type": "code",
   "execution_count": 19,
   "id": "c2937b19",
   "metadata": {},
   "outputs": [
    {
     "name": "stdout",
     "output_type": "stream",
     "text": [
      "训练集得分：0.99\n"
     ]
    }
   ],
   "source": [
    "# 导入逻辑回归模型\n",
    "from sklearn.linear_model import LogisticRegression\n",
    "# 构建模型对象\n",
    "log_reg = LogisticRegression(solver='lbfgs')\n",
    "# 训练模型\n",
    "log_reg.fit(x_train_scaled,y_train)\n",
    "print(\"训练集得分：{:.2f}\".format(log_reg.score(x_train_scaled,y_train)))"
   ]
  },
  {
   "cell_type": "markdown",
   "id": "6b19cd75",
   "metadata": {},
   "source": [
    "## 逻辑回归模型分析与评估"
   ]
  },
  {
   "cell_type": "code",
   "execution_count": 24,
   "id": "dbc7662c",
   "metadata": {},
   "outputs": [
    {
     "name": "stdout",
     "output_type": "stream",
     "text": [
      "各特征的相关系数为：\n",
      " [[-0.27606602 -0.30310086 -0.29072665 -0.3524495  -0.08887332  0.69489667\n",
      "  -0.83159164 -0.90390551  0.04029888  0.36520447 -1.19757111  0.35202956\n",
      "  -0.74109251 -0.97521346 -0.27495612  0.6191506   0.25707841 -0.35592781\n",
      "   0.17637931  0.52153286 -0.87737574 -1.40343681 -0.76559961 -0.90697874\n",
      "  -0.79031648 -0.01037606 -0.93300924 -0.95154361 -0.90587541 -0.17442082]]\n",
      "模型的截距为： [0.10606283]\n",
      "模型的迭代次数： [32]\n"
     ]
    }
   ],
   "source": [
    "# 查看模型各特征的相关系数、截距和迭代次数\n",
    "print(\"各特征的相关系数为：\\n\",log_reg.coef_)\n",
    "print(\"模型的截距为：\",log_reg.intercept_)\n",
    "print(\"模型的迭代次数：\",log_reg.n_iter_)"
   ]
  },
  {
   "cell_type": "code",
   "execution_count": 27,
   "id": "560988a9",
   "metadata": {},
   "outputs": [
    {
     "name": "stdout",
     "output_type": "stream",
     "text": [
      "测试集准确率为：\n",
      "预测测试集前5个结果为： [1 0 0 1 0]\n",
      "测试集前5个对应类别的概率为： [[0.   1.  ]\n",
      " [0.54 0.46]\n",
      " [1.   0.  ]\n",
      " [0.03 0.97]\n",
      " [1.   0.  ]]\n"
     ]
    }
   ],
   "source": [
    "# 测试集的准确率\n",
    "test_score = log_reg.score(x_test_scaled,y_test)\n",
    "# 预测类别标签\n",
    "test_pred = log_reg.predict(x_test_scaled)\n",
    "# 类别的概率估计\n",
    "test_prob = log_reg.predict_proba(x_test_scaled)\n",
    "print(\"测试集准确率为：\".format(test_score))\n",
    "print(\"预测测试集前5个结果为：\",test_pred[:5])\n",
    "print(\"测试集前5个对应类别的概率为：\",np.round(test_prob[:5],2))"
   ]
  }
 ],
 "metadata": {
  "kernelspec": {
   "display_name": "Python 3 (ipykernel)",
   "language": "python",
   "name": "python3"
  },
  "language_info": {
   "codemirror_mode": {
    "name": "ipython",
    "version": 3
   },
   "file_extension": ".py",
   "mimetype": "text/x-python",
   "name": "python",
   "nbconvert_exporter": "python",
   "pygments_lexer": "ipython3",
   "version": "3.9.13"
  }
 },
 "nbformat": 4,
 "nbformat_minor": 5
}
