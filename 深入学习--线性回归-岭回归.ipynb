{
 "cells": [
  {
   "cell_type": "markdown",
   "id": "0b656822",
   "metadata": {},
   "source": [
    "# [sklearn官网-岭回归](https://scikit-learn.org/stable/auto_examples/linear_model/plot_ridge_path.html)"
   ]
  },
  {
   "cell_type": "code",
   "execution_count": 1,
   "id": "166b2814",
   "metadata": {},
   "outputs": [
    {
     "name": "stdout",
     "output_type": "stream",
     "text": [
      "(200, 5)\n",
      "(200,)\n"
     ]
    }
   ],
   "source": [
    "# 造出数据\n",
    "from sklearn.datasets import make_regression\n",
    "X,y = make_regression(200,5,noise=1)\n",
    "print(X.shape)\n",
    "print(y.shape)"
   ]
  },
  {
   "cell_type": "code",
   "execution_count": 2,
   "id": "a2aa2058",
   "metadata": {},
   "outputs": [
    {
     "data": {
      "text/plain": [
       "0.9997785909861034"
      ]
     },
     "execution_count": 2,
     "metadata": {},
     "output_type": "execute_result"
    }
   ],
   "source": [
    "from sklearn.linear_model import Ridge\n",
    "clf = Ridge(alpha=1.0)\n",
    "clf.fit(X,y)\n",
    "clf.score(X,y)"
   ]
  },
  {
   "cell_type": "code",
   "execution_count": 3,
   "id": "cd41ec3d",
   "metadata": {},
   "outputs": [
    {
     "data": {
      "text/plain": [
       "array([28.25412052, 25.26583015, 51.90521473,  3.11380889, 27.99642593])"
      ]
     },
     "execution_count": 3,
     "metadata": {},
     "output_type": "execute_result"
    }
   ],
   "source": [
    "clf.coef_"
   ]
  },
  {
   "cell_type": "code",
   "execution_count": 4,
   "id": "8bc037d0",
   "metadata": {},
   "outputs": [
    {
     "data": {
      "text/plain": [
       "-0.02458409086327329"
      ]
     },
     "execution_count": 4,
     "metadata": {},
     "output_type": "execute_result"
    }
   ],
   "source": [
    "# 截距\n",
    "clf.intercept_"
   ]
  },
  {
   "cell_type": "code",
   "execution_count": 5,
   "id": "dd5c525a",
   "metadata": {},
   "outputs": [],
   "source": [
    "# W 计算方法\n",
    "# 目标函数\n",
    "def myRidgeRegression(X,y,alpha=0.1):\n",
    "    import numpy as np\n",
    "    #     alpha = 0.1\n",
    "    XTX_I = np.dot(X.T,X)+ np.eye(X.shape[1])*alpha\n",
    "    #     print(XTX_I)\n",
    "    # 判断是否可逆\n",
    "    if np.linalg.det(XTX_I)==0:\n",
    "        print(\"This matrix can not inverse!\") # 这个矩阵不可逆\n",
    "        # return\n",
    "    W = np.dot(np.linalg.inv(XTX_I),np.dot(X.T,y))\n",
    "    #     print(W)\n",
    "    return W"
   ]
  },
  {
   "cell_type": "code",
   "execution_count": 6,
   "id": "7f6dbeaf",
   "metadata": {},
   "outputs": [
    {
     "name": "stdout",
     "output_type": "stream",
     "text": [
      "[28.39486536 25.38930999 52.08831667  3.12721663 28.09665752]\n"
     ]
    }
   ],
   "source": [
    "W = myRidgeRegression(X,y,0.2)\n",
    "print(W)"
   ]
  },
  {
   "cell_type": "code",
   "execution_count": 7,
   "id": "2889f3b3",
   "metadata": {},
   "outputs": [
    {
     "name": "stdout",
     "output_type": "stream",
     "text": [
      "0.9998015915602761\n"
     ]
    }
   ],
   "source": [
    "import numpy as np\n",
    "pre = np.dot(X,W)\n",
    "\n",
    "# score = 1-u/v\n",
    "u = ((pre-y)**2).sum()\n",
    "v = ((y-y.mean())**2).sum()\n",
    "print(1-u/v)"
   ]
  },
  {
   "cell_type": "code",
   "execution_count": null,
   "id": "5733b58f",
   "metadata": {},
   "outputs": [],
   "source": []
  },
  {
   "cell_type": "code",
   "execution_count": null,
   "id": "843b571d",
   "metadata": {},
   "outputs": [],
   "source": []
  },
  {
   "cell_type": "code",
   "execution_count": null,
   "id": "be8d48ba",
   "metadata": {},
   "outputs": [],
   "source": []
  },
  {
   "cell_type": "code",
   "execution_count": null,
   "id": "bfaa8786",
   "metadata": {},
   "outputs": [],
   "source": []
  }
 ],
 "metadata": {
  "kernelspec": {
   "display_name": "Python 3 (ipykernel)",
   "language": "python",
   "name": "python3"
  },
  "language_info": {
   "codemirror_mode": {
    "name": "ipython",
    "version": 3
   },
   "file_extension": ".py",
   "mimetype": "text/x-python",
   "name": "python",
   "nbconvert_exporter": "python",
   "pygments_lexer": "ipython3",
   "version": "3.9.12"
  },
  "toc": {
   "base_numbering": 1,
   "nav_menu": {},
   "number_sections": true,
   "sideBar": true,
   "skip_h1_title": false,
   "title_cell": "Table of Contents",
   "title_sidebar": "Contents",
   "toc_cell": false,
   "toc_position": {},
   "toc_section_display": true,
   "toc_window_display": false
  }
 },
 "nbformat": 4,
 "nbformat_minor": 5
}
