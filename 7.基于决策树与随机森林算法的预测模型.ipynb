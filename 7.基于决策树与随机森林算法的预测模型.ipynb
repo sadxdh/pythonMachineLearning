{
 "cells": [
  {
   "cell_type": "markdown",
   "id": "ba5df637",
   "metadata": {},
   "source": [
    "# 用决策树判断西瓜的好坏"
   ]
  },
  {
   "cell_type": "markdown",
   "id": "10c38fbe",
   "metadata": {},
   "source": [
    "## 数据读取和处理"
   ]
  },
  {
   "cell_type": "markdown",
   "id": "5d84ff1f",
   "metadata": {},
   "source": [
    "## 用决策树建模并作出预测"
   ]
  },
  {
   "cell_type": "markdown",
   "id": "ead0b4ab",
   "metadata": {},
   "source": [
    "## 决策树的分类过程展示"
   ]
  },
  {
   "cell_type": "markdown",
   "id": "29a1e634",
   "metadata": {},
   "source": [
    "# 决策树和随机森林实现酒分类的对比"
   ]
  },
  {
   "cell_type": "markdown",
   "id": "f45c263a",
   "metadata": {},
   "source": [
    "## 数据准备"
   ]
  },
  {
   "cell_type": "code",
   "execution_count": 17,
   "id": "331a0d02",
   "metadata": {},
   "outputs": [
    {
     "name": "stdout",
     "output_type": "stream",
     "text": [
      "训练集数据的维度为： (133, 13)\n",
      "训练集标签的维度为： (133,)\n",
      "测试集数据的维度为： (45, 13)\n",
      "测试集标签的维度为： (45,)\n"
     ]
    }
   ],
   "source": [
    "import numpy as np\n",
    "import pandas as pd\n",
    "from sklearn.datasets import load_wine\n",
    "from sklearn.model_selection import train_test_split\n",
    "wine = load_wine()\n",
    "# 读取wine数据\n",
    "X = wine.data\n",
    "y = wine.target\n",
    "X_train,X_test,y_train,y_test = train_test_split(X,y,random_state=0)\n",
    "print(\"训练集数据的维度为：\",X_train.shape)\n",
    "print(\"训练集标签的维度为：\",y_train.shape)\n",
    "print(\"测试集数据的维度为：\",X_test.shape)\n",
    "print(\"测试集标签的维度为：\",y_test.shape)"
   ]
  },
  {
   "cell_type": "markdown",
   "id": "fd00122c",
   "metadata": {},
   "source": [
    "## 构建与评价分类模型"
   ]
  },
  {
   "cell_type": "code",
   "execution_count": 18,
   "id": "b7ab7a44",
   "metadata": {},
   "outputs": [
    {
     "name": "stdout",
     "output_type": "stream",
     "text": [
      "决策树模型得分： 0.9333333333333333\n",
      "随机森林模型得分： 0.9777777777777777\n"
     ]
    }
   ],
   "source": [
    "# 决策树和随机森林模型\n",
    "from sklearn.tree import DecisionTreeClassifier\n",
    "from sklearn.ensemble import RandomForestClassifier\n",
    "# 对比随机森林分类器和决策树\n",
    "clf = DecisionTreeClassifier(max_depth=3)\n",
    "rfc = RandomForestClassifier(n_estimators=20,random_state=8)\n",
    "clf = clf.fit(X_train,y_train)\n",
    "rfc = rfc.fit(X_train,y_train)\n",
    "score_c = clf.score(X_test,y_test)\n",
    "score_r = rfc.score(X_test,y_test)\n",
    "print(\"决策树模型得分：\",score_c)\n",
    "print(\"随机森林模型得分：\",score_r)"
   ]
  },
  {
   "cell_type": "markdown",
   "id": "bd61f4c7",
   "metadata": {},
   "source": [
    "## 使用交叉验证评估模型"
   ]
  },
  {
   "cell_type": "code",
   "execution_count": 21,
   "id": "f8b55d5f",
   "metadata": {},
   "outputs": [
    {
     "data": {
      "image/png": "[encoded data removed]",
      "text/plain": [
       "<Figure size 432x288 with 1 Axes>"
      ]
     },
     "metadata": {
      "needs_background": "light"
     },
     "output_type": "display_data"
    }
   ],
   "source": [
    "import matplotlib.pyplot as plt\n",
    "# 用于交叉验证\n",
    "from sklearn.model_selection import cross_val_score\n",
    "# 为了观察更稳定的结果，下面进行10组交叉验证\n",
    "rfc_1 = []\n",
    "clf_1 = []\n",
    "for i in range(10):\n",
    "    rfc = RandomForestClassifier(n_estimators=20)\n",
    "    rfc_s = cross_val_score(rfc,X,y,cv=3).mean()\n",
    "    rfc_1.append(rfc_s)\n",
    "    clf = DecisionTreeClassifier(max_depth=3)\n",
    "    clf_s = cross_val_score(clf,X,y,cv=3).mean()\n",
    "    clf_1.append(clf_s)\n",
    "# 绘制交叉验证评分图\n",
    "plt.figure()\n",
    "plt.plot(range(1,11),rfc_1,'r-',label=\"RandomForestClassifier\")\n",
    "plt.plot(range(1,11),clf_1,'b--',label=\"DecisionTreeClassifier \")\n",
    "plt.xlabel(\"Number of iterations\")\n",
    "plt.ylabel(\"Score\")\n",
    "plt.legend()\n",
    "plt.show()"
   ]
  },
  {
   "cell_type": "markdown",
   "id": "986f98ae",
   "metadata": {},
   "source": [
    "# 波士顿房价预测"
   ]
  },
  {
   "cell_type": "markdown",
   "id": "efcd0c4f",
   "metadata": {},
   "source": [
    "## 导入Boston房价数据"
   ]
  },
  {
   "cell_type": "markdown",
   "id": "f40b7e83",
   "metadata": {},
   "source": [
    "## 构建线性回归模型"
   ]
  },
  {
   "cell_type": "markdown",
   "id": "356adeec",
   "metadata": {},
   "source": [
    "## 使用随机森林进行建模"
   ]
  },
  {
   "cell_type": "markdown",
   "id": "c3a37f70",
   "metadata": {},
   "source": [
    "## 预测房价并绘制对比图"
   ]
  }
 ],
 "metadata": {
  "kernelspec": {
   "display_name": "Python 3 (ipykernel)",
   "language": "python",
   "name": "python3"
  },
  "language_info": {
   "codemirror_mode": {
    "name": "ipython",
    "version": 3
   },
   "file_extension": ".py",
   "mimetype": "text/x-python",
   "name": "python",
   "nbconvert_exporter": "python",
   "pygments_lexer": "ipython3",
   "version": "3.9.12"
  },
  "toc": {
   "base_numbering": 1,
   "nav_menu": {},
   "number_sections": true,
   "sideBar": true,
   "skip_h1_title": false,
   "title_cell": "Table of Contents",
   "title_sidebar": "Contents",
   "toc_cell": false,
   "toc_position": {},
   "toc_section_display": true,
   "toc_window_display": true
  }
 },
 "nbformat": 4,
 "nbformat_minor": 5
}
